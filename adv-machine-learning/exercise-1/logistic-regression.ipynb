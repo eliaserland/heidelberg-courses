{
 "cells": [
  {
   "source": [
    "# Exercise 1\n",
    "## Advanced Machine Learning, SoSe 2021\n",
    "### Authors: Aaron Osburg, Elias Olofsson\n",
    "    Version information:\n",
    "        2021-04-28: v.1.0. First public release. "
   ],
   "cell_type": "markdown",
   "metadata": {}
  },
  {
   "cell_type": "code",
   "execution_count": 1,
   "metadata": {},
   "outputs": [],
   "source": [
    "import numpy as np\n",
    "import matplotlib.pyplot as plt\n",
    "plt.rc('image', cmap='gray')\n",
    "\n",
    "# Produce inline vector graphics\n",
    "%config InlineBackend.figure_format = 'svg'"
   ]
  },
  {
   "source": [
    "## 1. Loading the Dataset (2 pts)"
   ],
   "cell_type": "markdown",
   "metadata": {}
  },
  {
   "cell_type": "code",
   "execution_count": 2,
   "metadata": {},
   "outputs": [
    {
     "output_type": "stream",
     "name": "stdout",
     "text": [
      "dict_keys(['data', 'target', 'target_names', 'images', 'DESCR'])\n"
     ]
    }
   ],
   "source": [
    "from sklearn.datasets import load_digits\n",
    "\n",
    "digits = load_digits()\n",
    "\n",
    "print(digits.keys())\n",
    "\n",
    "data         = digits['data']\n",
    "target       = digits['target']\n",
    "target_names = digits['target_names']\n",
    "images       = digits['images']"
   ]
  },
  {
   "cell_type": "code",
   "execution_count": 3,
   "metadata": {},
   "outputs": [
    {
     "output_type": "stream",
     "name": "stdout",
     "text": [
      "float64 (1797, 64)\nint64 (1797,)\nint64 (10,) [0 1 2 3 4 5 6 7 8 9]\nfloat64 (1797, 8, 8)\n"
     ]
    }
   ],
   "source": [
    "print(data.dtype, data.shape)\n",
    "print(target.dtype, target.shape)\n",
    "print(target_names.dtype, target_names.shape, target_names)\n",
    "print(images.dtype, images.shape)"
   ]
  },
  {
   "cell_type": "code",
   "execution_count": 4,
   "metadata": {},
   "outputs": [],
   "source": [
    "def create_binary_TS(label1, label2, data, target, target_names):\n",
    "    \"\"\"\n",
    "    Create a binary training set from a larger training set. Relabels\n",
    "    responses of class label1 to 1, and class label2 to -1.\n",
    "\n",
    "    Parameters:\n",
    "    -----------\n",
    "    label1: string or int\n",
    "        First class label.\n",
    "    label2: string or int\n",
    "        Second class label.\n",
    "    data: np.array shape=(N', D)\n",
    "        Feature matrix.\n",
    "    target: np.array shape=(N',)\n",
    "        Response vector. Containing integers corresponding to indices\n",
    "        of the class labels in target_names.\n",
    "    target_names: np.array of string/int values \n",
    "        Class labels.\n",
    "    \n",
    "    Returns:\n",
    "    --------\n",
    "    X: np.array shape=(N, D)\n",
    "        Reduced feature matrix.\n",
    "    y: np.array shape=(N,)\n",
    "        Reduced response vector.\n",
    "    \"\"\"\n",
    "    # Get target indices.\n",
    "    target_idx1, = np.where(target_names == label1)\n",
    "    target_idx2, = np.where(target_names == label2)\n",
    "\n",
    "    # Filter out the corresponding instances.\n",
    "    mask = (target == target_idx1) | (target == target_idx2)\n",
    "    X = data[mask]\n",
    "    y = target[mask]\n",
    "\n",
    "    # Relabel targets.\n",
    "    y[y == target_idx2] = -1\n",
    "    y[y == target_idx1] = 1\n",
    "\n",
    "    # Append column of ones to absorb the intercept.\n",
    "    X = np.hstack((X, np.ones(X.shape[0])[:, None]))\n",
    "\n",
    "    return X, y"
   ]
  },
  {
   "cell_type": "code",
   "execution_count": 5,
   "metadata": {},
   "outputs": [
    {
     "output_type": "stream",
     "name": "stdout",
     "text": [
      "(357, 65) (357,)\n"
     ]
    }
   ],
   "source": [
    "X, y = create_binary_TS(3, 8, data, target, target_names)\n",
    "print(X.shape, y.shape)"
   ]
  },
  {
   "cell_type": "code",
   "execution_count": 6,
   "metadata": {},
   "outputs": [
    {
     "output_type": "stream",
     "name": "stdout",
     "text": [
      "1\n"
     ]
    },
    {
     "output_type": "display_data",
     "data": {
      "text/plain": "<Figure size 432x288 with 1 Axes>",
      "image/svg+xml": "<?xml version=\"1.0\" encoding=\"utf-8\" standalone=\"no\"?>\n<!DOCTYPE svg PUBLIC \"-//W3C//DTD SVG 1.1//EN\"\n  \"http://www.w3.org/Graphics/SVG/1.1/DTD/svg11.dtd\">\n<!-- Created with matplotlib (https://matplotlib.org/) -->\n<svg height=\"248.518125pt\" version=\"1.1\" viewBox=\"0 0 245.2025 248.518125\" width=\"245.2025pt\" xmlns=\"http://www.w3.org/2000/svg\" xmlns:xlink=\"http://www.w3.org/1999/xlink\">\n <defs>\n  <style type=\"text/css\">\n*{stroke-linecap:butt;stroke-linejoin:round;}\n  </style>\n </defs>\n <g id=\"figure_1\">\n  <g id=\"patch_1\">\n   <path d=\"M 0 248.518125 \nL 245.2025 248.518125 \nL 245.2025 0 \nL 0 0 \nz\n\" style=\"fill:none;\"/>\n  </g>\n  <g id=\"axes_1\">\n   <g id=\"patch_2\">\n    <path d=\"M 20.5625 224.64 \nL 238.0025 224.64 \nL 238.0025 7.2 \nL 20.5625 7.2 \nz\n\" style=\"fill:#ffffff;\"/>\n   </g>\n   <g clip-path=\"url(#pccf1239d18)\">\n    <image height=\"218\" id=\"image19b2d638bc\" transform=\"scale(1 -1)translate(0 -218)\" width=\"218\" x=\"20.5625\" xlink:href=\"data:image/png;base64,\niVBORw0KGgoAAAANSUhEUgAAANoAAADaCAYAAADAHVzbAAAABHNCSVQICAgIfAhkiAAAAz9JREFUeJzt3FFxKkEURdHOqxjAAlpAAkgACWAhEkYLbQEJYGEkJCrYVPHWMnCGpHb13/0aY/yOD3S5XNK90+mU7lXmnNnW+XzOtmr/3v0B8D8QGgSEBgGhQUBoEBAaBIQGAaFBQGgQEBoEhAYBoUFAaBAQGgSEBgGhQUBoEBAaBIQGAaFBQGgQEBoEhAYBoUFAaBAQGgS+3/0Br7LZbNK98px1+duWZcm2auX/zIsGAaFBQGgQEBoEhAYBoUFAaBAQGgSEBgGhQUBoEBAaBIQGAaFBQGgQEBoEhAYBoUFAaBAQGgSEBgGhQUBoEBAaBIQGAaFBQGgQ+Njb+9fr9d2f8DLl7f05Z7a1rmu2VfOiQUBoEBAaBIQGAaFBQGgQEBoEhAYBoUFAaBAQGgSEBgGhQUBoEBAaBIQGAaFBQGgQEBoEhAYBoUFAaBAQGgSEBgGhQUBoEPgaY/y++yM+QXmm+3a7ZVul/X6f7pUnyL1oEBAaBIQGAaFBQGgQEBoEhAYBoUFAaBAQGgSEBgGhQUBoEBAaBIQGAaFBQGgQEBoEhAYBoUFAaBAQGgSEBgGhQUBoEBAaBL7f/QGvst1u073H45FtzTmzrePxmG2VJ7prXjQICA0CQoOA0CAgNAgIDQJCg4DQICA0CAgNAkKDgNAgIDQICA0CQoOA0CAgNAgIDQJCg4DQICA0CAgNAkKDgNAgIDQICA0C6Unw8kx3fV76+XxmW5/8d/xUXjQICA0CQoOA0CAgNAgIDQJCg4DQICA0CAgNAkKDgNAgIDQICA0CQoOA0CAgNAgIDQJCg4DQICA0CAgNAkKDgNAgIDQICA0CQoNAenv/dDplW4fDIdsaY4yfn59sa1mWbGu322Vbc85sq+ZFg4DQICA0CAgNAkKDgNAgIDQICA0CQoOA0CAgNAgIDQJCg4DQICA0CAgNAkKDgNAgIDQICA0CQoOA0CAgNAgIDQJCg4DQIJCeBL9er9nWuq7Z1hjtme7n85lt3e/3bOuTedEgIDQICA0CQoOA0CAgNAgIDQJCg4DQICA0CAgNAkKDgNAgIDQICA0CQoOA0CAgNAgIDQJCg4DQICA0CAgNAkKDgNAgIDQI/AG5CkCM6SOnqwAAAABJRU5ErkJggg==\" y=\"-6.64\"/>\n   </g>\n   <g id=\"matplotlib.axis_1\">\n    <g id=\"xtick_1\">\n     <g id=\"line2d_1\">\n      <defs>\n       <path d=\"M 0 0 \nL 0 3.5 \n\" id=\"m249cded090\" style=\"stroke:#000000;stroke-width:0.8;\"/>\n      </defs>\n      <g>\n       <use style=\"stroke:#000000;stroke-width:0.8;\" x=\"34.1525\" xlink:href=\"#m249cded090\" y=\"224.64\"/>\n      </g>\n     </g>\n     <g id=\"text_1\">\n      <!-- 0 -->\n      <defs>\n       <path d=\"M 31.78125 66.40625 \nQ 24.171875 66.40625 20.328125 58.90625 \nQ 16.5 51.421875 16.5 36.375 \nQ 16.5 21.390625 20.328125 13.890625 \nQ 24.171875 6.390625 31.78125 6.390625 \nQ 39.453125 6.390625 43.28125 13.890625 \nQ 47.125 21.390625 47.125 36.375 \nQ 47.125 51.421875 43.28125 58.90625 \nQ 39.453125 66.40625 31.78125 66.40625 \nz\nM 31.78125 74.21875 \nQ 44.046875 74.21875 50.515625 64.515625 \nQ 56.984375 54.828125 56.984375 36.375 \nQ 56.984375 17.96875 50.515625 8.265625 \nQ 44.046875 -1.421875 31.78125 -1.421875 \nQ 19.53125 -1.421875 13.0625 8.265625 \nQ 6.59375 17.96875 6.59375 36.375 \nQ 6.59375 54.828125 13.0625 64.515625 \nQ 19.53125 74.21875 31.78125 74.21875 \nz\n\" id=\"DejaVuSans-48\"/>\n      </defs>\n      <g transform=\"translate(30.97125 239.238437)scale(0.1 -0.1)\">\n       <use xlink:href=\"#DejaVuSans-48\"/>\n      </g>\n     </g>\n    </g>\n    <g id=\"xtick_2\">\n     <g id=\"line2d_2\">\n      <g>\n       <use style=\"stroke:#000000;stroke-width:0.8;\" x=\"88.5125\" xlink:href=\"#m249cded090\" y=\"224.64\"/>\n      </g>\n     </g>\n     <g id=\"text_2\">\n      <!-- 2 -->\n      <defs>\n       <path d=\"M 19.1875 8.296875 \nL 53.609375 8.296875 \nL 53.609375 0 \nL 7.328125 0 \nL 7.328125 8.296875 \nQ 12.9375 14.109375 22.625 23.890625 \nQ 32.328125 33.6875 34.8125 36.53125 \nQ 39.546875 41.84375 41.421875 45.53125 \nQ 43.3125 49.21875 43.3125 52.78125 \nQ 43.3125 58.59375 39.234375 62.25 \nQ 35.15625 65.921875 28.609375 65.921875 \nQ 23.96875 65.921875 18.8125 64.3125 \nQ 13.671875 62.703125 7.8125 59.421875 \nL 7.8125 69.390625 \nQ 13.765625 71.78125 18.9375 73 \nQ 24.125 74.21875 28.421875 74.21875 \nQ 39.75 74.21875 46.484375 68.546875 \nQ 53.21875 62.890625 53.21875 53.421875 \nQ 53.21875 48.921875 51.53125 44.890625 \nQ 49.859375 40.875 45.40625 35.40625 \nQ 44.1875 33.984375 37.640625 27.21875 \nQ 31.109375 20.453125 19.1875 8.296875 \nz\n\" id=\"DejaVuSans-50\"/>\n      </defs>\n      <g transform=\"translate(85.33125 239.238437)scale(0.1 -0.1)\">\n       <use xlink:href=\"#DejaVuSans-50\"/>\n      </g>\n     </g>\n    </g>\n    <g id=\"xtick_3\">\n     <g id=\"line2d_3\">\n      <g>\n       <use style=\"stroke:#000000;stroke-width:0.8;\" x=\"142.8725\" xlink:href=\"#m249cded090\" y=\"224.64\"/>\n      </g>\n     </g>\n     <g id=\"text_3\">\n      <!-- 4 -->\n      <defs>\n       <path d=\"M 37.796875 64.3125 \nL 12.890625 25.390625 \nL 37.796875 25.390625 \nz\nM 35.203125 72.90625 \nL 47.609375 72.90625 \nL 47.609375 25.390625 \nL 58.015625 25.390625 \nL 58.015625 17.1875 \nL 47.609375 17.1875 \nL 47.609375 0 \nL 37.796875 0 \nL 37.796875 17.1875 \nL 4.890625 17.1875 \nL 4.890625 26.703125 \nz\n\" id=\"DejaVuSans-52\"/>\n      </defs>\n      <g transform=\"translate(139.69125 239.238437)scale(0.1 -0.1)\">\n       <use xlink:href=\"#DejaVuSans-52\"/>\n      </g>\n     </g>\n    </g>\n    <g id=\"xtick_4\">\n     <g id=\"line2d_4\">\n      <g>\n       <use style=\"stroke:#000000;stroke-width:0.8;\" x=\"197.2325\" xlink:href=\"#m249cded090\" y=\"224.64\"/>\n      </g>\n     </g>\n     <g id=\"text_4\">\n      <!-- 6 -->\n      <defs>\n       <path d=\"M 33.015625 40.375 \nQ 26.375 40.375 22.484375 35.828125 \nQ 18.609375 31.296875 18.609375 23.390625 \nQ 18.609375 15.53125 22.484375 10.953125 \nQ 26.375 6.390625 33.015625 6.390625 \nQ 39.65625 6.390625 43.53125 10.953125 \nQ 47.40625 15.53125 47.40625 23.390625 \nQ 47.40625 31.296875 43.53125 35.828125 \nQ 39.65625 40.375 33.015625 40.375 \nz\nM 52.59375 71.296875 \nL 52.59375 62.3125 \nQ 48.875 64.0625 45.09375 64.984375 \nQ 41.3125 65.921875 37.59375 65.921875 \nQ 27.828125 65.921875 22.671875 59.328125 \nQ 17.53125 52.734375 16.796875 39.40625 \nQ 19.671875 43.65625 24.015625 45.921875 \nQ 28.375 48.1875 33.59375 48.1875 \nQ 44.578125 48.1875 50.953125 41.515625 \nQ 57.328125 34.859375 57.328125 23.390625 \nQ 57.328125 12.15625 50.6875 5.359375 \nQ 44.046875 -1.421875 33.015625 -1.421875 \nQ 20.359375 -1.421875 13.671875 8.265625 \nQ 6.984375 17.96875 6.984375 36.375 \nQ 6.984375 53.65625 15.1875 63.9375 \nQ 23.390625 74.21875 37.203125 74.21875 \nQ 40.921875 74.21875 44.703125 73.484375 \nQ 48.484375 72.75 52.59375 71.296875 \nz\n\" id=\"DejaVuSans-54\"/>\n      </defs>\n      <g transform=\"translate(194.05125 239.238437)scale(0.1 -0.1)\">\n       <use xlink:href=\"#DejaVuSans-54\"/>\n      </g>\n     </g>\n    </g>\n   </g>\n   <g id=\"matplotlib.axis_2\">\n    <g id=\"ytick_1\">\n     <g id=\"line2d_5\">\n      <defs>\n       <path d=\"M 0 0 \nL -3.5 0 \n\" id=\"m5dd66da1e3\" style=\"stroke:#000000;stroke-width:0.8;\"/>\n      </defs>\n      <g>\n       <use style=\"stroke:#000000;stroke-width:0.8;\" x=\"20.5625\" xlink:href=\"#m5dd66da1e3\" y=\"20.79\"/>\n      </g>\n     </g>\n     <g id=\"text_5\">\n      <!-- 0 -->\n      <g transform=\"translate(7.2 24.589219)scale(0.1 -0.1)\">\n       <use xlink:href=\"#DejaVuSans-48\"/>\n      </g>\n     </g>\n    </g>\n    <g id=\"ytick_2\">\n     <g id=\"line2d_6\">\n      <g>\n       <use style=\"stroke:#000000;stroke-width:0.8;\" x=\"20.5625\" xlink:href=\"#m5dd66da1e3\" y=\"47.97\"/>\n      </g>\n     </g>\n     <g id=\"text_6\">\n      <!-- 1 -->\n      <defs>\n       <path d=\"M 12.40625 8.296875 \nL 28.515625 8.296875 \nL 28.515625 63.921875 \nL 10.984375 60.40625 \nL 10.984375 69.390625 \nL 28.421875 72.90625 \nL 38.28125 72.90625 \nL 38.28125 8.296875 \nL 54.390625 8.296875 \nL 54.390625 0 \nL 12.40625 0 \nz\n\" id=\"DejaVuSans-49\"/>\n      </defs>\n      <g transform=\"translate(7.2 51.769219)scale(0.1 -0.1)\">\n       <use xlink:href=\"#DejaVuSans-49\"/>\n      </g>\n     </g>\n    </g>\n    <g id=\"ytick_3\">\n     <g id=\"line2d_7\">\n      <g>\n       <use style=\"stroke:#000000;stroke-width:0.8;\" x=\"20.5625\" xlink:href=\"#m5dd66da1e3\" y=\"75.15\"/>\n      </g>\n     </g>\n     <g id=\"text_7\">\n      <!-- 2 -->\n      <g transform=\"translate(7.2 78.949219)scale(0.1 -0.1)\">\n       <use xlink:href=\"#DejaVuSans-50\"/>\n      </g>\n     </g>\n    </g>\n    <g id=\"ytick_4\">\n     <g id=\"line2d_8\">\n      <g>\n       <use style=\"stroke:#000000;stroke-width:0.8;\" x=\"20.5625\" xlink:href=\"#m5dd66da1e3\" y=\"102.33\"/>\n      </g>\n     </g>\n     <g id=\"text_8\">\n      <!-- 3 -->\n      <defs>\n       <path d=\"M 40.578125 39.3125 \nQ 47.65625 37.796875 51.625 33 \nQ 55.609375 28.21875 55.609375 21.1875 \nQ 55.609375 10.40625 48.1875 4.484375 \nQ 40.765625 -1.421875 27.09375 -1.421875 \nQ 22.515625 -1.421875 17.65625 -0.515625 \nQ 12.796875 0.390625 7.625 2.203125 \nL 7.625 11.71875 \nQ 11.71875 9.328125 16.59375 8.109375 \nQ 21.484375 6.890625 26.8125 6.890625 \nQ 36.078125 6.890625 40.9375 10.546875 \nQ 45.796875 14.203125 45.796875 21.1875 \nQ 45.796875 27.640625 41.28125 31.265625 \nQ 36.765625 34.90625 28.71875 34.90625 \nL 20.21875 34.90625 \nL 20.21875 43.015625 \nL 29.109375 43.015625 \nQ 36.375 43.015625 40.234375 45.921875 \nQ 44.09375 48.828125 44.09375 54.296875 \nQ 44.09375 59.90625 40.109375 62.90625 \nQ 36.140625 65.921875 28.71875 65.921875 \nQ 24.65625 65.921875 20.015625 65.03125 \nQ 15.375 64.15625 9.8125 62.3125 \nL 9.8125 71.09375 \nQ 15.4375 72.65625 20.34375 73.4375 \nQ 25.25 74.21875 29.59375 74.21875 \nQ 40.828125 74.21875 47.359375 69.109375 \nQ 53.90625 64.015625 53.90625 55.328125 \nQ 53.90625 49.265625 50.4375 45.09375 \nQ 46.96875 40.921875 40.578125 39.3125 \nz\n\" id=\"DejaVuSans-51\"/>\n      </defs>\n      <g transform=\"translate(7.2 106.129219)scale(0.1 -0.1)\">\n       <use xlink:href=\"#DejaVuSans-51\"/>\n      </g>\n     </g>\n    </g>\n    <g id=\"ytick_5\">\n     <g id=\"line2d_9\">\n      <g>\n       <use style=\"stroke:#000000;stroke-width:0.8;\" x=\"20.5625\" xlink:href=\"#m5dd66da1e3\" y=\"129.51\"/>\n      </g>\n     </g>\n     <g id=\"text_9\">\n      <!-- 4 -->\n      <g transform=\"translate(7.2 133.309219)scale(0.1 -0.1)\">\n       <use xlink:href=\"#DejaVuSans-52\"/>\n      </g>\n     </g>\n    </g>\n    <g id=\"ytick_6\">\n     <g id=\"line2d_10\">\n      <g>\n       <use style=\"stroke:#000000;stroke-width:0.8;\" x=\"20.5625\" xlink:href=\"#m5dd66da1e3\" y=\"156.69\"/>\n      </g>\n     </g>\n     <g id=\"text_10\">\n      <!-- 5 -->\n      <defs>\n       <path d=\"M 10.796875 72.90625 \nL 49.515625 72.90625 \nL 49.515625 64.59375 \nL 19.828125 64.59375 \nL 19.828125 46.734375 \nQ 21.96875 47.46875 24.109375 47.828125 \nQ 26.265625 48.1875 28.421875 48.1875 \nQ 40.625 48.1875 47.75 41.5 \nQ 54.890625 34.8125 54.890625 23.390625 \nQ 54.890625 11.625 47.5625 5.09375 \nQ 40.234375 -1.421875 26.90625 -1.421875 \nQ 22.3125 -1.421875 17.546875 -0.640625 \nQ 12.796875 0.140625 7.71875 1.703125 \nL 7.71875 11.625 \nQ 12.109375 9.234375 16.796875 8.0625 \nQ 21.484375 6.890625 26.703125 6.890625 \nQ 35.15625 6.890625 40.078125 11.328125 \nQ 45.015625 15.765625 45.015625 23.390625 \nQ 45.015625 31 40.078125 35.4375 \nQ 35.15625 39.890625 26.703125 39.890625 \nQ 22.75 39.890625 18.8125 39.015625 \nQ 14.890625 38.140625 10.796875 36.28125 \nz\n\" id=\"DejaVuSans-53\"/>\n      </defs>\n      <g transform=\"translate(7.2 160.489219)scale(0.1 -0.1)\">\n       <use xlink:href=\"#DejaVuSans-53\"/>\n      </g>\n     </g>\n    </g>\n    <g id=\"ytick_7\">\n     <g id=\"line2d_11\">\n      <g>\n       <use style=\"stroke:#000000;stroke-width:0.8;\" x=\"20.5625\" xlink:href=\"#m5dd66da1e3\" y=\"183.87\"/>\n      </g>\n     </g>\n     <g id=\"text_11\">\n      <!-- 6 -->\n      <g transform=\"translate(7.2 187.669219)scale(0.1 -0.1)\">\n       <use xlink:href=\"#DejaVuSans-54\"/>\n      </g>\n     </g>\n    </g>\n    <g id=\"ytick_8\">\n     <g id=\"line2d_12\">\n      <g>\n       <use style=\"stroke:#000000;stroke-width:0.8;\" x=\"20.5625\" xlink:href=\"#m5dd66da1e3\" y=\"211.05\"/>\n      </g>\n     </g>\n     <g id=\"text_12\">\n      <!-- 7 -->\n      <defs>\n       <path d=\"M 8.203125 72.90625 \nL 55.078125 72.90625 \nL 55.078125 68.703125 \nL 28.609375 0 \nL 18.3125 0 \nL 43.21875 64.59375 \nL 8.203125 64.59375 \nz\n\" id=\"DejaVuSans-55\"/>\n      </defs>\n      <g transform=\"translate(7.2 214.849219)scale(0.1 -0.1)\">\n       <use xlink:href=\"#DejaVuSans-55\"/>\n      </g>\n     </g>\n    </g>\n   </g>\n   <g id=\"patch_3\">\n    <path d=\"M 20.5625 224.64 \nL 20.5625 7.2 \n\" style=\"fill:none;stroke:#000000;stroke-linecap:square;stroke-linejoin:miter;stroke-width:0.8;\"/>\n   </g>\n   <g id=\"patch_4\">\n    <path d=\"M 238.0025 224.64 \nL 238.0025 7.2 \n\" style=\"fill:none;stroke:#000000;stroke-linecap:square;stroke-linejoin:miter;stroke-width:0.8;\"/>\n   </g>\n   <g id=\"patch_5\">\n    <path d=\"M 20.5625 224.64 \nL 238.0025 224.64 \n\" style=\"fill:none;stroke:#000000;stroke-linecap:square;stroke-linejoin:miter;stroke-width:0.8;\"/>\n   </g>\n   <g id=\"patch_6\">\n    <path d=\"M 20.5625 7.2 \nL 238.0025 7.2 \n\" style=\"fill:none;stroke:#000000;stroke-linecap:square;stroke-linejoin:miter;stroke-width:0.8;\"/>\n   </g>\n  </g>\n </g>\n <defs>\n  <clipPath id=\"pccf1239d18\">\n   <rect height=\"217.44\" width=\"217.44\" x=\"20.5625\" y=\"7.2\"/>\n  </clipPath>\n </defs>\n</svg>\n"
     },
     "metadata": {
      "needs_background": "light"
     }
    },
    {
     "output_type": "stream",
     "name": "stdout",
     "text": [
      "-1\n"
     ]
    },
    {
     "output_type": "display_data",
     "data": {
      "text/plain": "<Figure size 432x288 with 1 Axes>",
      "image/svg+xml": "<?xml version=\"1.0\" encoding=\"utf-8\" standalone=\"no\"?>\n<!DOCTYPE svg PUBLIC \"-//W3C//DTD SVG 1.1//EN\"\n  \"http://www.w3.org/Graphics/SVG/1.1/DTD/svg11.dtd\">\n<!-- Created with matplotlib (https://matplotlib.org/) -->\n<svg height=\"248.518125pt\" version=\"1.1\" viewBox=\"0 0 245.2025 248.518125\" width=\"245.2025pt\" xmlns=\"http://www.w3.org/2000/svg\" xmlns:xlink=\"http://www.w3.org/1999/xlink\">\n <defs>\n  <style type=\"text/css\">\n*{stroke-linecap:butt;stroke-linejoin:round;}\n  </style>\n </defs>\n <g id=\"figure_1\">\n  <g id=\"patch_1\">\n   <path d=\"M 0 248.518125 \nL 245.2025 248.518125 \nL 245.2025 0 \nL 0 0 \nz\n\" style=\"fill:none;\"/>\n  </g>\n  <g id=\"axes_1\">\n   <g id=\"patch_2\">\n    <path d=\"M 20.5625 224.64 \nL 238.0025 224.64 \nL 238.0025 7.2 \nL 20.5625 7.2 \nz\n\" style=\"fill:#ffffff;\"/>\n   </g>\n   <g clip-path=\"url(#pc6423ca502)\">\n    <image height=\"218\" id=\"imageb56f2da4b9\" transform=\"scale(1 -1)translate(0 -218)\" width=\"218\" x=\"20.5625\" xlink:href=\"data:image/png;base64,\niVBORw0KGgoAAAANSUhEUgAAANoAAADaCAYAAADAHVzbAAAABHNCSVQICAgIfAhkiAAAA2FJREFUeJzt3FFRcmEURuHNP95jBGxCAysQgQjawAjQwAYeEygNiIAJ/FOwmMHnKfAemFnz3e3VzPzOHXp/f0/3np+fs62fn59sa1mWbGu322VbMzOXyyXb+pctwR8mNAgIDQJCg4DQICA0CAgNAkKDgNAgIDQICA0CQoOA0CAgNAgIDQJCg4DQICA0CAgNAkKDgNAgIDQICA0CQoOA0CAgNAisJjwJ/vj4WE3N+XzOtmZmNpvNXW59fX1lW6+vr9nWzMzLy0u25UWDgNAgIDQICA0CQoOA0CAgNAgIDQJCg4DQICA0CAgNAkKDgNAgIDQICA0CQoOA0CAgNAgIDQJCg4DQICA0CAgNAkKDgNAgIDQIPJRj5c349Xqdbc3M7Pf7bKv8H0+nU7Z1OByyrZoXDQJCg4DQICA0CAgNAkKDgNAgIDQICA0CQoOA0CAgNAgIDQJCg4DQICA0CAgNAkKDgNAgIDQICA0CQoOA0CAgNAgIDQJCg8BqZn5v/RHXsN1u072Pj490r/L09JRtnc/nbKvmRYOA0CAgNAgIDQJCg4DQICA0CAgNAkKDgNAgIDQICA0CQoOA0CAgNAgIDQJCg4DQICA0CAgNAkKDgNAgIDQICA0CQoOA0CDwcOsPuJbL5XLrT7iaz8/PbGtZlmyrPuNeniD3okFAaBAQGgSEBgGhQUBoEBAaBIQGAaFBQGgQEBoEhAYBoUFAaBAQGgSEBgGhQUBoEBAaBIQGAaFBQGgQEBoEhAYBoUFAaBC425Pgu90u3Tsej9lW+dvK0+qbzSbbmnESHO6O0CAgNAgIDQJCg4DQICA0CAgNAkKDgNAgIDQICA0CQoOA0CAgNAgIDQJCg4DQICA0CAgNAkKDgNAgIDQICA0CQoOA0CAgNAisZub31h9xDcuypHv13fhKeZ9+u91mWzUvGgSEBgGhQUBoEBAaBIQGAaFBQGgQEBoEhAYBoUFAaBAQGgSEBgGhQUBoEBAaBIQGAaFBQGgQEBoEhAYBoUFAaBAQGgSEBoGHW3/AtXx/f6d75Unww+GQbb29vWVb98yLBgGhQUBoEBAaBIQGAaFBQGgQEBoEhAYBoUFAaBAQGgSEBgGhQUBoEBAaBIQGAaFBQGgQEBoEhAYBoUFAaBAQGgSEBgGhQeA/wTNIS7heatEAAAAASUVORK5CYII=\" y=\"-6.64\"/>\n   </g>\n   <g id=\"matplotlib.axis_1\">\n    <g id=\"xtick_1\">\n     <g id=\"line2d_1\">\n      <defs>\n       <path d=\"M 0 0 \nL 0 3.5 \n\" id=\"m54a5ea1a6a\" style=\"stroke:#000000;stroke-width:0.8;\"/>\n      </defs>\n      <g>\n       <use style=\"stroke:#000000;stroke-width:0.8;\" x=\"34.1525\" xlink:href=\"#m54a5ea1a6a\" y=\"224.64\"/>\n      </g>\n     </g>\n     <g id=\"text_1\">\n      <!-- 0 -->\n      <defs>\n       <path d=\"M 31.78125 66.40625 \nQ 24.171875 66.40625 20.328125 58.90625 \nQ 16.5 51.421875 16.5 36.375 \nQ 16.5 21.390625 20.328125 13.890625 \nQ 24.171875 6.390625 31.78125 6.390625 \nQ 39.453125 6.390625 43.28125 13.890625 \nQ 47.125 21.390625 47.125 36.375 \nQ 47.125 51.421875 43.28125 58.90625 \nQ 39.453125 66.40625 31.78125 66.40625 \nz\nM 31.78125 74.21875 \nQ 44.046875 74.21875 50.515625 64.515625 \nQ 56.984375 54.828125 56.984375 36.375 \nQ 56.984375 17.96875 50.515625 8.265625 \nQ 44.046875 -1.421875 31.78125 -1.421875 \nQ 19.53125 -1.421875 13.0625 8.265625 \nQ 6.59375 17.96875 6.59375 36.375 \nQ 6.59375 54.828125 13.0625 64.515625 \nQ 19.53125 74.21875 31.78125 74.21875 \nz\n\" id=\"DejaVuSans-48\"/>\n      </defs>\n      <g transform=\"translate(30.97125 239.238437)scale(0.1 -0.1)\">\n       <use xlink:href=\"#DejaVuSans-48\"/>\n      </g>\n     </g>\n    </g>\n    <g id=\"xtick_2\">\n     <g id=\"line2d_2\">\n      <g>\n       <use style=\"stroke:#000000;stroke-width:0.8;\" x=\"88.5125\" xlink:href=\"#m54a5ea1a6a\" y=\"224.64\"/>\n      </g>\n     </g>\n     <g id=\"text_2\">\n      <!-- 2 -->\n      <defs>\n       <path d=\"M 19.1875 8.296875 \nL 53.609375 8.296875 \nL 53.609375 0 \nL 7.328125 0 \nL 7.328125 8.296875 \nQ 12.9375 14.109375 22.625 23.890625 \nQ 32.328125 33.6875 34.8125 36.53125 \nQ 39.546875 41.84375 41.421875 45.53125 \nQ 43.3125 49.21875 43.3125 52.78125 \nQ 43.3125 58.59375 39.234375 62.25 \nQ 35.15625 65.921875 28.609375 65.921875 \nQ 23.96875 65.921875 18.8125 64.3125 \nQ 13.671875 62.703125 7.8125 59.421875 \nL 7.8125 69.390625 \nQ 13.765625 71.78125 18.9375 73 \nQ 24.125 74.21875 28.421875 74.21875 \nQ 39.75 74.21875 46.484375 68.546875 \nQ 53.21875 62.890625 53.21875 53.421875 \nQ 53.21875 48.921875 51.53125 44.890625 \nQ 49.859375 40.875 45.40625 35.40625 \nQ 44.1875 33.984375 37.640625 27.21875 \nQ 31.109375 20.453125 19.1875 8.296875 \nz\n\" id=\"DejaVuSans-50\"/>\n      </defs>\n      <g transform=\"translate(85.33125 239.238437)scale(0.1 -0.1)\">\n       <use xlink:href=\"#DejaVuSans-50\"/>\n      </g>\n     </g>\n    </g>\n    <g id=\"xtick_3\">\n     <g id=\"line2d_3\">\n      <g>\n       <use style=\"stroke:#000000;stroke-width:0.8;\" x=\"142.8725\" xlink:href=\"#m54a5ea1a6a\" y=\"224.64\"/>\n      </g>\n     </g>\n     <g id=\"text_3\">\n      <!-- 4 -->\n      <defs>\n       <path d=\"M 37.796875 64.3125 \nL 12.890625 25.390625 \nL 37.796875 25.390625 \nz\nM 35.203125 72.90625 \nL 47.609375 72.90625 \nL 47.609375 25.390625 \nL 58.015625 25.390625 \nL 58.015625 17.1875 \nL 47.609375 17.1875 \nL 47.609375 0 \nL 37.796875 0 \nL 37.796875 17.1875 \nL 4.890625 17.1875 \nL 4.890625 26.703125 \nz\n\" id=\"DejaVuSans-52\"/>\n      </defs>\n      <g transform=\"translate(139.69125 239.238437)scale(0.1 -0.1)\">\n       <use xlink:href=\"#DejaVuSans-52\"/>\n      </g>\n     </g>\n    </g>\n    <g id=\"xtick_4\">\n     <g id=\"line2d_4\">\n      <g>\n       <use style=\"stroke:#000000;stroke-width:0.8;\" x=\"197.2325\" xlink:href=\"#m54a5ea1a6a\" y=\"224.64\"/>\n      </g>\n     </g>\n     <g id=\"text_4\">\n      <!-- 6 -->\n      <defs>\n       <path d=\"M 33.015625 40.375 \nQ 26.375 40.375 22.484375 35.828125 \nQ 18.609375 31.296875 18.609375 23.390625 \nQ 18.609375 15.53125 22.484375 10.953125 \nQ 26.375 6.390625 33.015625 6.390625 \nQ 39.65625 6.390625 43.53125 10.953125 \nQ 47.40625 15.53125 47.40625 23.390625 \nQ 47.40625 31.296875 43.53125 35.828125 \nQ 39.65625 40.375 33.015625 40.375 \nz\nM 52.59375 71.296875 \nL 52.59375 62.3125 \nQ 48.875 64.0625 45.09375 64.984375 \nQ 41.3125 65.921875 37.59375 65.921875 \nQ 27.828125 65.921875 22.671875 59.328125 \nQ 17.53125 52.734375 16.796875 39.40625 \nQ 19.671875 43.65625 24.015625 45.921875 \nQ 28.375 48.1875 33.59375 48.1875 \nQ 44.578125 48.1875 50.953125 41.515625 \nQ 57.328125 34.859375 57.328125 23.390625 \nQ 57.328125 12.15625 50.6875 5.359375 \nQ 44.046875 -1.421875 33.015625 -1.421875 \nQ 20.359375 -1.421875 13.671875 8.265625 \nQ 6.984375 17.96875 6.984375 36.375 \nQ 6.984375 53.65625 15.1875 63.9375 \nQ 23.390625 74.21875 37.203125 74.21875 \nQ 40.921875 74.21875 44.703125 73.484375 \nQ 48.484375 72.75 52.59375 71.296875 \nz\n\" id=\"DejaVuSans-54\"/>\n      </defs>\n      <g transform=\"translate(194.05125 239.238437)scale(0.1 -0.1)\">\n       <use xlink:href=\"#DejaVuSans-54\"/>\n      </g>\n     </g>\n    </g>\n   </g>\n   <g id=\"matplotlib.axis_2\">\n    <g id=\"ytick_1\">\n     <g id=\"line2d_5\">\n      <defs>\n       <path d=\"M 0 0 \nL -3.5 0 \n\" id=\"m037a7ea171\" style=\"stroke:#000000;stroke-width:0.8;\"/>\n      </defs>\n      <g>\n       <use style=\"stroke:#000000;stroke-width:0.8;\" x=\"20.5625\" xlink:href=\"#m037a7ea171\" y=\"20.79\"/>\n      </g>\n     </g>\n     <g id=\"text_5\">\n      <!-- 0 -->\n      <g transform=\"translate(7.2 24.589219)scale(0.1 -0.1)\">\n       <use xlink:href=\"#DejaVuSans-48\"/>\n      </g>\n     </g>\n    </g>\n    <g id=\"ytick_2\">\n     <g id=\"line2d_6\">\n      <g>\n       <use style=\"stroke:#000000;stroke-width:0.8;\" x=\"20.5625\" xlink:href=\"#m037a7ea171\" y=\"47.97\"/>\n      </g>\n     </g>\n     <g id=\"text_6\">\n      <!-- 1 -->\n      <defs>\n       <path d=\"M 12.40625 8.296875 \nL 28.515625 8.296875 \nL 28.515625 63.921875 \nL 10.984375 60.40625 \nL 10.984375 69.390625 \nL 28.421875 72.90625 \nL 38.28125 72.90625 \nL 38.28125 8.296875 \nL 54.390625 8.296875 \nL 54.390625 0 \nL 12.40625 0 \nz\n\" id=\"DejaVuSans-49\"/>\n      </defs>\n      <g transform=\"translate(7.2 51.769219)scale(0.1 -0.1)\">\n       <use xlink:href=\"#DejaVuSans-49\"/>\n      </g>\n     </g>\n    </g>\n    <g id=\"ytick_3\">\n     <g id=\"line2d_7\">\n      <g>\n       <use style=\"stroke:#000000;stroke-width:0.8;\" x=\"20.5625\" xlink:href=\"#m037a7ea171\" y=\"75.15\"/>\n      </g>\n     </g>\n     <g id=\"text_7\">\n      <!-- 2 -->\n      <g transform=\"translate(7.2 78.949219)scale(0.1 -0.1)\">\n       <use xlink:href=\"#DejaVuSans-50\"/>\n      </g>\n     </g>\n    </g>\n    <g id=\"ytick_4\">\n     <g id=\"line2d_8\">\n      <g>\n       <use style=\"stroke:#000000;stroke-width:0.8;\" x=\"20.5625\" xlink:href=\"#m037a7ea171\" y=\"102.33\"/>\n      </g>\n     </g>\n     <g id=\"text_8\">\n      <!-- 3 -->\n      <defs>\n       <path d=\"M 40.578125 39.3125 \nQ 47.65625 37.796875 51.625 33 \nQ 55.609375 28.21875 55.609375 21.1875 \nQ 55.609375 10.40625 48.1875 4.484375 \nQ 40.765625 -1.421875 27.09375 -1.421875 \nQ 22.515625 -1.421875 17.65625 -0.515625 \nQ 12.796875 0.390625 7.625 2.203125 \nL 7.625 11.71875 \nQ 11.71875 9.328125 16.59375 8.109375 \nQ 21.484375 6.890625 26.8125 6.890625 \nQ 36.078125 6.890625 40.9375 10.546875 \nQ 45.796875 14.203125 45.796875 21.1875 \nQ 45.796875 27.640625 41.28125 31.265625 \nQ 36.765625 34.90625 28.71875 34.90625 \nL 20.21875 34.90625 \nL 20.21875 43.015625 \nL 29.109375 43.015625 \nQ 36.375 43.015625 40.234375 45.921875 \nQ 44.09375 48.828125 44.09375 54.296875 \nQ 44.09375 59.90625 40.109375 62.90625 \nQ 36.140625 65.921875 28.71875 65.921875 \nQ 24.65625 65.921875 20.015625 65.03125 \nQ 15.375 64.15625 9.8125 62.3125 \nL 9.8125 71.09375 \nQ 15.4375 72.65625 20.34375 73.4375 \nQ 25.25 74.21875 29.59375 74.21875 \nQ 40.828125 74.21875 47.359375 69.109375 \nQ 53.90625 64.015625 53.90625 55.328125 \nQ 53.90625 49.265625 50.4375 45.09375 \nQ 46.96875 40.921875 40.578125 39.3125 \nz\n\" id=\"DejaVuSans-51\"/>\n      </defs>\n      <g transform=\"translate(7.2 106.129219)scale(0.1 -0.1)\">\n       <use xlink:href=\"#DejaVuSans-51\"/>\n      </g>\n     </g>\n    </g>\n    <g id=\"ytick_5\">\n     <g id=\"line2d_9\">\n      <g>\n       <use style=\"stroke:#000000;stroke-width:0.8;\" x=\"20.5625\" xlink:href=\"#m037a7ea171\" y=\"129.51\"/>\n      </g>\n     </g>\n     <g id=\"text_9\">\n      <!-- 4 -->\n      <g transform=\"translate(7.2 133.309219)scale(0.1 -0.1)\">\n       <use xlink:href=\"#DejaVuSans-52\"/>\n      </g>\n     </g>\n    </g>\n    <g id=\"ytick_6\">\n     <g id=\"line2d_10\">\n      <g>\n       <use style=\"stroke:#000000;stroke-width:0.8;\" x=\"20.5625\" xlink:href=\"#m037a7ea171\" y=\"156.69\"/>\n      </g>\n     </g>\n     <g id=\"text_10\">\n      <!-- 5 -->\n      <defs>\n       <path d=\"M 10.796875 72.90625 \nL 49.515625 72.90625 \nL 49.515625 64.59375 \nL 19.828125 64.59375 \nL 19.828125 46.734375 \nQ 21.96875 47.46875 24.109375 47.828125 \nQ 26.265625 48.1875 28.421875 48.1875 \nQ 40.625 48.1875 47.75 41.5 \nQ 54.890625 34.8125 54.890625 23.390625 \nQ 54.890625 11.625 47.5625 5.09375 \nQ 40.234375 -1.421875 26.90625 -1.421875 \nQ 22.3125 -1.421875 17.546875 -0.640625 \nQ 12.796875 0.140625 7.71875 1.703125 \nL 7.71875 11.625 \nQ 12.109375 9.234375 16.796875 8.0625 \nQ 21.484375 6.890625 26.703125 6.890625 \nQ 35.15625 6.890625 40.078125 11.328125 \nQ 45.015625 15.765625 45.015625 23.390625 \nQ 45.015625 31 40.078125 35.4375 \nQ 35.15625 39.890625 26.703125 39.890625 \nQ 22.75 39.890625 18.8125 39.015625 \nQ 14.890625 38.140625 10.796875 36.28125 \nz\n\" id=\"DejaVuSans-53\"/>\n      </defs>\n      <g transform=\"translate(7.2 160.489219)scale(0.1 -0.1)\">\n       <use xlink:href=\"#DejaVuSans-53\"/>\n      </g>\n     </g>\n    </g>\n    <g id=\"ytick_7\">\n     <g id=\"line2d_11\">\n      <g>\n       <use style=\"stroke:#000000;stroke-width:0.8;\" x=\"20.5625\" xlink:href=\"#m037a7ea171\" y=\"183.87\"/>\n      </g>\n     </g>\n     <g id=\"text_11\">\n      <!-- 6 -->\n      <g transform=\"translate(7.2 187.669219)scale(0.1 -0.1)\">\n       <use xlink:href=\"#DejaVuSans-54\"/>\n      </g>\n     </g>\n    </g>\n    <g id=\"ytick_8\">\n     <g id=\"line2d_12\">\n      <g>\n       <use style=\"stroke:#000000;stroke-width:0.8;\" x=\"20.5625\" xlink:href=\"#m037a7ea171\" y=\"211.05\"/>\n      </g>\n     </g>\n     <g id=\"text_12\">\n      <!-- 7 -->\n      <defs>\n       <path d=\"M 8.203125 72.90625 \nL 55.078125 72.90625 \nL 55.078125 68.703125 \nL 28.609375 0 \nL 18.3125 0 \nL 43.21875 64.59375 \nL 8.203125 64.59375 \nz\n\" id=\"DejaVuSans-55\"/>\n      </defs>\n      <g transform=\"translate(7.2 214.849219)scale(0.1 -0.1)\">\n       <use xlink:href=\"#DejaVuSans-55\"/>\n      </g>\n     </g>\n    </g>\n   </g>\n   <g id=\"patch_3\">\n    <path d=\"M 20.5625 224.64 \nL 20.5625 7.2 \n\" style=\"fill:none;stroke:#000000;stroke-linecap:square;stroke-linejoin:miter;stroke-width:0.8;\"/>\n   </g>\n   <g id=\"patch_4\">\n    <path d=\"M 238.0025 224.64 \nL 238.0025 7.2 \n\" style=\"fill:none;stroke:#000000;stroke-linecap:square;stroke-linejoin:miter;stroke-width:0.8;\"/>\n   </g>\n   <g id=\"patch_5\">\n    <path d=\"M 20.5625 224.64 \nL 238.0025 224.64 \n\" style=\"fill:none;stroke:#000000;stroke-linecap:square;stroke-linejoin:miter;stroke-width:0.8;\"/>\n   </g>\n   <g id=\"patch_6\">\n    <path d=\"M 20.5625 7.2 \nL 238.0025 7.2 \n\" style=\"fill:none;stroke:#000000;stroke-linecap:square;stroke-linejoin:miter;stroke-width:0.8;\"/>\n   </g>\n  </g>\n </g>\n <defs>\n  <clipPath id=\"pc6423ca502\">\n   <rect height=\"217.44\" width=\"217.44\" x=\"20.5625\" y=\"7.2\"/>\n  </clipPath>\n </defs>\n</svg>\n"
     },
     "metadata": {
      "needs_background": "light"
     }
    }
   ],
   "source": [
    "# Testing the first two instances.\n",
    "idx = 0\n",
    "print(y[idx])\n",
    "plt.imshow(X[idx][:-1].reshape(8,8))\n",
    "plt.show()\n",
    "\n",
    "idx = 1\n",
    "print(y[idx])\n",
    "plt.imshow(X[idx][:-1].reshape(8,8))\n",
    "plt.show()\n",
    "\n",
    "\n"
   ]
  },
  {
   "source": [
    "## 1.1 Classification with sklearn (6 pts)"
   ],
   "cell_type": "markdown",
   "metadata": {}
  },
  {
   "cell_type": "code",
   "execution_count": 7,
   "metadata": {},
   "outputs": [],
   "source": [
    "from sklearn.linear_model import LogisticRegression\n",
    "from sklearn import model_selection"
   ]
  },
  {
   "cell_type": "code",
   "execution_count": 8,
   "metadata": {},
   "outputs": [
    {
     "output_type": "display_data",
     "data": {
      "text/plain": "<Figure size 432x288 with 1 Axes>",
      "image/svg+xml": "<?xml version=\"1.0\" encoding=\"utf-8\" standalone=\"no\"?>\n<!DOCTYPE svg PUBLIC \"-//W3C//DTD SVG 1.1//EN\"\n  \"http://www.w3.org/Graphics/SVG/1.1/DTD/svg11.dtd\">\n<!-- Created with matplotlib (https://matplotlib.org/) -->\n<svg height=\"262.19625pt\" version=\"1.1\" viewBox=\"0 0 426.778125 262.19625\" width=\"426.778125pt\" xmlns=\"http://www.w3.org/2000/svg\" xmlns:xlink=\"http://www.w3.org/1999/xlink\">\n <defs>\n  <style type=\"text/css\">\n*{stroke-linecap:butt;stroke-linejoin:round;}\n  </style>\n </defs>\n <g id=\"figure_1\">\n  <g id=\"patch_1\">\n   <path d=\"M 0 262.19625 \nL 426.778125 262.19625 \nL 426.778125 0 \nL 0 0 \nz\n\" style=\"fill:none;\"/>\n  </g>\n  <g id=\"axes_1\">\n   <g id=\"patch_2\">\n    <path d=\"M 84.778125 224.64 \nL 419.578125 224.64 \nL 419.578125 7.2 \nL 84.778125 7.2 \nz\n\" style=\"fill:#ffffff;\"/>\n   </g>\n   <g id=\"PolyCollection_1\">\n    <path clip-path=\"url(#p7e6a55ce3c)\" d=\"M 99.996307 45.646764 \nL 99.996307 205.748606 \nL 100.759123 205.748606 \nL 101.521939 214.756364 \nL 102.284755 206.212726 \nL 103.047571 198.850502 \nL 103.810387 206.212726 \nL 104.573204 203.486136 \nL 105.33602 203.486136 \nL 106.098836 203.486136 \nL 106.861652 192.678524 \nL 107.624468 190.779825 \nL 108.387284 198.390209 \nL 109.1501 198.390209 \nL 109.912917 198.390209 \nL 110.675733 198.390209 \nL 111.438549 196.392261 \nL 112.201365 196.392261 \nL 112.964181 196.392261 \nL 113.726997 193.812817 \nL 114.489813 193.812817 \nL 115.252629 193.812817 \nL 116.015446 193.812817 \nL 116.778262 197.0854 \nL 117.541078 197.0854 \nL 118.303894 197.0854 \nL 119.06671 197.0854 \nL 119.829526 186.047862 \nL 120.592342 186.047862 \nL 121.355158 190.779825 \nL 122.117975 178.335641 \nL 122.880791 178.335641 \nL 123.643607 178.335641 \nL 124.406423 178.335641 \nL 125.169239 178.335641 \nL 125.932055 178.335641 \nL 126.694871 178.335641 \nL 127.457688 166.091592 \nL 128.220504 166.091592 \nL 128.98332 166.091592 \nL 129.746136 166.091592 \nL 130.508952 166.091592 \nL 131.271768 166.091592 \nL 132.034584 166.091592 \nL 132.7974 166.091592 \nL 133.560217 166.091592 \nL 134.323033 166.091592 \nL 135.085849 166.091592 \nL 135.848665 166.091592 \nL 136.611481 166.091592 \nL 137.374297 166.091592 \nL 138.137113 166.091592 \nL 138.89993 166.091592 \nL 139.662746 166.091592 \nL 140.425562 166.091592 \nL 141.188378 166.091592 \nL 141.951194 166.091592 \nL 142.71401 162.143706 \nL 143.476826 162.143706 \nL 144.239642 162.143706 \nL 145.002459 162.143706 \nL 145.765275 162.143706 \nL 146.528091 162.143706 \nL 147.290907 162.143706 \nL 148.053723 162.143706 \nL 148.816539 162.143706 \nL 149.579355 162.143706 \nL 150.342171 162.143706 \nL 151.104988 162.143706 \nL 151.867804 162.143706 \nL 152.63062 162.143706 \nL 153.393436 162.143706 \nL 154.156252 162.143706 \nL 154.919068 162.143706 \nL 155.681884 162.143706 \nL 156.444701 162.143706 \nL 157.207517 149.268029 \nL 157.970333 149.268029 \nL 158.733149 149.268029 \nL 159.495965 149.268029 \nL 160.258781 149.268029 \nL 161.021597 149.268029 \nL 161.784413 149.268029 \nL 162.54723 149.268029 \nL 163.310046 149.268029 \nL 164.072862 149.268029 \nL 164.835678 149.268029 \nL 165.598494 149.268029 \nL 166.36131 149.268029 \nL 167.124126 149.268029 \nL 167.886942 149.268029 \nL 168.649759 149.268029 \nL 169.412575 149.268029 \nL 170.175391 149.268029 \nL 170.938207 149.268029 \nL 171.701023 149.268029 \nL 172.463839 149.268029 \nL 173.226655 149.268029 \nL 173.989472 149.268029 \nL 174.752288 149.268029 \nL 175.515104 151.451925 \nL 176.27792 151.451925 \nL 177.040736 151.451925 \nL 177.803552 151.451925 \nL 178.566368 151.451925 \nL 179.329184 151.451925 \nL 180.092001 151.451925 \nL 180.854817 151.451925 \nL 181.617633 151.451925 \nL 182.380449 151.451925 \nL 183.143265 149.268029 \nL 183.906081 153.229166 \nL 184.668897 153.229166 \nL 185.431714 153.229166 \nL 186.19453 153.229166 \nL 186.957346 147.480767 \nL 187.720162 147.480767 \nL 188.482978 147.480767 \nL 189.245794 147.480767 \nL 190.00861 147.480767 \nL 190.771426 147.480767 \nL 191.534243 147.480767 \nL 192.297059 143.335568 \nL 193.059875 143.335568 \nL 193.822691 130.4058 \nL 194.585507 127.763183 \nL 195.348323 127.763183 \nL 196.111139 127.763183 \nL 196.873955 127.763183 \nL 197.636772 127.763183 \nL 198.399588 127.763183 \nL 199.162404 127.763183 \nL 199.92522 127.763183 \nL 200.688036 127.763183 \nL 201.450852 112.406119 \nL 202.213668 112.406119 \nL 202.976485 112.406119 \nL 203.739301 112.406119 \nL 204.502117 112.406119 \nL 205.264933 112.406119 \nL 206.027749 100.450038 \nL 206.790565 100.450038 \nL 207.553381 100.450038 \nL 208.316197 100.450038 \nL 209.079014 100.450038 \nL 209.84183 100.450038 \nL 210.604646 100.450038 \nL 211.367462 100.450038 \nL 212.130278 100.450038 \nL 212.893094 100.450038 \nL 213.65591 100.450038 \nL 214.418727 100.450038 \nL 215.181543 100.450038 \nL 215.944359 100.450038 \nL 216.707175 100.450038 \nL 217.469991 100.450038 \nL 218.232807 100.450038 \nL 218.995623 100.450038 \nL 219.758439 100.450038 \nL 220.521256 100.450038 \nL 221.284072 100.450038 \nL 222.046888 100.450038 \nL 222.809704 100.450038 \nL 223.57252 100.450038 \nL 224.335336 100.450038 \nL 225.098152 100.450038 \nL 225.860968 100.450038 \nL 226.623785 100.450038 \nL 227.386601 100.450038 \nL 228.149417 100.450038 \nL 228.912233 100.450038 \nL 229.675049 100.450038 \nL 230.437865 100.450038 \nL 231.200681 100.450038 \nL 231.963498 100.450038 \nL 232.726314 100.450038 \nL 233.48913 100.450038 \nL 234.251946 100.450038 \nL 235.014762 100.450038 \nL 235.777578 100.450038 \nL 236.540394 100.450038 \nL 237.30321 100.450038 \nL 238.066027 100.450038 \nL 238.828843 100.450038 \nL 239.591659 100.450038 \nL 240.354475 100.450038 \nL 241.117291 100.450038 \nL 241.880107 100.450038 \nL 242.642923 100.450038 \nL 243.405739 100.450038 \nL 244.168556 100.450038 \nL 244.931372 100.450038 \nL 245.694188 100.450038 \nL 246.457004 100.450038 \nL 247.21982 100.450038 \nL 247.982636 100.450038 \nL 248.745452 100.450038 \nL 249.508269 100.450038 \nL 250.271085 100.450038 \nL 251.033901 100.450038 \nL 251.796717 100.450038 \nL 252.559533 100.450038 \nL 253.322349 100.450038 \nL 254.085165 100.450038 \nL 254.847981 100.450038 \nL 255.610798 100.450038 \nL 256.373614 100.450038 \nL 257.13643 100.450038 \nL 257.899246 100.450038 \nL 258.662062 100.450038 \nL 259.424878 100.450038 \nL 260.187694 100.450038 \nL 260.950511 100.450038 \nL 261.713327 100.450038 \nL 262.476143 100.450038 \nL 263.238959 100.450038 \nL 264.001775 100.450038 \nL 264.764591 100.450038 \nL 265.527407 100.450038 \nL 266.290223 100.450038 \nL 267.05304 100.450038 \nL 267.815856 100.450038 \nL 268.578672 100.450038 \nL 269.341488 100.450038 \nL 270.104304 100.450038 \nL 270.86712 100.450038 \nL 271.629936 100.450038 \nL 272.392752 100.450038 \nL 273.155569 100.450038 \nL 273.918385 100.450038 \nL 274.681201 100.450038 \nL 275.444017 100.450038 \nL 276.206833 100.450038 \nL 276.969649 100.450038 \nL 277.732465 100.450038 \nL 278.495282 100.450038 \nL 279.258098 100.450038 \nL 280.020914 100.450038 \nL 280.78373 100.450038 \nL 281.546546 100.450038 \nL 282.309362 100.450038 \nL 283.072178 100.450038 \nL 283.834994 100.450038 \nL 284.597811 100.450038 \nL 285.360627 100.450038 \nL 286.123443 100.450038 \nL 286.886259 100.450038 \nL 287.649075 100.450038 \nL 288.411891 100.450038 \nL 289.174707 100.450038 \nL 289.937523 100.450038 \nL 290.70034 100.450038 \nL 291.463156 100.450038 \nL 292.225972 100.450038 \nL 292.988788 100.450038 \nL 293.751604 100.450038 \nL 294.51442 100.450038 \nL 295.277236 100.450038 \nL 296.040053 100.450038 \nL 296.802869 100.450038 \nL 297.565685 100.450038 \nL 298.328501 100.450038 \nL 299.091317 100.450038 \nL 299.854133 100.450038 \nL 300.616949 100.450038 \nL 301.379765 100.450038 \nL 302.142582 100.450038 \nL 302.905398 100.450038 \nL 303.668214 100.450038 \nL 304.43103 100.450038 \nL 305.193846 100.450038 \nL 305.956662 100.450038 \nL 306.719478 100.450038 \nL 307.482295 100.450038 \nL 308.245111 100.450038 \nL 309.007927 100.450038 \nL 309.770743 100.450038 \nL 310.533559 100.450038 \nL 311.296375 100.450038 \nL 312.059191 100.450038 \nL 312.822007 100.450038 \nL 313.584824 100.450038 \nL 314.34764 100.450038 \nL 315.110456 100.450038 \nL 315.873272 100.450038 \nL 316.636088 100.450038 \nL 317.398904 100.450038 \nL 318.16172 100.450038 \nL 318.924536 100.450038 \nL 319.687353 100.450038 \nL 320.450169 100.450038 \nL 321.212985 100.450038 \nL 321.975801 100.450038 \nL 322.738617 100.450038 \nL 323.501433 100.450038 \nL 324.264249 100.450038 \nL 325.027066 100.450038 \nL 325.789882 100.450038 \nL 326.552698 100.450038 \nL 327.315514 100.450038 \nL 328.07833 100.450038 \nL 328.841146 100.450038 \nL 329.603962 100.450038 \nL 330.366778 100.450038 \nL 331.129595 100.450038 \nL 331.892411 100.450038 \nL 332.655227 100.450038 \nL 333.418043 100.450038 \nL 334.180859 100.450038 \nL 334.943675 100.450038 \nL 335.706491 100.450038 \nL 336.469308 100.450038 \nL 337.232124 100.450038 \nL 337.99494 100.450038 \nL 338.757756 100.450038 \nL 339.520572 100.450038 \nL 340.283388 100.450038 \nL 341.046204 100.450038 \nL 341.80902 100.450038 \nL 342.571837 100.450038 \nL 343.334653 100.450038 \nL 344.097469 100.450038 \nL 344.860285 100.450038 \nL 345.623101 100.450038 \nL 346.385917 100.450038 \nL 347.148733 100.450038 \nL 347.911549 100.450038 \nL 348.674366 100.450038 \nL 349.437182 100.450038 \nL 350.199998 100.450038 \nL 350.962814 100.450038 \nL 351.72563 100.450038 \nL 352.488446 100.450038 \nL 353.251262 100.450038 \nL 354.014079 100.450038 \nL 354.776895 100.450038 \nL 355.539711 100.450038 \nL 356.302527 100.450038 \nL 357.065343 100.450038 \nL 357.828159 100.450038 \nL 358.590975 100.450038 \nL 359.353791 100.450038 \nL 360.116608 103.502556 \nL 360.879424 100.450038 \nL 361.64224 100.450038 \nL 362.405056 103.502556 \nL 363.167872 103.502556 \nL 363.930688 103.502556 \nL 364.693504 103.502556 \nL 365.45632 103.502556 \nL 366.219137 103.502556 \nL 366.981953 103.502556 \nL 367.744769 103.502556 \nL 368.507585 103.502556 \nL 369.270401 103.502556 \nL 370.033217 103.502556 \nL 370.796033 103.502556 \nL 371.55885 103.502556 \nL 372.321666 103.502556 \nL 373.084482 103.502556 \nL 373.847298 103.502556 \nL 374.610114 103.502556 \nL 375.37293 103.502556 \nL 376.135746 103.502556 \nL 376.898562 103.502556 \nL 377.661379 106.24711 \nL 378.424195 103.502556 \nL 379.187011 103.502556 \nL 379.949827 112.172111 \nL 380.712643 112.172111 \nL 381.475459 112.172111 \nL 382.238275 103.631042 \nL 383.001092 109.686053 \nL 383.763908 103.631042 \nL 384.526724 103.631042 \nL 385.28954 103.631042 \nL 386.052356 109.686053 \nL 386.815172 109.686053 \nL 387.577988 109.686053 \nL 388.340804 112.172111 \nL 389.103621 112.172111 \nL 389.866437 120.023348 \nL 390.629253 120.023348 \nL 391.392069 120.023348 \nL 392.154885 112.172111 \nL 392.917701 106.670318 \nL 393.680517 112.172111 \nL 394.443333 112.172111 \nL 395.20615 112.172111 \nL 395.968966 120.023348 \nL 396.731782 120.023348 \nL 397.494598 120.023348 \nL 398.257414 120.023348 \nL 399.02023 120.023348 \nL 399.783046 114.757769 \nL 400.545863 120.023348 \nL 401.308679 120.023348 \nL 402.071495 120.023348 \nL 402.834311 120.023348 \nL 403.597127 120.023348 \nL 404.359943 120.023348 \nL 404.359943 41.307768 \nL 404.359943 41.307768 \nL 403.597127 41.307768 \nL 402.834311 41.307768 \nL 402.071495 41.307768 \nL 401.308679 41.307768 \nL 400.545863 41.307768 \nL 399.783046 39.926125 \nL 399.02023 41.307768 \nL 398.257414 41.307768 \nL 397.494598 41.307768 \nL 396.731782 41.307768 \nL 395.968966 41.307768 \nL 395.20615 42.524206 \nL 394.443333 42.524206 \nL 393.680517 42.524206 \nL 392.917701 41.573611 \nL 392.154885 42.524206 \nL 391.392069 41.307768 \nL 390.629253 41.307768 \nL 389.866437 41.307768 \nL 389.103621 42.524206 \nL 388.340804 42.524206 \nL 387.577988 38.736747 \nL 386.815172 38.736747 \nL 386.052356 38.736747 \nL 385.28954 38.147829 \nL 384.526724 38.147829 \nL 383.763908 38.147829 \nL 383.001092 38.736747 \nL 382.238275 38.147829 \nL 381.475459 42.524206 \nL 380.712643 42.524206 \nL 379.949827 42.524206 \nL 379.187011 38.094475 \nL 378.424195 38.094475 \nL 377.661379 41.622759 \nL 376.898562 38.094475 \nL 376.135746 38.094475 \nL 375.37293 38.094475 \nL 374.610114 38.094475 \nL 373.847298 38.094475 \nL 373.084482 38.094475 \nL 372.321666 38.094475 \nL 371.55885 38.094475 \nL 370.796033 38.094475 \nL 370.033217 38.094475 \nL 369.270401 38.094475 \nL 368.507585 38.094475 \nL 367.744769 38.094475 \nL 366.981953 38.094475 \nL 366.219137 38.094475 \nL 365.45632 38.094475 \nL 364.693504 38.094475 \nL 363.930688 38.094475 \nL 363.167872 38.094475 \nL 362.405056 38.094475 \nL 361.64224 34.873966 \nL 360.879424 34.873966 \nL 360.116608 38.094475 \nL 359.353791 34.873966 \nL 358.590975 34.873966 \nL 357.828159 34.873966 \nL 357.065343 34.873966 \nL 356.302527 34.873966 \nL 355.539711 34.873966 \nL 354.776895 34.873966 \nL 354.014079 34.873966 \nL 353.251262 34.873966 \nL 352.488446 34.873966 \nL 351.72563 34.873966 \nL 350.962814 34.873966 \nL 350.199998 34.873966 \nL 349.437182 34.873966 \nL 348.674366 34.873966 \nL 347.911549 34.873966 \nL 347.148733 34.873966 \nL 346.385917 34.873966 \nL 345.623101 34.873966 \nL 344.860285 34.873966 \nL 344.097469 34.873966 \nL 343.334653 34.873966 \nL 342.571837 34.873966 \nL 341.80902 34.873966 \nL 341.046204 34.873966 \nL 340.283388 34.873966 \nL 339.520572 34.873966 \nL 338.757756 34.873966 \nL 337.99494 34.873966 \nL 337.232124 34.873966 \nL 336.469308 34.873966 \nL 335.706491 34.873966 \nL 334.943675 34.873966 \nL 334.180859 34.873966 \nL 333.418043 34.873966 \nL 332.655227 34.873966 \nL 331.892411 34.873966 \nL 331.129595 34.873966 \nL 330.366778 34.873966 \nL 329.603962 34.873966 \nL 328.841146 34.873966 \nL 328.07833 34.873966 \nL 327.315514 34.873966 \nL 326.552698 34.873966 \nL 325.789882 34.873966 \nL 325.027066 34.873966 \nL 324.264249 34.873966 \nL 323.501433 34.873966 \nL 322.738617 34.873966 \nL 321.975801 34.873966 \nL 321.212985 34.873966 \nL 320.450169 34.873966 \nL 319.687353 34.873966 \nL 318.924536 34.873966 \nL 318.16172 34.873966 \nL 317.398904 34.873966 \nL 316.636088 34.873966 \nL 315.873272 34.873966 \nL 315.110456 34.873966 \nL 314.34764 34.873966 \nL 313.584824 34.873966 \nL 312.822007 34.873966 \nL 312.059191 34.873966 \nL 311.296375 34.873966 \nL 310.533559 34.873966 \nL 309.770743 34.873966 \nL 309.007927 34.873966 \nL 308.245111 34.873966 \nL 307.482295 34.873966 \nL 306.719478 34.873966 \nL 305.956662 34.873966 \nL 305.193846 34.873966 \nL 304.43103 34.873966 \nL 303.668214 34.873966 \nL 302.905398 34.873966 \nL 302.142582 34.873966 \nL 301.379765 34.873966 \nL 300.616949 34.873966 \nL 299.854133 34.873966 \nL 299.091317 34.873966 \nL 298.328501 34.873966 \nL 297.565685 34.873966 \nL 296.802869 34.873966 \nL 296.040053 34.873966 \nL 295.277236 34.873966 \nL 294.51442 34.873966 \nL 293.751604 34.873966 \nL 292.988788 34.873966 \nL 292.225972 34.873966 \nL 291.463156 34.873966 \nL 290.70034 34.873966 \nL 289.937523 34.873966 \nL 289.174707 34.873966 \nL 288.411891 34.873966 \nL 287.649075 34.873966 \nL 286.886259 34.873966 \nL 286.123443 34.873966 \nL 285.360627 34.873966 \nL 284.597811 34.873966 \nL 283.834994 34.873966 \nL 283.072178 34.873966 \nL 282.309362 34.873966 \nL 281.546546 34.873966 \nL 280.78373 34.873966 \nL 280.020914 34.873966 \nL 279.258098 34.873966 \nL 278.495282 34.873966 \nL 277.732465 34.873966 \nL 276.969649 34.873966 \nL 276.206833 34.873966 \nL 275.444017 34.873966 \nL 274.681201 34.873966 \nL 273.918385 34.873966 \nL 273.155569 34.873966 \nL 272.392752 34.873966 \nL 271.629936 34.873966 \nL 270.86712 34.873966 \nL 270.104304 34.873966 \nL 269.341488 34.873966 \nL 268.578672 34.873966 \nL 267.815856 34.873966 \nL 267.05304 34.873966 \nL 266.290223 34.873966 \nL 265.527407 34.873966 \nL 264.764591 34.873966 \nL 264.001775 34.873966 \nL 263.238959 34.873966 \nL 262.476143 34.873966 \nL 261.713327 34.873966 \nL 260.950511 34.873966 \nL 260.187694 34.873966 \nL 259.424878 34.873966 \nL 258.662062 34.873966 \nL 257.899246 34.873966 \nL 257.13643 34.873966 \nL 256.373614 34.873966 \nL 255.610798 34.873966 \nL 254.847981 34.873966 \nL 254.085165 34.873966 \nL 253.322349 34.873966 \nL 252.559533 34.873966 \nL 251.796717 34.873966 \nL 251.033901 34.873966 \nL 250.271085 34.873966 \nL 249.508269 34.873966 \nL 248.745452 34.873966 \nL 247.982636 34.873966 \nL 247.21982 34.873966 \nL 246.457004 34.873966 \nL 245.694188 34.873966 \nL 244.931372 34.873966 \nL 244.168556 34.873966 \nL 243.405739 34.873966 \nL 242.642923 34.873966 \nL 241.880107 34.873966 \nL 241.117291 34.873966 \nL 240.354475 34.873966 \nL 239.591659 34.873966 \nL 238.828843 34.873966 \nL 238.066027 34.873966 \nL 237.30321 34.873966 \nL 236.540394 34.873966 \nL 235.777578 34.873966 \nL 235.014762 34.873966 \nL 234.251946 34.873966 \nL 233.48913 34.873966 \nL 232.726314 34.873966 \nL 231.963498 34.873966 \nL 231.200681 34.873966 \nL 230.437865 34.873966 \nL 229.675049 34.873966 \nL 228.912233 34.873966 \nL 228.149417 34.873966 \nL 227.386601 34.873966 \nL 226.623785 34.873966 \nL 225.860968 34.873966 \nL 225.098152 34.873966 \nL 224.335336 34.873966 \nL 223.57252 34.873966 \nL 222.809704 34.873966 \nL 222.046888 34.873966 \nL 221.284072 34.873966 \nL 220.521256 34.873966 \nL 219.758439 34.873966 \nL 218.995623 34.873966 \nL 218.232807 34.873966 \nL 217.469991 34.873966 \nL 216.707175 34.873966 \nL 215.944359 34.873966 \nL 215.181543 34.873966 \nL 214.418727 34.873966 \nL 213.65591 34.873966 \nL 212.893094 34.873966 \nL 212.130278 34.873966 \nL 211.367462 34.873966 \nL 210.604646 34.873966 \nL 209.84183 34.873966 \nL 209.079014 34.873966 \nL 208.316197 34.873966 \nL 207.553381 34.873966 \nL 206.790565 34.873966 \nL 206.027749 34.873966 \nL 205.264933 29.937273 \nL 204.502117 29.937273 \nL 203.739301 29.937273 \nL 202.976485 29.937273 \nL 202.213668 29.937273 \nL 201.450852 29.937273 \nL 200.688036 28.07566 \nL 199.92522 28.07566 \nL 199.162404 28.07566 \nL 198.399588 28.07566 \nL 197.636772 28.07566 \nL 196.873955 28.07566 \nL 196.111139 28.07566 \nL 195.348323 28.07566 \nL 194.585507 28.07566 \nL 193.822691 31.894481 \nL 193.059875 26.389489 \nL 192.297059 26.389489 \nL 191.534243 28.710705 \nL 190.771426 28.710705 \nL 190.00861 28.710705 \nL 189.245794 28.710705 \nL 188.482978 28.710705 \nL 187.720162 28.710705 \nL 186.957346 28.710705 \nL 186.19453 29.614121 \nL 185.431714 29.614121 \nL 184.668897 29.614121 \nL 183.906081 29.614121 \nL 183.143265 27.106864 \nL 182.380449 31.206871 \nL 181.617633 31.206871 \nL 180.854817 31.206871 \nL 180.092001 31.206871 \nL 179.329184 31.206871 \nL 178.566368 31.206871 \nL 177.803552 31.206871 \nL 177.040736 31.206871 \nL 176.27792 31.206871 \nL 175.515104 31.206871 \nL 174.752288 27.106864 \nL 173.989472 27.106864 \nL 173.226655 27.106864 \nL 172.463839 27.106864 \nL 171.701023 27.106864 \nL 170.938207 27.106864 \nL 170.175391 27.106864 \nL 169.412575 27.106864 \nL 168.649759 27.106864 \nL 167.886942 27.106864 \nL 167.124126 27.106864 \nL 166.36131 27.106864 \nL 165.598494 27.106864 \nL 164.835678 27.106864 \nL 164.072862 27.106864 \nL 163.310046 27.106864 \nL 162.54723 27.106864 \nL 161.784413 27.106864 \nL 161.021597 27.106864 \nL 160.258781 27.106864 \nL 159.495965 27.106864 \nL 158.733149 27.106864 \nL 157.970333 27.106864 \nL 157.207517 27.106864 \nL 156.444701 21.869136 \nL 155.681884 21.869136 \nL 154.919068 21.869136 \nL 154.156252 21.869136 \nL 153.393436 21.869136 \nL 152.63062 21.869136 \nL 151.867804 21.869136 \nL 151.104988 21.869136 \nL 150.342171 21.869136 \nL 149.579355 21.869136 \nL 148.816539 21.869136 \nL 148.053723 21.869136 \nL 147.290907 21.869136 \nL 146.528091 21.869136 \nL 145.765275 21.869136 \nL 145.002459 21.869136 \nL 144.239642 21.869136 \nL 143.476826 21.869136 \nL 142.71401 21.869136 \nL 141.951194 24.589315 \nL 141.188378 24.589315 \nL 140.425562 24.589315 \nL 139.662746 24.589315 \nL 138.89993 24.589315 \nL 138.137113 24.589315 \nL 137.374297 24.589315 \nL 136.611481 24.589315 \nL 135.848665 24.589315 \nL 135.085849 24.589315 \nL 134.323033 24.589315 \nL 133.560217 24.589315 \nL 132.7974 24.589315 \nL 132.034584 24.589315 \nL 131.271768 24.589315 \nL 130.508952 24.589315 \nL 129.746136 24.589315 \nL 128.98332 24.589315 \nL 128.220504 24.589315 \nL 127.457688 24.589315 \nL 126.694871 26.280143 \nL 125.932055 26.280143 \nL 125.169239 26.280143 \nL 124.406423 26.280143 \nL 123.643607 26.280143 \nL 122.880791 26.280143 \nL 122.117975 26.280143 \nL 121.355158 21.711067 \nL 120.592342 19.768169 \nL 119.829526 19.768169 \nL 119.06671 22.500112 \nL 118.303894 22.500112 \nL 117.541078 22.500112 \nL 116.778262 22.500112 \nL 116.015446 19.283832 \nL 115.252629 19.283832 \nL 114.489813 19.283832 \nL 113.726997 19.283832 \nL 112.964181 17.083636 \nL 112.201365 17.083636 \nL 111.438549 17.083636 \nL 110.675733 21.386021 \nL 109.912917 21.386021 \nL 109.1501 21.386021 \nL 108.387284 21.386021 \nL 107.624468 21.711067 \nL 106.861652 26.108197 \nL 106.098836 35.3578 \nL 105.33602 35.3578 \nL 104.573204 35.3578 \nL 103.810387 39.115197 \nL 103.047571 39.184055 \nL 102.284755 39.115197 \nL 101.521939 38.079343 \nL 100.759123 45.646764 \nL 99.996307 45.646764 \nz\n\" style=\"fill:#1f77b4;fill-opacity:0.15;\"/>\n   </g>\n   <g id=\"matplotlib.axis_1\">\n    <g id=\"xtick_1\">\n     <g id=\"line2d_1\">\n      <defs>\n       <path d=\"M 0 0 \nL 0 3.5 \n\" id=\"m8c63054f70\" style=\"stroke:#000000;stroke-width:0.8;\"/>\n      </defs>\n      <g>\n       <use style=\"stroke:#000000;stroke-width:0.8;\" x=\"130.43267\" xlink:href=\"#m8c63054f70\" y=\"224.64\"/>\n      </g>\n     </g>\n     <g id=\"text_1\">\n      <!-- $\\mathdefault{10^{-4}}$ -->\n      <defs>\n       <path d=\"M 12.40625 8.296875 \nL 28.515625 8.296875 \nL 28.515625 63.921875 \nL 10.984375 60.40625 \nL 10.984375 69.390625 \nL 28.421875 72.90625 \nL 38.28125 72.90625 \nL 38.28125 8.296875 \nL 54.390625 8.296875 \nL 54.390625 0 \nL 12.40625 0 \nz\n\" id=\"DejaVuSans-49\"/>\n       <path d=\"M 31.78125 66.40625 \nQ 24.171875 66.40625 20.328125 58.90625 \nQ 16.5 51.421875 16.5 36.375 \nQ 16.5 21.390625 20.328125 13.890625 \nQ 24.171875 6.390625 31.78125 6.390625 \nQ 39.453125 6.390625 43.28125 13.890625 \nQ 47.125 21.390625 47.125 36.375 \nQ 47.125 51.421875 43.28125 58.90625 \nQ 39.453125 66.40625 31.78125 66.40625 \nz\nM 31.78125 74.21875 \nQ 44.046875 74.21875 50.515625 64.515625 \nQ 56.984375 54.828125 56.984375 36.375 \nQ 56.984375 17.96875 50.515625 8.265625 \nQ 44.046875 -1.421875 31.78125 -1.421875 \nQ 19.53125 -1.421875 13.0625 8.265625 \nQ 6.59375 17.96875 6.59375 36.375 \nQ 6.59375 54.828125 13.0625 64.515625 \nQ 19.53125 74.21875 31.78125 74.21875 \nz\n\" id=\"DejaVuSans-48\"/>\n       <path d=\"M 10.59375 35.5 \nL 73.1875 35.5 \nL 73.1875 27.203125 \nL 10.59375 27.203125 \nz\n\" id=\"DejaVuSans-8722\"/>\n       <path d=\"M 37.796875 64.3125 \nL 12.890625 25.390625 \nL 37.796875 25.390625 \nz\nM 35.203125 72.90625 \nL 47.609375 72.90625 \nL 47.609375 25.390625 \nL 58.015625 25.390625 \nL 58.015625 17.1875 \nL 47.609375 17.1875 \nL 47.609375 0 \nL 37.796875 0 \nL 37.796875 17.1875 \nL 4.890625 17.1875 \nL 4.890625 26.703125 \nz\n\" id=\"DejaVuSans-52\"/>\n      </defs>\n      <g transform=\"translate(118.68267 239.238437)scale(0.1 -0.1)\">\n       <use transform=\"translate(0 0.684375)\" xlink:href=\"#DejaVuSans-49\"/>\n       <use transform=\"translate(63.623047 0.684375)\" xlink:href=\"#DejaVuSans-48\"/>\n       <use transform=\"translate(128.203125 38.965625)scale(0.7)\" xlink:href=\"#DejaVuSans-8722\"/>\n       <use transform=\"translate(186.855469 38.965625)scale(0.7)\" xlink:href=\"#DejaVuSans-52\"/>\n      </g>\n     </g>\n    </g>\n    <g id=\"xtick_2\">\n     <g id=\"line2d_2\">\n      <g>\n       <use style=\"stroke:#000000;stroke-width:0.8;\" x=\"191.305398\" xlink:href=\"#m8c63054f70\" y=\"224.64\"/>\n      </g>\n     </g>\n     <g id=\"text_2\">\n      <!-- $\\mathdefault{10^{-2}}$ -->\n      <defs>\n       <path d=\"M 19.1875 8.296875 \nL 53.609375 8.296875 \nL 53.609375 0 \nL 7.328125 0 \nL 7.328125 8.296875 \nQ 12.9375 14.109375 22.625 23.890625 \nQ 32.328125 33.6875 34.8125 36.53125 \nQ 39.546875 41.84375 41.421875 45.53125 \nQ 43.3125 49.21875 43.3125 52.78125 \nQ 43.3125 58.59375 39.234375 62.25 \nQ 35.15625 65.921875 28.609375 65.921875 \nQ 23.96875 65.921875 18.8125 64.3125 \nQ 13.671875 62.703125 7.8125 59.421875 \nL 7.8125 69.390625 \nQ 13.765625 71.78125 18.9375 73 \nQ 24.125 74.21875 28.421875 74.21875 \nQ 39.75 74.21875 46.484375 68.546875 \nQ 53.21875 62.890625 53.21875 53.421875 \nQ 53.21875 48.921875 51.53125 44.890625 \nQ 49.859375 40.875 45.40625 35.40625 \nQ 44.1875 33.984375 37.640625 27.21875 \nQ 31.109375 20.453125 19.1875 8.296875 \nz\n\" id=\"DejaVuSans-50\"/>\n      </defs>\n      <g transform=\"translate(179.555398 239.238437)scale(0.1 -0.1)\">\n       <use transform=\"translate(0 0.765625)\" xlink:href=\"#DejaVuSans-49\"/>\n       <use transform=\"translate(63.623047 0.765625)\" xlink:href=\"#DejaVuSans-48\"/>\n       <use transform=\"translate(128.203125 39.046875)scale(0.7)\" xlink:href=\"#DejaVuSans-8722\"/>\n       <use transform=\"translate(186.855469 39.046875)scale(0.7)\" xlink:href=\"#DejaVuSans-50\"/>\n      </g>\n     </g>\n    </g>\n    <g id=\"xtick_3\">\n     <g id=\"line2d_3\">\n      <g>\n       <use style=\"stroke:#000000;stroke-width:0.8;\" x=\"252.178125\" xlink:href=\"#m8c63054f70\" y=\"224.64\"/>\n      </g>\n     </g>\n     <g id=\"text_3\">\n      <!-- $\\mathdefault{10^{0}}$ -->\n      <g transform=\"translate(243.378125 239.238437)scale(0.1 -0.1)\">\n       <use transform=\"translate(0 0.765625)\" xlink:href=\"#DejaVuSans-49\"/>\n       <use transform=\"translate(63.623047 0.765625)\" xlink:href=\"#DejaVuSans-48\"/>\n       <use transform=\"translate(128.203125 39.046875)scale(0.7)\" xlink:href=\"#DejaVuSans-48\"/>\n      </g>\n     </g>\n    </g>\n    <g id=\"xtick_4\">\n     <g id=\"line2d_4\">\n      <g>\n       <use style=\"stroke:#000000;stroke-width:0.8;\" x=\"313.050852\" xlink:href=\"#m8c63054f70\" y=\"224.64\"/>\n      </g>\n     </g>\n     <g id=\"text_4\">\n      <!-- $\\mathdefault{10^{2}}$ -->\n      <g transform=\"translate(304.250852 239.238437)scale(0.1 -0.1)\">\n       <use transform=\"translate(0 0.765625)\" xlink:href=\"#DejaVuSans-49\"/>\n       <use transform=\"translate(63.623047 0.765625)\" xlink:href=\"#DejaVuSans-48\"/>\n       <use transform=\"translate(128.203125 39.046875)scale(0.7)\" xlink:href=\"#DejaVuSans-50\"/>\n      </g>\n     </g>\n    </g>\n    <g id=\"xtick_5\">\n     <g id=\"line2d_5\">\n      <g>\n       <use style=\"stroke:#000000;stroke-width:0.8;\" x=\"373.92358\" xlink:href=\"#m8c63054f70\" y=\"224.64\"/>\n      </g>\n     </g>\n     <g id=\"text_5\">\n      <!-- $\\mathdefault{10^{4}}$ -->\n      <g transform=\"translate(365.12358 239.238437)scale(0.1 -0.1)\">\n       <use transform=\"translate(0 0.684375)\" xlink:href=\"#DejaVuSans-49\"/>\n       <use transform=\"translate(63.623047 0.684375)\" xlink:href=\"#DejaVuSans-48\"/>\n       <use transform=\"translate(128.203125 38.965625)scale(0.7)\" xlink:href=\"#DejaVuSans-52\"/>\n      </g>\n     </g>\n    </g>\n    <g id=\"text_6\">\n     <!-- C -->\n     <defs>\n      <path d=\"M 64.40625 67.28125 \nL 64.40625 56.890625 \nQ 59.421875 61.53125 53.78125 63.8125 \nQ 48.140625 66.109375 41.796875 66.109375 \nQ 29.296875 66.109375 22.65625 58.46875 \nQ 16.015625 50.828125 16.015625 36.375 \nQ 16.015625 21.96875 22.65625 14.328125 \nQ 29.296875 6.6875 41.796875 6.6875 \nQ 48.140625 6.6875 53.78125 8.984375 \nQ 59.421875 11.28125 64.40625 15.921875 \nL 64.40625 5.609375 \nQ 59.234375 2.09375 53.4375 0.328125 \nQ 47.65625 -1.421875 41.21875 -1.421875 \nQ 24.65625 -1.421875 15.125 8.703125 \nQ 5.609375 18.84375 5.609375 36.375 \nQ 5.609375 53.953125 15.125 64.078125 \nQ 24.65625 74.21875 41.21875 74.21875 \nQ 47.75 74.21875 53.53125 72.484375 \nQ 59.328125 70.75 64.40625 67.28125 \nz\n\" id=\"DejaVuSans-67\"/>\n     </defs>\n     <g transform=\"translate(248.686719 252.916562)scale(0.1 -0.1)\">\n      <use xlink:href=\"#DejaVuSans-67\"/>\n     </g>\n    </g>\n   </g>\n   <g id=\"matplotlib.axis_2\">\n    <g id=\"ytick_1\">\n     <g id=\"line2d_6\">\n      <defs>\n       <path d=\"M 0 0 \nL -3.5 0 \n\" id=\"mb013f0105d\" style=\"stroke:#000000;stroke-width:0.8;\"/>\n      </defs>\n      <g>\n       <use style=\"stroke:#000000;stroke-width:0.8;\" x=\"84.778125\" xlink:href=\"#mb013f0105d\" y=\"51.350559\"/>\n      </g>\n     </g>\n     <g id=\"text_7\">\n      <!-- $\\mathdefault{10^{0}}$ -->\n      <g transform=\"translate(60.178125 55.149778)scale(0.1 -0.1)\">\n       <use transform=\"translate(0 0.765625)\" xlink:href=\"#DejaVuSans-49\"/>\n       <use transform=\"translate(63.623047 0.765625)\" xlink:href=\"#DejaVuSans-48\"/>\n       <use transform=\"translate(128.203125 39.046875)scale(0.7)\" xlink:href=\"#DejaVuSans-48\"/>\n      </g>\n     </g>\n    </g>\n    <g id=\"ytick_2\">\n     <g id=\"line2d_7\">\n      <defs>\n       <path d=\"M 0 0 \nL -2 0 \n\" id=\"m9c3768622c\" style=\"stroke:#000000;stroke-width:0.6;\"/>\n      </defs>\n      <g>\n       <use style=\"stroke:#000000;stroke-width:0.6;\" x=\"84.778125\" xlink:href=\"#m9c3768622c\" y=\"199.904268\"/>\n      </g>\n     </g>\n     <g id=\"text_8\">\n      <!-- $\\mathdefault{8.75\\times10^{-1}}$ -->\n      <defs>\n       <path d=\"M 31.78125 34.625 \nQ 24.75 34.625 20.71875 30.859375 \nQ 16.703125 27.09375 16.703125 20.515625 \nQ 16.703125 13.921875 20.71875 10.15625 \nQ 24.75 6.390625 31.78125 6.390625 \nQ 38.8125 6.390625 42.859375 10.171875 \nQ 46.921875 13.96875 46.921875 20.515625 \nQ 46.921875 27.09375 42.890625 30.859375 \nQ 38.875 34.625 31.78125 34.625 \nz\nM 21.921875 38.8125 \nQ 15.578125 40.375 12.03125 44.71875 \nQ 8.5 49.078125 8.5 55.328125 \nQ 8.5 64.0625 14.71875 69.140625 \nQ 20.953125 74.21875 31.78125 74.21875 \nQ 42.671875 74.21875 48.875 69.140625 \nQ 55.078125 64.0625 55.078125 55.328125 \nQ 55.078125 49.078125 51.53125 44.71875 \nQ 48 40.375 41.703125 38.8125 \nQ 48.828125 37.15625 52.796875 32.3125 \nQ 56.78125 27.484375 56.78125 20.515625 \nQ 56.78125 9.90625 50.3125 4.234375 \nQ 43.84375 -1.421875 31.78125 -1.421875 \nQ 19.734375 -1.421875 13.25 4.234375 \nQ 6.78125 9.90625 6.78125 20.515625 \nQ 6.78125 27.484375 10.78125 32.3125 \nQ 14.796875 37.15625 21.921875 38.8125 \nz\nM 18.3125 54.390625 \nQ 18.3125 48.734375 21.84375 45.5625 \nQ 25.390625 42.390625 31.78125 42.390625 \nQ 38.140625 42.390625 41.71875 45.5625 \nQ 45.3125 48.734375 45.3125 54.390625 \nQ 45.3125 60.0625 41.71875 63.234375 \nQ 38.140625 66.40625 31.78125 66.40625 \nQ 25.390625 66.40625 21.84375 63.234375 \nQ 18.3125 60.0625 18.3125 54.390625 \nz\n\" id=\"DejaVuSans-56\"/>\n       <path d=\"M 10.6875 12.40625 \nL 21 12.40625 \nL 21 0 \nL 10.6875 0 \nz\n\" id=\"DejaVuSans-46\"/>\n       <path d=\"M 8.203125 72.90625 \nL 55.078125 72.90625 \nL 55.078125 68.703125 \nL 28.609375 0 \nL 18.3125 0 \nL 43.21875 64.59375 \nL 8.203125 64.59375 \nz\n\" id=\"DejaVuSans-55\"/>\n       <path d=\"M 10.796875 72.90625 \nL 49.515625 72.90625 \nL 49.515625 64.59375 \nL 19.828125 64.59375 \nL 19.828125 46.734375 \nQ 21.96875 47.46875 24.109375 47.828125 \nQ 26.265625 48.1875 28.421875 48.1875 \nQ 40.625 48.1875 47.75 41.5 \nQ 54.890625 34.8125 54.890625 23.390625 \nQ 54.890625 11.625 47.5625 5.09375 \nQ 40.234375 -1.421875 26.90625 -1.421875 \nQ 22.3125 -1.421875 17.546875 -0.640625 \nQ 12.796875 0.140625 7.71875 1.703125 \nL 7.71875 11.625 \nQ 12.109375 9.234375 16.796875 8.0625 \nQ 21.484375 6.890625 26.703125 6.890625 \nQ 35.15625 6.890625 40.078125 11.328125 \nQ 45.015625 15.765625 45.015625 23.390625 \nQ 45.015625 31 40.078125 35.4375 \nQ 35.15625 39.890625 26.703125 39.890625 \nQ 22.75 39.890625 18.8125 39.015625 \nQ 14.890625 38.140625 10.796875 36.28125 \nz\n\" id=\"DejaVuSans-53\"/>\n       <path d=\"M 70.125 53.71875 \nL 47.796875 31.296875 \nL 70.125 8.984375 \nL 64.3125 3.078125 \nL 41.890625 25.484375 \nL 19.484375 3.078125 \nL 13.71875 8.984375 \nL 35.984375 31.296875 \nL 13.71875 53.71875 \nL 19.484375 59.625 \nL 41.890625 37.203125 \nL 64.3125 59.625 \nz\n\" id=\"DejaVuSans-215\"/>\n      </defs>\n      <g transform=\"translate(21.378125 203.703487)scale(0.1 -0.1)\">\n       <use transform=\"translate(0 0.684375)\" xlink:href=\"#DejaVuSans-56\"/>\n       <use transform=\"translate(63.623047 0.684375)\" xlink:href=\"#DejaVuSans-46\"/>\n       <use transform=\"translate(95.300781 0.684375)\" xlink:href=\"#DejaVuSans-55\"/>\n       <use transform=\"translate(158.923828 0.684375)\" xlink:href=\"#DejaVuSans-53\"/>\n       <use transform=\"translate(242.029297 0.684375)\" xlink:href=\"#DejaVuSans-215\"/>\n       <use transform=\"translate(345.300781 0.684375)\" xlink:href=\"#DejaVuSans-49\"/>\n       <use transform=\"translate(408.923828 0.684375)\" xlink:href=\"#DejaVuSans-48\"/>\n       <use transform=\"translate(473.503906 38.965625)scale(0.7)\" xlink:href=\"#DejaVuSans-8722\"/>\n       <use transform=\"translate(532.15625 38.965625)scale(0.7)\" xlink:href=\"#DejaVuSans-49\"/>\n      </g>\n     </g>\n    </g>\n    <g id=\"ytick_3\">\n     <g id=\"line2d_8\">\n      <g>\n       <use style=\"stroke:#000000;stroke-width:0.6;\" x=\"84.778125\" xlink:href=\"#m9c3768622c\" y=\"168.56416\"/>\n      </g>\n     </g>\n     <g id=\"text_9\">\n      <!-- $\\mathdefault{9\\times10^{-1}}$ -->\n      <defs>\n       <path d=\"M 10.984375 1.515625 \nL 10.984375 10.5 \nQ 14.703125 8.734375 18.5 7.8125 \nQ 22.3125 6.890625 25.984375 6.890625 \nQ 35.75 6.890625 40.890625 13.453125 \nQ 46.046875 20.015625 46.78125 33.40625 \nQ 43.953125 29.203125 39.59375 26.953125 \nQ 35.25 24.703125 29.984375 24.703125 \nQ 19.046875 24.703125 12.671875 31.3125 \nQ 6.296875 37.9375 6.296875 49.421875 \nQ 6.296875 60.640625 12.9375 67.421875 \nQ 19.578125 74.21875 30.609375 74.21875 \nQ 43.265625 74.21875 49.921875 64.515625 \nQ 56.59375 54.828125 56.59375 36.375 \nQ 56.59375 19.140625 48.40625 8.859375 \nQ 40.234375 -1.421875 26.421875 -1.421875 \nQ 22.703125 -1.421875 18.890625 -0.6875 \nQ 15.09375 0.046875 10.984375 1.515625 \nz\nM 30.609375 32.421875 \nQ 37.25 32.421875 41.125 36.953125 \nQ 45.015625 41.5 45.015625 49.421875 \nQ 45.015625 57.28125 41.125 61.84375 \nQ 37.25 66.40625 30.609375 66.40625 \nQ 23.96875 66.40625 20.09375 61.84375 \nQ 16.21875 57.28125 16.21875 49.421875 \nQ 16.21875 41.5 20.09375 36.953125 \nQ 23.96875 32.421875 30.609375 32.421875 \nz\n\" id=\"DejaVuSans-57\"/>\n      </defs>\n      <g transform=\"translate(37.278125 172.363379)scale(0.1 -0.1)\">\n       <use transform=\"translate(0 0.684375)\" xlink:href=\"#DejaVuSans-57\"/>\n       <use transform=\"translate(83.105469 0.684375)\" xlink:href=\"#DejaVuSans-215\"/>\n       <use transform=\"translate(186.376953 0.684375)\" xlink:href=\"#DejaVuSans-49\"/>\n       <use transform=\"translate(250 0.684375)\" xlink:href=\"#DejaVuSans-48\"/>\n       <use transform=\"translate(314.580078 38.965625)scale(0.7)\" xlink:href=\"#DejaVuSans-8722\"/>\n       <use transform=\"translate(373.232422 38.965625)scale(0.7)\" xlink:href=\"#DejaVuSans-49\"/>\n      </g>\n     </g>\n    </g>\n    <g id=\"ytick_4\">\n     <g id=\"line2d_9\">\n      <g>\n       <use style=\"stroke:#000000;stroke-width:0.6;\" x=\"84.778125\" xlink:href=\"#m9c3768622c\" y=\"138.082794\"/>\n      </g>\n     </g>\n     <g id=\"text_10\">\n      <!-- $\\mathdefault{9.25\\times10^{-1}}$ -->\n      <g transform=\"translate(21.378125 141.882013)scale(0.1 -0.1)\">\n       <use transform=\"translate(0 0.684375)\" xlink:href=\"#DejaVuSans-57\"/>\n       <use transform=\"translate(63.623047 0.684375)\" xlink:href=\"#DejaVuSans-46\"/>\n       <use transform=\"translate(95.332031 0.684375)\" xlink:href=\"#DejaVuSans-50\"/>\n       <use transform=\"translate(158.955078 0.684375)\" xlink:href=\"#DejaVuSans-53\"/>\n       <use transform=\"translate(242.060547 0.684375)\" xlink:href=\"#DejaVuSans-215\"/>\n       <use transform=\"translate(345.332031 0.684375)\" xlink:href=\"#DejaVuSans-49\"/>\n       <use transform=\"translate(408.955078 0.684375)\" xlink:href=\"#DejaVuSans-48\"/>\n       <use transform=\"translate(473.535156 38.965625)scale(0.7)\" xlink:href=\"#DejaVuSans-8722\"/>\n       <use transform=\"translate(532.1875 38.965625)scale(0.7)\" xlink:href=\"#DejaVuSans-49\"/>\n      </g>\n     </g>\n    </g>\n    <g id=\"ytick_5\">\n     <g id=\"line2d_10\">\n      <g>\n       <use style=\"stroke:#000000;stroke-width:0.6;\" x=\"84.778125\" xlink:href=\"#m9c3768622c\" y=\"108.414363\"/>\n      </g>\n     </g>\n     <g id=\"text_11\">\n      <!-- $\\mathdefault{9.5\\times10^{-1}}$ -->\n      <g transform=\"translate(27.778125 112.213581)scale(0.1 -0.1)\">\n       <use transform=\"translate(0 0.684375)\" xlink:href=\"#DejaVuSans-57\"/>\n       <use transform=\"translate(63.623047 0.684375)\" xlink:href=\"#DejaVuSans-46\"/>\n       <use transform=\"translate(95.410156 0.684375)\" xlink:href=\"#DejaVuSans-53\"/>\n       <use transform=\"translate(178.515625 0.684375)\" xlink:href=\"#DejaVuSans-215\"/>\n       <use transform=\"translate(281.787109 0.684375)\" xlink:href=\"#DejaVuSans-49\"/>\n       <use transform=\"translate(345.410156 0.684375)\" xlink:href=\"#DejaVuSans-48\"/>\n       <use transform=\"translate(409.990234 38.965625)scale(0.7)\" xlink:href=\"#DejaVuSans-8722\"/>\n       <use transform=\"translate(468.642578 38.965625)scale(0.7)\" xlink:href=\"#DejaVuSans-49\"/>\n      </g>\n     </g>\n    </g>\n    <g id=\"ytick_6\">\n     <g id=\"line2d_11\">\n      <g>\n       <use style=\"stroke:#000000;stroke-width:0.6;\" x=\"84.778125\" xlink:href=\"#m9c3768622c\" y=\"79.516627\"/>\n      </g>\n     </g>\n     <g id=\"text_12\">\n      <!-- $\\mathdefault{9.75\\times10^{-1}}$ -->\n      <g transform=\"translate(21.378125 83.315846)scale(0.1 -0.1)\">\n       <use transform=\"translate(0 0.684375)\" xlink:href=\"#DejaVuSans-57\"/>\n       <use transform=\"translate(63.623047 0.684375)\" xlink:href=\"#DejaVuSans-46\"/>\n       <use transform=\"translate(95.300781 0.684375)\" xlink:href=\"#DejaVuSans-55\"/>\n       <use transform=\"translate(158.923828 0.684375)\" xlink:href=\"#DejaVuSans-53\"/>\n       <use transform=\"translate(242.029297 0.684375)\" xlink:href=\"#DejaVuSans-215\"/>\n       <use transform=\"translate(345.300781 0.684375)\" xlink:href=\"#DejaVuSans-49\"/>\n       <use transform=\"translate(408.923828 0.684375)\" xlink:href=\"#DejaVuSans-48\"/>\n       <use transform=\"translate(473.503906 38.965625)scale(0.7)\" xlink:href=\"#DejaVuSans-8722\"/>\n       <use transform=\"translate(532.15625 38.965625)scale(0.7)\" xlink:href=\"#DejaVuSans-49\"/>\n      </g>\n     </g>\n    </g>\n    <g id=\"ytick_7\">\n     <g id=\"line2d_12\">\n      <g>\n       <use style=\"stroke:#000000;stroke-width:0.6;\" x=\"84.778125\" xlink:href=\"#m9c3768622c\" y=\"23.880021\"/>\n      </g>\n     </g>\n     <g id=\"text_13\">\n      <!-- $\\mathdefault{1.025\\times10^{0}}$ -->\n      <g transform=\"translate(20.878125 27.67924)scale(0.1 -0.1)\">\n       <use transform=\"translate(0 0.765625)\" xlink:href=\"#DejaVuSans-49\"/>\n       <use transform=\"translate(63.623047 0.765625)\" xlink:href=\"#DejaVuSans-46\"/>\n       <use transform=\"translate(95.410156 0.765625)\" xlink:href=\"#DejaVuSans-48\"/>\n       <use transform=\"translate(159.033203 0.765625)\" xlink:href=\"#DejaVuSans-50\"/>\n       <use transform=\"translate(222.65625 0.765625)\" xlink:href=\"#DejaVuSans-53\"/>\n       <use transform=\"translate(305.761719 0.765625)\" xlink:href=\"#DejaVuSans-215\"/>\n       <use transform=\"translate(409.033203 0.765625)\" xlink:href=\"#DejaVuSans-49\"/>\n       <use transform=\"translate(472.65625 0.765625)\" xlink:href=\"#DejaVuSans-48\"/>\n       <use transform=\"translate(537.236328 39.046875)scale(0.7)\" xlink:href=\"#DejaVuSans-48\"/>\n      </g>\n     </g>\n    </g>\n    <g id=\"text_14\">\n     <!-- Test score -->\n     <defs>\n      <path d=\"M -0.296875 72.90625 \nL 61.375 72.90625 \nL 61.375 64.59375 \nL 35.5 64.59375 \nL 35.5 0 \nL 25.59375 0 \nL 25.59375 64.59375 \nL -0.296875 64.59375 \nz\n\" id=\"DejaVuSans-84\"/>\n      <path d=\"M 56.203125 29.59375 \nL 56.203125 25.203125 \nL 14.890625 25.203125 \nQ 15.484375 15.921875 20.484375 11.0625 \nQ 25.484375 6.203125 34.421875 6.203125 \nQ 39.59375 6.203125 44.453125 7.46875 \nQ 49.3125 8.734375 54.109375 11.28125 \nL 54.109375 2.78125 \nQ 49.265625 0.734375 44.1875 -0.34375 \nQ 39.109375 -1.421875 33.890625 -1.421875 \nQ 20.796875 -1.421875 13.15625 6.1875 \nQ 5.515625 13.8125 5.515625 26.8125 \nQ 5.515625 40.234375 12.765625 48.109375 \nQ 20.015625 56 32.328125 56 \nQ 43.359375 56 49.78125 48.890625 \nQ 56.203125 41.796875 56.203125 29.59375 \nz\nM 47.21875 32.234375 \nQ 47.125 39.59375 43.09375 43.984375 \nQ 39.0625 48.390625 32.421875 48.390625 \nQ 24.90625 48.390625 20.390625 44.140625 \nQ 15.875 39.890625 15.1875 32.171875 \nz\n\" id=\"DejaVuSans-101\"/>\n      <path d=\"M 44.28125 53.078125 \nL 44.28125 44.578125 \nQ 40.484375 46.53125 36.375 47.5 \nQ 32.28125 48.484375 27.875 48.484375 \nQ 21.1875 48.484375 17.84375 46.4375 \nQ 14.5 44.390625 14.5 40.28125 \nQ 14.5 37.15625 16.890625 35.375 \nQ 19.28125 33.59375 26.515625 31.984375 \nL 29.59375 31.296875 \nQ 39.15625 29.25 43.1875 25.515625 \nQ 47.21875 21.78125 47.21875 15.09375 \nQ 47.21875 7.46875 41.1875 3.015625 \nQ 35.15625 -1.421875 24.609375 -1.421875 \nQ 20.21875 -1.421875 15.453125 -0.5625 \nQ 10.6875 0.296875 5.421875 2 \nL 5.421875 11.28125 \nQ 10.40625 8.6875 15.234375 7.390625 \nQ 20.0625 6.109375 24.8125 6.109375 \nQ 31.15625 6.109375 34.5625 8.28125 \nQ 37.984375 10.453125 37.984375 14.40625 \nQ 37.984375 18.0625 35.515625 20.015625 \nQ 33.0625 21.96875 24.703125 23.78125 \nL 21.578125 24.515625 \nQ 13.234375 26.265625 9.515625 29.90625 \nQ 5.8125 33.546875 5.8125 39.890625 \nQ 5.8125 47.609375 11.28125 51.796875 \nQ 16.75 56 26.8125 56 \nQ 31.78125 56 36.171875 55.265625 \nQ 40.578125 54.546875 44.28125 53.078125 \nz\n\" id=\"DejaVuSans-115\"/>\n      <path d=\"M 18.3125 70.21875 \nL 18.3125 54.6875 \nL 36.8125 54.6875 \nL 36.8125 47.703125 \nL 18.3125 47.703125 \nL 18.3125 18.015625 \nQ 18.3125 11.328125 20.140625 9.421875 \nQ 21.96875 7.515625 27.59375 7.515625 \nL 36.8125 7.515625 \nL 36.8125 0 \nL 27.59375 0 \nQ 17.1875 0 13.234375 3.875 \nQ 9.28125 7.765625 9.28125 18.015625 \nL 9.28125 47.703125 \nL 2.6875 47.703125 \nL 2.6875 54.6875 \nL 9.28125 54.6875 \nL 9.28125 70.21875 \nz\n\" id=\"DejaVuSans-116\"/>\n      <path id=\"DejaVuSans-32\"/>\n      <path d=\"M 48.78125 52.59375 \nL 48.78125 44.1875 \nQ 44.96875 46.296875 41.140625 47.34375 \nQ 37.3125 48.390625 33.40625 48.390625 \nQ 24.65625 48.390625 19.8125 42.84375 \nQ 14.984375 37.3125 14.984375 27.296875 \nQ 14.984375 17.28125 19.8125 11.734375 \nQ 24.65625 6.203125 33.40625 6.203125 \nQ 37.3125 6.203125 41.140625 7.25 \nQ 44.96875 8.296875 48.78125 10.40625 \nL 48.78125 2.09375 \nQ 45.015625 0.34375 40.984375 -0.53125 \nQ 36.96875 -1.421875 32.421875 -1.421875 \nQ 20.0625 -1.421875 12.78125 6.34375 \nQ 5.515625 14.109375 5.515625 27.296875 \nQ 5.515625 40.671875 12.859375 48.328125 \nQ 20.21875 56 33.015625 56 \nQ 37.15625 56 41.109375 55.140625 \nQ 45.0625 54.296875 48.78125 52.59375 \nz\n\" id=\"DejaVuSans-99\"/>\n      <path d=\"M 30.609375 48.390625 \nQ 23.390625 48.390625 19.1875 42.75 \nQ 14.984375 37.109375 14.984375 27.296875 \nQ 14.984375 17.484375 19.15625 11.84375 \nQ 23.34375 6.203125 30.609375 6.203125 \nQ 37.796875 6.203125 41.984375 11.859375 \nQ 46.1875 17.53125 46.1875 27.296875 \nQ 46.1875 37.015625 41.984375 42.703125 \nQ 37.796875 48.390625 30.609375 48.390625 \nz\nM 30.609375 56 \nQ 42.328125 56 49.015625 48.375 \nQ 55.71875 40.765625 55.71875 27.296875 \nQ 55.71875 13.875 49.015625 6.21875 \nQ 42.328125 -1.421875 30.609375 -1.421875 \nQ 18.84375 -1.421875 12.171875 6.21875 \nQ 5.515625 13.875 5.515625 27.296875 \nQ 5.515625 40.765625 12.171875 48.375 \nQ 18.84375 56 30.609375 56 \nz\n\" id=\"DejaVuSans-111\"/>\n      <path d=\"M 41.109375 46.296875 \nQ 39.59375 47.171875 37.8125 47.578125 \nQ 36.03125 48 33.890625 48 \nQ 26.265625 48 22.1875 43.046875 \nQ 18.109375 38.09375 18.109375 28.8125 \nL 18.109375 0 \nL 9.078125 0 \nL 9.078125 54.6875 \nL 18.109375 54.6875 \nL 18.109375 46.1875 \nQ 20.953125 51.171875 25.484375 53.578125 \nQ 30.03125 56 36.53125 56 \nQ 37.453125 56 38.578125 55.875 \nQ 39.703125 55.765625 41.0625 55.515625 \nz\n\" id=\"DejaVuSans-114\"/>\n     </defs>\n     <g transform=\"translate(14.798437 141.734844)rotate(-90)scale(0.1 -0.1)\">\n      <use xlink:href=\"#DejaVuSans-84\"/>\n      <use x=\"60.818359\" xlink:href=\"#DejaVuSans-101\"/>\n      <use x=\"122.341797\" xlink:href=\"#DejaVuSans-115\"/>\n      <use x=\"174.441406\" xlink:href=\"#DejaVuSans-116\"/>\n      <use x=\"213.650391\" xlink:href=\"#DejaVuSans-32\"/>\n      <use x=\"245.4375\" xlink:href=\"#DejaVuSans-115\"/>\n      <use x=\"297.537109\" xlink:href=\"#DejaVuSans-99\"/>\n      <use x=\"352.517578\" xlink:href=\"#DejaVuSans-111\"/>\n      <use x=\"413.699219\" xlink:href=\"#DejaVuSans-114\"/>\n      <use x=\"454.78125\" xlink:href=\"#DejaVuSans-101\"/>\n     </g>\n    </g>\n   </g>\n   <g id=\"line2d_13\">\n    <path clip-path=\"url(#p7e6a55ce3c)\" d=\"M 99.996307 122.8201 \nL 101.521939 122.914256 \nL 103.047571 116.15531 \nL 103.810387 119.52965 \nL 104.573204 116.248904 \nL 106.098836 116.248904 \nL 106.861652 106.278777 \nL 107.624468 103.036819 \nL 108.387284 106.371544 \nL 110.675733 106.371544 \nL 111.438549 103.129316 \nL 116.015446 103.129316 \nL 116.778262 106.371544 \nL 119.06671 106.371544 \nL 119.829526 99.804281 \nL 120.592342 99.804281 \nL 121.355158 103.036819 \nL 122.117975 99.712061 \nL 126.694871 99.712061 \nL 127.457688 93.092205 \nL 141.951194 93.092205 \nL 142.71401 89.796991 \nL 156.444701 89.796991 \nL 157.207517 86.511508 \nL 174.752288 86.511508 \nL 175.515104 89.705596 \nL 182.380449 89.705596 \nL 183.143265 86.511508 \nL 183.906081 89.705596 \nL 186.19453 89.705596 \nL 186.957346 86.511508 \nL 191.534243 86.511508 \nL 192.297059 83.326563 \nL 193.059875 83.326563 \nL 194.585507 76.803211 \nL 200.688036 76.803211 \nL 201.450852 70.407701 \nL 205.264933 70.407701 \nL 206.027749 67.178901 \nL 359.353791 67.178901 \nL 360.116608 70.317886 \nL 360.879424 67.178901 \nL 361.64224 67.178901 \nL 362.405056 70.317886 \nL 376.898562 70.317886 \nL 377.661379 73.465752 \nL 378.424195 70.317886 \nL 379.187011 70.317886 \nL 379.949827 76.803211 \nL 381.475459 76.803211 \nL 382.238275 70.407701 \nL 383.001092 73.6459 \nL 383.763908 70.407701 \nL 385.28954 70.407701 \nL 386.052356 73.6459 \nL 387.577988 73.6459 \nL 388.340804 76.803211 \nL 389.103621 76.803211 \nL 389.866437 79.969507 \nL 391.392069 79.969507 \nL 392.917701 73.6459 \nL 393.680517 76.803211 \nL 395.20615 76.803211 \nL 395.968966 79.969507 \nL 399.02023 79.969507 \nL 399.783046 76.712877 \nL 400.545863 79.969507 \nL 404.359943 79.969507 \nL 404.359943 79.969507 \n\" style=\"fill:none;stroke:#1f77b4;stroke-linecap:square;stroke-width:1.5;\"/>\n   </g>\n   <g id=\"patch_3\">\n    <path d=\"M 84.778125 224.64 \nL 84.778125 7.2 \n\" style=\"fill:none;stroke:#000000;stroke-linecap:square;stroke-linejoin:miter;stroke-width:0.8;\"/>\n   </g>\n   <g id=\"patch_4\">\n    <path d=\"M 419.578125 224.64 \nL 419.578125 7.2 \n\" style=\"fill:none;stroke:#000000;stroke-linecap:square;stroke-linejoin:miter;stroke-width:0.8;\"/>\n   </g>\n   <g id=\"patch_5\">\n    <path d=\"M 84.778125 224.64 \nL 419.578125 224.64 \n\" style=\"fill:none;stroke:#000000;stroke-linecap:square;stroke-linejoin:miter;stroke-width:0.8;\"/>\n   </g>\n   <g id=\"patch_6\">\n    <path d=\"M 84.778125 7.2 \nL 419.578125 7.2 \n\" style=\"fill:none;stroke:#000000;stroke-linecap:square;stroke-linejoin:miter;stroke-width:0.8;\"/>\n   </g>\n   <g id=\"legend_1\">\n    <g id=\"patch_7\">\n     <path d=\"M 336.489062 29.878125 \nL 412.578125 29.878125 \nQ 414.578125 29.878125 414.578125 27.878125 \nL 414.578125 14.2 \nQ 414.578125 12.2 412.578125 12.2 \nL 336.489062 12.2 \nQ 334.489062 12.2 334.489062 14.2 \nL 334.489062 27.878125 \nQ 334.489062 29.878125 336.489062 29.878125 \nz\n\" style=\"fill:#ffffff;opacity:0.8;stroke:#cccccc;stroke-linejoin:miter;\"/>\n    </g>\n    <g id=\"line2d_14\">\n     <path d=\"M 338.489062 20.298437 \nL 358.489062 20.298437 \n\" style=\"fill:none;stroke:#1f77b4;stroke-linecap:square;stroke-width:1.5;\"/>\n    </g>\n    <g id=\"line2d_15\"/>\n    <g id=\"text_15\">\n     <!-- CV score -->\n     <defs>\n      <path d=\"M 28.609375 0 \nL 0.78125 72.90625 \nL 11.078125 72.90625 \nL 34.1875 11.53125 \nL 57.328125 72.90625 \nL 67.578125 72.90625 \nL 39.796875 0 \nz\n\" id=\"DejaVuSans-86\"/>\n     </defs>\n     <g transform=\"translate(366.489062 23.798437)scale(0.1 -0.1)\">\n      <use xlink:href=\"#DejaVuSans-67\"/>\n      <use x=\"69.824219\" xlink:href=\"#DejaVuSans-86\"/>\n      <use x=\"138.232422\" xlink:href=\"#DejaVuSans-32\"/>\n      <use x=\"170.019531\" xlink:href=\"#DejaVuSans-115\"/>\n      <use x=\"222.119141\" xlink:href=\"#DejaVuSans-99\"/>\n      <use x=\"277.099609\" xlink:href=\"#DejaVuSans-111\"/>\n      <use x=\"338.28125\" xlink:href=\"#DejaVuSans-114\"/>\n      <use x=\"379.363281\" xlink:href=\"#DejaVuSans-101\"/>\n     </g>\n    </g>\n   </g>\n  </g>\n </g>\n <defs>\n  <clipPath id=\"p7e6a55ce3c\">\n   <rect height=\"217.44\" width=\"334.8\" x=\"84.778125\" y=\"7.2\"/>\n  </clipPath>\n </defs>\n</svg>\n"
     },
     "metadata": {
      "needs_background": "light"
     }
    }
   ],
   "source": [
    "kfolds = 10 # Number of folds used in K-fold cross validation.\n",
    "C = np.logspace(-5, 5, num=400) # Inverse regularization parameter.\n",
    "\n",
    "# Perform cross-validation over the range of parameters\n",
    "means = np.zeros(C.size) \n",
    "stds  = np.zeros(C.size)\n",
    "for i, c_val in enumerate(C):\n",
    "    logreg = LogisticRegression(C=c_val, max_iter=500)\n",
    "    scores = model_selection.cross_val_score(logreg, X, y, cv=kfolds)\n",
    "    means[i], stds[i] = scores.mean(), scores.std()\n",
    "\n",
    "# Plot results of cross-validations\n",
    "plt.loglog(C, means, label=\"CV score\")\n",
    "plt.fill_between(C, (means-stds), (means+stds), alpha=0.15)\n",
    "plt.xlabel('C')\n",
    "plt.ylabel('Test score')\n",
    "plt.legend()\n",
    "plt.show()"
   ]
  },
  {
   "source": [
    "## 1.2 Optimization Methods (20 pts)"
   ],
   "cell_type": "markdown",
   "metadata": {}
  },
  {
   "cell_type": "code",
   "execution_count": 9,
   "metadata": {},
   "outputs": [],
   "source": [
    "C = 1 # Inverse regularization parameter.\n",
    "\n",
    "def sigmoid(z):\n",
    "    \"\"\"\n",
    "    Numerically stable logistic sigmoid function.\n",
    "    \"\"\"\n",
    "    out = np.zeros_like(z)\n",
    "    mask = z >= 0\n",
    "    out[mask]  = 1 / (1 + np.exp(-z[mask]))                # z positive \n",
    "    out[~mask] = np.exp(z[~mask]) / (1 + np.exp(z[~mask])) # z negative\n",
    "    return out\n",
    "\n",
    "def gradient(beta, X, y):\n",
    "    \"\"\"\n",
    "    Returns the gradient of the loss function for the given arguments.\n",
    "    \"\"\"\n",
    "    return beta/C + ((sigmoid(-y*X.dot(beta))*(-y)).dot(X)) / X.shape[0]\n",
    "\n",
    "def predict(beta, X):\n",
    "    \"\"\"\n",
    "    Return predicted class label for each instance (i.e. row) in X. \n",
    "    \"\"\"\n",
    "    y_prediction = np.zeros(X.shape[0])\n",
    "    mask = X.dot(beta) > 0 \n",
    "    y_prediction[mask]  = 1\n",
    "    y_prediction[~mask] = -1\n",
    "    return y_prediction\n",
    "\n",
    "def zero_one_loss(y_prediction, y_truth):\n",
    "    \"\"\"\n",
    "    Count the wrongly classified labels.\n",
    "    \"\"\"\n",
    "    return (y_prediction != y_truth).sum()\n"
   ]
  },
  {
   "cell_type": "code",
   "execution_count": 26,
   "metadata": {},
   "outputs": [],
   "source": [
    "m = 150 # Number of iterations to perform.\n",
    "\n",
    "def GD(X, y, beta_0, tau_0, gamma):\n",
    "    \"\"\"\n",
    "    Plain gradient descent.\n",
    "    \"\"\"\n",
    "    beta = beta_0                       # Set initial guess.   \n",
    "    for t in range(m):                  # For each iteration, do:\n",
    "        tau = tau_0 / (1 + gamma*t)         # Get the current learning rate.\n",
    "        beta -= tau * gradient(beta, X, y)  # Compute the gradient for the entire TS.\n",
    "    return beta\n",
    "\n",
    "def SGD(X, y, beta_0, tau_0, gamma, B=1, mu=0):\n",
    "    \"\"\"\n",
    "    Stochastic gradient descent with (optionally) minibatch and/or momentum.\n",
    "    \n",
    "    Parameters:\n",
    "    ----------- \n",
    "    X: feature matrix\n",
    "    y: reponse vector\n",
    "    beta_0: initial guess of solution\n",
    "    tau_0: initial learning rate\n",
    "    gamma: learning rate decay\n",
    "    B: random batch size for gradient computation\n",
    "    mu: momentum fraction (mu=0 deactivated)\n",
    "\n",
    "    Returns:\n",
    "    --------\n",
    "    beta: final solution after m iterations \n",
    "    \"\"\"\n",
    "    beta = beta_0                       # Set initial guess.\n",
    "    g = np.zeros_like(beta)             # Initialize gradient memory.\n",
    "    for t in range(m):                  # For each iteration, do:\n",
    "        tau = tau_0 / (1 + gamma*t)                  # Get the current learning rate.\n",
    "        i = np.random.randint(y.size, size=B)        # Sample a subset of instances uniformly at random.  \n",
    "        g = mu*g + (1-mu)*gradient(beta, X[i], y[i]) # Get gradient on the subset, weighted with old value.\n",
    "        beta -= tau * g                              # Update solution.\n",
    "    return beta\n",
    "\n",
    "def ADAM():\n",
    "    \"\"\"\n",
    "    ADAM optimizer.    \n",
    "    \"\"\"\n",
    "\n",
    "    return\n"
   ]
  },
  {
   "cell_type": "code",
   "execution_count": 64,
   "metadata": {},
   "outputs": [
    {
     "output_type": "stream",
     "name": "stdout",
     "text": [
      "[149]\n"
     ]
    }
   ],
   "source": [
    "i = np.random.randint(y.size, size=1)\n",
    "print(i)"
   ]
  },
  {
   "cell_type": "code",
   "execution_count": 50,
   "metadata": {},
   "outputs": [
    {
     "output_type": "stream",
     "name": "stdout",
     "text": [
      "Accuracy: 0.969 ± 0.053\n"
     ]
    }
   ],
   "source": [
    "n_splits = 10\n",
    "\n",
    "kf = model_selection.KFold(n_splits=n_splits)\n",
    "error = []\n",
    "for train_index, test_index in kf.split(X):\n",
    "    # Get current train/test split.\n",
    "    X_train, X_test = X[train_index], X[test_index]\n",
    "    y_train, y_test = y[train_index], y[test_index]\n",
    "\n",
    "    # Train classifier on training set.\n",
    "    beta_0 = np.zeros(X.shape[1])\n",
    "    tau_0 = 0.01\n",
    "    gamma = 0.001\n",
    "    beta = grad_desc(X_train, y_train, beta_0, tau_0, gamma)\n",
    "\n",
    "    # Get predictions on test set.\n",
    "    y_prediction = predict(beta, X_test)\n",
    "\n",
    "    # Evaluate performance\n",
    "    err_count = zero_one_loss(y_prediction, y_test)\n",
    "    error.append(err_count/y_test.size)\n",
    "\n",
    "error = np.array(error)\n",
    "accuracy = 1 - error\n",
    "print(f\"Accuracy: {accuracy.mean():.3f} ± {accuracy.std():.3f}\")"
   ]
  },
  {
   "cell_type": "code",
   "execution_count": 12,
   "metadata": {},
   "outputs": [],
   "source": [
    "\n",
    "\n",
    "def SAG():\n",
    "    \"\"\"\n",
    "    Stochastic average gradient descent.\n",
    "    \"\"\"\n",
    "    return\n",
    "\n",
    "def dual_coord_asc():\n",
    "    \"\"\"\n",
    "    Dual coordinate ascent.\n",
    "    \"\"\"\n",
    "    return\n",
    "\n",
    "def newton_raphson():\n",
    "    \"\"\"\n",
    "    Newton/Raphson's algorithm.\n",
    "    \"\"\"\n",
    "    return\n",
    "\n"
   ]
  },
  {
   "cell_type": "code",
   "execution_count": null,
   "metadata": {},
   "outputs": [],
   "source": []
  }
 ],
 "metadata": {
  "kernelspec": {
   "display_name": "Python 3",
   "language": "python",
   "name": "python3"
  }
 },
 "nbformat": 4,
 "nbformat_minor": 4
}