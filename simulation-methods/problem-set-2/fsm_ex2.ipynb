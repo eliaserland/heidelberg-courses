{
 "cells": [
  {
   "source": [
    "# Problem Set 2\n",
    "## Fundamentals of Simulation Methods\n",
    "\n",
    "#### Author:    Elias Olofsson\n",
    "\n",
    "#### Version information:\n",
    "        2020-11-12: v.1.0. First public release. \n",
    "\n",
    "\n",
    "\n",
    "## Exercise 1 - Pitfalls of pseudo-random number generators"
   ],
   "cell_type": "markdown",
   "metadata": {}
  },
  {
   "cell_type": "code",
   "execution_count": 1,
   "metadata": {},
   "outputs": [],
   "source": [
    "import numpy as np\n",
    "import matplotlib.pyplot as plt\n",
    "\n",
    "m = 2**31\n",
    "def randu(x):\n",
    "    return (65539*x) % m"
   ]
  },
  {
   "cell_type": "code",
   "execution_count": 4,
   "metadata": {},
   "outputs": [
    {
     "output_type": "error",
     "ename": "IndentationError",
     "evalue": "expected an indented block (<ipython-input-4-b879824d3446>, line 57)",
     "traceback": [
      "\u001b[0;36m  File \u001b[0;32m\"<ipython-input-4-b879824d3446>\"\u001b[0;36m, line \u001b[0;32m57\u001b[0m\n\u001b[0;31m    else:\u001b[0m\n\u001b[0m    ^\u001b[0m\n\u001b[0;31mIndentationError\u001b[0m\u001b[0;31m:\u001b[0m expected an indented block\n"
     ]
    }
   ],
   "source": [
    "# Data points\n",
    "n = 10**3\n",
    "\n",
    "# Settings\n",
    "filter_data = False     # Zoom ON/OFF. Not compatible with 3D plotting.\n",
    "use_randu = False       # If True, RANDU is used. Else default python rng is used.\n",
    "plot_3d = False         # Plot data in 3D using 3-tuples, otherwise 2D.\n",
    "\n",
    "# Set dimensions accourding to plot settings above\n",
    "if plot_3d:\n",
    "    d = 3\n",
    "else:\n",
    "    d = 2\n",
    "\n",
    "# If zoomed, specify limits of the square\n",
    "x_low  = 0.2\n",
    "x_high = 0.201\n",
    "y_low  = 0.3\n",
    "y_high = 0.301\n",
    "\n",
    "# Allocate matrix with negative values\n",
    "a = np.zeros(n*d, dtype = float)\n",
    "\n",
    "# Seed the generator\n",
    "if use_randu:\n",
    "    seed = 113\n",
    "    I = randu(seed)\n",
    "else:\n",
    "    np.random.seed(0)\n",
    "\n",
    "# Generate random numbers\n",
    "for i in range(n*d):\n",
    "    if use_randu:\n",
    "        I = randu(I)\n",
    "        u = I/m\n",
    "    else:\n",
    "        u = np.random.random()\n",
    "\n",
    "    # If zoom is enabled, filter values. If disabled, save all values.\n",
    "    if filter_data:\n",
    "        # Alternate for x and y. Save value if within limits.\n",
    "        if (i % 2) == 0:\n",
    "            if (u>x_low) and (u<x_high):\n",
    "                a[i] = u\n",
    "        else:\n",
    "            if (u>y_low) and (u<y_high):\n",
    "                a[i] = u\n",
    "    else: \n",
    "        a[i] = u\n",
    "\n",
    "# Reshape vector into n-by-d matrix\n",
    "a = a.reshape(n,d)\n",
    "\n",
    "# If filtering is on, remove all zeros from matrix \n",
    "if filter_data:\n",
    "    a = a[(a[:,0]>0),:]\n",
    "    a = a[(a[:,1]>0),:]\n",
    "\n",
    "# Plotting 2D or 3D\n",
    "if plot_3d:\n",
    "\n",
    "else:\n",
    "    plt.scatter(a[:,0], a[:,1])\n",
    "    if filter_data:\n",
    "        plt.xlim(x_low,x_high)\n",
    "        plt.ylim(y_low,y_high)\n",
    "\n",
    "plt.savefig(\"scatter.png\")"
   ]
  },
  {
   "source": [
    "## Exercise 2 - Performance of Monte Carlo integration in different dimensions"
   ],
   "cell_type": "markdown",
   "metadata": {}
  },
  {
   "cell_type": "code",
   "execution_count": null,
   "metadata": {},
   "outputs": [],
   "source": [
    "def f(x, d):\n",
    "    out = 1\n",
    "    for i in range(d):\n",
    "        out *= 3/2*(1-x[i]**2)\n",
    "    return out\n",
    "\n",
    "# Choose integration method. True = Monte Carlo, False = Midpoint.\n",
    "method = True\n",
    "\n",
    "n = 6   # No. of dimensions\n",
    "d = 1   # No. of points per dimension\n",
    "\n",
    "\n",
    "\n",
    "\n",
    "\n"
   ]
  }
 ],
 "metadata": {
  "kernelspec": {
   "name": "python38564bit62ca0be406394c878e5abe5a57019f71",
   "display_name": "Python 3.8.5 64-bit"
  }
 },
 "nbformat": 4,
 "nbformat_minor": 4
}