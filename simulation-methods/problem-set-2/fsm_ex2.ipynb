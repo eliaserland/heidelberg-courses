{
 "cells": [
  {
   "source": [
    "# Problem Set 2\n",
    "## Fundamentals of Simulation Methods\n",
    "\n",
    "#### Author:    Elias Olofsson\n",
    "\n",
    "#### Version information:\n",
    "        2020-11-12: v.1.0. First public release. \n",
    "\n",
    "\n",
    "\n",
    "## Exercise 1 - Pitfalls of pseudo-random number generators"
   ],
   "cell_type": "markdown",
   "metadata": {}
  },
  {
   "cell_type": "code",
   "execution_count": 14,
   "metadata": {},
   "outputs": [
    {
     "output_type": "stream",
     "name": "stdout",
     "text": [
      "214147157\n1184882943\n887005949\n1100540151\n767671013\n1143615663\n2100138509\n160806439\n1390944885\n455960415\n954676765\n1624416855\n1154410245\n896644367\n1432624941\n525950343\n999495829\n1263421887\n732552509\n1614452663\n"
     ]
    }
   ],
   "source": [
    "import numpy as np\n",
    "import matplotlib.pyplot as plt\n",
    "\n",
    "def randu(x):\n",
    "    return (65539*x) % 2**31\n",
    "\n",
    "\n",
    "n = 1000\n",
    "seed = 11111\n",
    "\n",
    "I2 = randu(seed)\n",
    "\n",
    "for i in range(n):\n",
    "    I1 = randu(I2)\n",
    "    I2 = randu(I1)\n",
    "\n",
    "    x = I1 / 2**31\n",
    "    y = I2 / 2**31\n",
    "\n",
    "    \n",
    "\n",
    "\n",
    "\n"
   ]
  },
  {
   "cell_type": "code",
   "execution_count": null,
   "metadata": {},
   "outputs": [],
   "source": []
  }
 ],
 "metadata": {
  "kernelspec": {
   "name": "python38564bit62ca0be406394c878e5abe5a57019f71",
   "display_name": "Python 3.8.5 64-bit"
  }
 },
 "nbformat": 4,
 "nbformat_minor": 4
}