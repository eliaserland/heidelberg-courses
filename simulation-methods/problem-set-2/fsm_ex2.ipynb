{
 "cells": [
  {
   "source": [
    "# Problem Set 2\n",
    "## Fundamentals of Simulation Methods\n",
    "\n",
    "#### Author:    Elias Olofsson\n",
    "\n",
    "#### Version information:\n",
    "        2020-11-12: v.1.0. First public release. \n",
    "\n",
    "\n",
    "\n",
    "## Exercise 1"
   ],
   "cell_type": "markdown",
   "metadata": {}
  },
  {
   "cell_type": "code",
   "execution_count": null,
   "metadata": {},
   "outputs": [],
   "source": []
  }
 ],
 "metadata": {
  "kernelspec": {
   "name": "python38564bit62ca0be406394c878e5abe5a57019f71",
   "display_name": "Python 3.8.5 64-bit"
  }
 },
 "nbformat": 4,
 "nbformat_minor": 4
}