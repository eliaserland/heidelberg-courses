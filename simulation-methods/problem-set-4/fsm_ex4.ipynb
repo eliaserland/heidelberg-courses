{
 "cells": [
  {
   "source": [
    "# Problem Set 4\n",
    "## Fundamentals of Simulation Methods, WiSe 20/21\n",
    "\n",
    "#### Author:    Elias Olofsson\n",
    "\n",
    "#### Version information:\n",
    "        2020-12-02: v.1.0. First public release. \n"
   ],
   "cell_type": "markdown",
   "metadata": {}
  },
  {
   "cell_type": "code",
   "execution_count": 1,
   "metadata": {},
   "outputs": [],
   "source": [
    "import numpy as np\n",
    "import matplotlib.pyplot as plt"
   ]
  },
  {
   "source": [
    "## Exercise 1 - The 2-body problem: Orbit of planet around the Sun (8 pts)"
   ],
   "cell_type": "markdown",
   "metadata": {}
  },
  {
   "cell_type": "code",
   "execution_count": 3,
   "metadata": {},
   "outputs": [],
   "source": [
    "# Constants\n",
    "M_solar = 1.99 * 10**30 # Solar mass                (kg)\n",
    "AU = 1.496 * 10**11     # Astronomical unit         (m)\n",
    "AU_v = 2.98 * 10**4     # Kepler velocity           (m/s)    \n",
    "G = 6.673 * 10**-11     # Gravitational constant    (m^3*kg^-1*s^-2)\n",
    "\n",
    "# System parameters\n",
    "M_s = M_solar*1                         # Mass of star\n",
    "M_p =  M_solar*10**-3                   # Mass of planet\n",
    "\n",
    "# Initial conditions\n",
    "x_p_init = np.array([1,0,0])*AU         # Planet position\n",
    "v_p_init = np.array([0,0.5,0])*AU_v     # Planet velocity\n",
    "\n",
    "x_s_init = np.array([0,0,0])*AU         # Star position\n",
    "v_s_init = np.array([0,0,0])*AU_v       # Star velocity"
   ]
  },
  {
   "cell_type": "code",
   "execution_count": 15,
   "metadata": {},
   "outputs": [],
   "source": [
    "def f(x,v):\n",
    "    x_next = v \n",
    "    r = np.linalg.norm(x[0,:]-x[1,:])\n",
    "    v_next[0,:] = G*M_s*(x[1,:]-x[0,:])/r**3\n",
    "    v_next[1,:] = G*M_p*(x[0,:]-x[1,:])/r**3\n",
    "    return x_next, v_next"
   ]
  },
  {
   "cell_type": "code",
   "execution_count": 9,
   "metadata": {},
   "outputs": [],
   "source": [
    "# Leapfrog integration\n",
    "\n",
    "dt = 10**9 \n",
    "\n",
    "\n",
    "x\n",
    "\n",
    "\n",
    "\n",
    "\n",
    "\n"
   ]
  },
  {
   "cell_type": "code",
   "execution_count": null,
   "metadata": {},
   "outputs": [],
   "source": []
  }
 ],
 "metadata": {
  "kernelspec": {
   "name": "python3",
   "display_name": "Python 3"
  }
 },
 "nbformat": 4,
 "nbformat_minor": 4
}