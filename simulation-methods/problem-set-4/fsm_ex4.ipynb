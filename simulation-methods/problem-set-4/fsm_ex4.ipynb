{
 "cells": [
  {
   "source": [
    "# Problem Set 4\n",
    "## Fundamentals of Simulation Methods, WiSe 20/21\n",
    "\n",
    "#### Author:    Elias Olofsson\n",
    "\n",
    "#### Version information:\n",
    "        2020-12-02: v.1.0. First public release. \n"
   ],
   "cell_type": "markdown",
   "metadata": {}
  },
  {
   "cell_type": "code",
   "execution_count": 1,
   "metadata": {},
   "outputs": [],
   "source": [
    "import numpy as np\n",
    "import matplotlib.pyplot as plt"
   ]
  },
  {
   "source": [
    "## Exercise 1 - The 2-body problem: Orbit of planet around the Sun (8 pts)"
   ],
   "cell_type": "markdown",
   "metadata": {}
  }
 ],
 "metadata": {
  "kernelspec": {
   "name": "python3",
   "display_name": "Python 3"
  }
 },
 "nbformat": 4,
 "nbformat_minor": 4
}