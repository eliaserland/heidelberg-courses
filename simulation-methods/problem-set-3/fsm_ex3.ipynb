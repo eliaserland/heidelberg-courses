{
 "cells": [
  {
   "source": [
    "# Problem Set 3\n",
    "## Fundamentals of Simulation Methods\n",
    "\n",
    "#### Author:    Elias Olofsson\n",
    "\n",
    "#### Version information:\n",
    "        2020-11-25: v.1.0. First public release. \n"
   ],
   "cell_type": "markdown",
   "metadata": {}
  },
  {
   "cell_type": "code",
   "execution_count": 2,
   "metadata": {},
   "outputs": [],
   "source": [
    "from mpl_toolkits.mplot3d import Axes3D\n",
    "import numpy as np\n",
    "import matplotlib.pyplot as plt\n",
    "import time"
   ]
  },
  {
   "source": [
    "## Exercise 2 - Integration of a stiff equation (8 pts)"
   ],
   "cell_type": "markdown",
   "metadata": {}
  },
  {
   "cell_type": "code",
   "execution_count": null,
   "metadata": {},
   "outputs": [],
   "source": []
  }
 ],
 "metadata": {
  "kernelspec": {
   "name": "python3",
   "display_name": "Python 3"
  }
 },
 "nbformat": 4,
 "nbformat_minor": 4
}