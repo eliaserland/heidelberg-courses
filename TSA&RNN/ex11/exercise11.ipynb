{
 "cells": [
  {
   "cell_type": "markdown",
   "metadata": {},
   "source": [
    "# Exercise 11\n",
    "## Time Series Analysis & Recurrent Neural Networks, SoSe 2021\n",
    "### Author: Elias Olofsson\n",
    "    Version information:\n",
    "        2021-07-05: v.1.0. First public release. "
   ]
  },
  {
   "cell_type": "markdown",
   "metadata": {},
   "source": [
    "## Task 1: Laplace Approximation"
   ]
  },
  {
   "cell_type": "markdown",
   "metadata": {},
   "source": [
    "Laplace's method states that\n",
    "    \\begin{equation}\n",
    "        \\int e^{M f(x)} \\approx \\sqrt{\\frac{2 \\pi}{M\\left|f^{\\prime \\prime}\\left(x_{0}\\right)\\right|}} e^{M f\\left(x_{0}\\right)} \\text { as } M \\rightarrow \\infty,\n",
    "    \\end{equation}\n",
    "    with $x_0$ as the global maximum of $f$. Using the Laplace's method, we can approximate the integral\n",
    "    \\begin{equation}\n",
    "        N ! =\\int_{0}^{\\infty} e^{-t} t^{N} d t.\n",
    "    \\end{equation}\n",
    "    First, we notice that the integral can be rewritten as\n",
    "    \\begin{align}\n",
    "        N ! &=\\int_{0}^{\\infty} e^{-t} t^{N} d t\\\\\n",
    "        &= \\int_{0}^{\\infty} e^{-t} e^{\\log(t^{N})} d t\\\\\n",
    "        &= \\int_{0}^{\\infty} e^{N\\log(t)-t} d t.\n",
    "    \\end{align}\n",
    "    Doing a variable substitution $t = Nx$, $dt = N dx$, we get\n",
    "    \\begin{align}\n",
    "        N ! &= \\int_{0}^{\\infty} e^{N\\log(N)+ N\\log(x)-Nx} N d x\\\\\n",
    "        &= N^{N+1}\\int_{0}^{\\infty} e^{N\\log(x)-Nx} d x\\\\\n",
    "        &= N^{N+1}\\int_{0}^{\\infty} e^{Nf(x)} d x, \n",
    "    \\end{align}\n",
    "    where we defined\n",
    "    \\begin{equation}\n",
    "        f(x) = \\log(x)-x.\n",
    "    \\end{equation}\n",
    "    We can notice that $f$ is only defined for $x>0$ and has a single extrema at $x_0 = 1$, which is the global maximum. Doing a Taylor expansion of $f$ at this extreme point gives\n",
    "    \\begin{align}\n",
    "        f(x) &= f(x_0) + f'(x_0)(x-x_0) - \\frac{1}{2} f''(x_0)(x-x_0)^2 + \\mathcal{O}((x-x_0)^3) \\\\\n",
    "        &\\approx f(x_0) - \\frac{1}{2} |f''(x_0)|(x-x_0)^2,\n",
    "    \\end{align}\n",
    "    where the first derivative disappeared since $x_0$ is an extrema. Plugging back into the integral yields\n",
    "    \\begin{align}\n",
    "        N ! &\\approx N^{N+1}\\int_{0}^{\\infty} e^{Nf(x_0) - \\frac{1}{2} N|f''(x_0)|(x-x_0)^2} d x\\\\\n",
    "        &= N^{N+1} e^{Nf(x_0)}\\int_{0}^{\\infty} e^{- \\frac{1}{2} N|f''(x_0)|(x-x_0)^2} d x\\\\\n",
    "        &\\approx N^{N+1} e^{Nf(x_0)}\\int_{-\\infty}^{\\infty} e^{-\\frac{1}{2} N|f''(x_0)|(x-x_0)^2} d x\n",
    "    \\end{align}\n",
    "    where the last line is only approximately true since technically $f$ is only defined for $x>0$ in the original functional expression. However, since $x_0 = 1 > 0$ and N is large (i.e. small width/variance), the integral will have a very small contribution from the region $x<0$. Nonetheless, this extension of the integration bounds allows us to manipulate the integral and complete it into a Gaussian integral with mean $\\mu = x_0$ and variance $\\sigma^2 = 1/\\left(N|f''(t_0)|\\right)$ as per\n",
    "    \\begin{align}\n",
    "        N ! &\\approx N^{N+1} \\sqrt{\\frac{2\\pi}{N|f''(x_0)|}} e^{Nf(x_0)} \\int_{-\\infty}^{\\infty} \\sqrt{\\frac{N|f''(x_0)|}{2\\pi}} e^{-\\frac{1}{2}N|f''(x_0)|(x-x_0)^2} d x\\\\\n",
    "        &= N^{N+1} \\sqrt{\\frac{2\\pi}{N|f''(x_0)|}} e^{Nf(x_0)}\n",
    "    \\end{align}\n",
    "    where we used the fact that the Gaussian is normalized. Finally, plugging in the function value and the second derivative of $f(x)$ at $x_0 = 1$, we arrive at\n",
    "    \\begin{align}\n",
    "        N ! &\\approx N^{N+1} \\sqrt{\\frac{2\\pi}{N|f''(x_0)|}} e^{Nf(x_0)}\\\\\n",
    "        &= N^{N+1} \\sqrt{\\frac{2\\pi}{N}} e^{-N}\\\\\n",
    "        &= \\sqrt{2\\pi N} N^N e^{-N}\\\\\n",
    "        &= \\sqrt{2\\pi N} \\left(\\frac{N}{e}\\right)^N,\n",
    "    \\end{align}\n",
    "    which is valid as $N \\rightarrow \\infty$, also known as Sterling's approximation."
   ]
  },
  {
   "cell_type": "markdown",
   "metadata": {},
   "source": [
    "## Task 2: Extended Kalman Filter"
   ]
  },
  {
   "cell_type": "code",
   "execution_count": null,
   "metadata": {},
   "outputs": [],
   "source": [
    "import numpy as np\n",
    "import pandas as pd\n",
    "import matplotlib.pyplot as plt\n",
    "#plt.rc('image', cmap='gray')\n",
    "\n",
    "import torch as tc\n",
    "import torch.nn as nn\n",
    "import torch.optim as optim\n",
    "import torch.nn.functional as F\n",
    "\n",
    "# Notebook graphics settings: \n",
    "%config InlineBackend.figure_format = 'svg' # inline graphics (options: 'svg', 'png', 'retina', etc.)\n",
    "plt.rcParams['figure.dpi'] = 200            # custom dpi setting for inline png:s"
   ]
  },
  {
   "cell_type": "code",
   "execution_count": null,
   "metadata": {},
   "outputs": [],
   "source": []
  },
  {
   "cell_type": "code",
   "execution_count": null,
   "metadata": {},
   "outputs": [],
   "source": []
  },
  {
   "cell_type": "code",
   "execution_count": null,
   "metadata": {},
   "outputs": [],
   "source": []
  },
  {
   "cell_type": "code",
   "execution_count": null,
   "metadata": {},
   "outputs": [],
   "source": []
  },
  {
   "cell_type": "code",
   "execution_count": null,
   "metadata": {},
   "outputs": [],
   "source": []
  },
  {
   "cell_type": "code",
   "execution_count": null,
   "metadata": {},
   "outputs": [],
   "source": []
  },
  {
   "cell_type": "code",
   "execution_count": null,
   "metadata": {},
   "outputs": [],
   "source": []
  },
  {
   "cell_type": "code",
   "execution_count": null,
   "metadata": {},
   "outputs": [],
   "source": []
  },
  {
   "cell_type": "code",
   "execution_count": null,
   "metadata": {},
   "outputs": [],
   "source": []
  },
  {
   "cell_type": "code",
   "execution_count": null,
   "metadata": {},
   "outputs": [],
   "source": []
  },
  {
   "cell_type": "code",
   "execution_count": null,
   "metadata": {},
   "outputs": [],
   "source": []
  },
  {
   "cell_type": "code",
   "execution_count": null,
   "metadata": {},
   "outputs": [],
   "source": []
  }
 ],
 "metadata": {
  "kernelspec": {
   "display_name": "Python 3.8.5 64-bit ('base': conda)",
   "language": "python",
   "name": "python385jvsc74a57bd0191b2412b5c825941a96bf30deef8bd9426d7fee1eaf0f751783c44781e2bb9d"
  },
  "language_info": {
   "codemirror_mode": {
    "name": "ipython",
    "version": 3
   },
   "file_extension": ".py",
   "mimetype": "text/x-python",
   "name": "python",
   "nbconvert_exporter": "python",
   "pygments_lexer": "ipython3",
   "version": "3.8.10"
  },
  "metadata": {
   "interpreter": {
    "hash": "31f2aee4e71d21fbe5cf8b01ff0e069b9275f58929596ceb00d14d90e3e16cd6"
   }
  }
 },
 "nbformat": 4,
 "nbformat_minor": 4
}
