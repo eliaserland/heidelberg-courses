{
 "cells": [
  {
   "cell_type": "markdown",
   "metadata": {},
   "source": [
    "# 3 Nearest Neighbor Classification on Real Data"
   ]
  },
  {
   "cell_type": "markdown",
   "metadata": {},
   "source": [
    "## 3.1 Exploring the Data"
   ]
  },
  {
   "cell_type": "code",
   "execution_count": 1,
   "metadata": {},
   "outputs": [],
   "source": [
    "import numpy as np\n",
    "import matplotlib.pyplot as plt\n",
    "from sklearn import model_selection\n",
    "from sklearn.datasets import load_digits\n",
    "from sklearn.neighbors import KNeighborsClassifier\n",
    "import time as get_time"
   ]
  },
  {
   "cell_type": "code",
   "execution_count": 2,
   "metadata": {},
   "outputs": [
    {
     "name": "stdout",
     "output_type": "stream",
     "text": [
      "dict_keys(['data', 'target', 'target_names', 'images', 'DESCR'])\n",
      "float64\n",
      "(8, 8)\n"
     ]
    },
    {
     "data": {
      "image/png": "[encoded data removed]",
      "text/plain": [
       "<Figure size 432x288 with 1 Axes>"
      ]
     },
     "metadata": {
      "needs_background": "light"
     },
     "output_type": "display_data"
    },
    {
     "data": {
      "image/png": "[encoded data removed]",
      "text/plain": [
       "<Figure size 432x288 with 1 Axes>"
      ]
     },
     "metadata": {
      "needs_background": "light"
     },
     "output_type": "display_data"
    }
   ],
   "source": [
    "# load dataset of handwritten digits\n",
    "digits = load_digits()\n",
    "\n",
    "print(digits.keys())\n",
    "\n",
    "data = digits[\"data\"]\n",
    "images = digits[\"images\"]\n",
    "target = digits[\"target\"]\n",
    "target_names = digits[\"target_names\"]\n",
    "\n",
    "print(data.dtype)\n",
    "\n",
    "img = images[3]\n",
    "print(img.shape)\n",
    "assert len(img.shape) == 2\n",
    "\n",
    "# visualize image of a 3\n",
    "plt.figure()\n",
    "plt.gray()\n",
    "plt.imshow(img, interpolation=\"nearest\")\n",
    "plt.show()\n",
    "\n",
    "plt.figure()\n",
    "plt.gray()\n",
    "plt.imshow(img, interpolation=\"bicubic\")\n",
    "plt.show()"
   ]
  },
  {
   "cell_type": "code",
   "execution_count": 3,
   "metadata": {},
   "outputs": [],
   "source": [
    "# separate data into training and test set\n",
    "X_all = data\n",
    "y_all = target\n",
    "\n",
    "X_train, X_test, y_train, y_test = \\\n",
    "    model_selection.train_test_split(digits.data, \n",
    "                                     digits.target, \n",
    "                                     test_size=0.4, \n",
    "                                     random_state=0)"
   ]
  },
  {
   "cell_type": "markdown",
   "metadata": {},
   "source": [
    "## 3.2 Distance function computation using loops"
   ]
  },
  {
   "cell_type": "code",
   "execution_count": 4,
   "metadata": {},
   "outputs": [],
   "source": [
    "def dist_loop(training: np.ndarray, test: np.ndarray) -> np.ndarray:\n",
    "    dist = np.zeros((training.shape[0], test.shape[0]))\n",
    "    for train_ind, train_inst in enumerate(training):\n",
    "        for test_ind, test_inst in enumerate(test):\n",
    "            dist[train_ind, test_ind] = np.linalg.norm(train_inst - test_inst)\n",
    "    return dist"
   ]
  },
  {
   "cell_type": "markdown",
   "metadata": {},
   "source": [
    "<span style=\"color:green; font-weight:bold\">Maybe better readability if use 'train_ind in range(len(training)):' , but sure if it works - probably only style question.</span>"
   ]
  },
  {
   "cell_type": "markdown",
   "metadata": {},
   "source": [
    "## 3.3 Distance function computation using vectorization"
   ]
  },
  {
   "cell_type": "code",
   "execution_count": 5,
   "metadata": {},
   "outputs": [],
   "source": [
    "def dist_vec(training: np.ndarray, test: np.ndarray) -> np.ndarray:\n",
    "    train_insts = np.full(\n",
    "        (test.shape[0], training.shape[0], training.shape[1]),\n",
    "        training\n",
    "    )  # returns MxNxD-array\n",
    "    train_insts = np.swapaxes(train_insts, 0, 1)  # swap to NxMxD-array\n",
    "\n",
    "    test_insts = np.full(\n",
    "        (training.shape[0], test.shape[0], test.shape[1]),\n",
    "        test\n",
    "    )  # returns NxMxD-array\n",
    "\n",
    "    diff = train_insts - test_insts\n",
    "    dist = np.linalg.norm(diff, axis=2)\n",
    "    return dist"
   ]
  },
  {
   "cell_type": "markdown",
   "metadata": {},
   "source": [
    "<span style=\"color:green; font-weight:bold\">Use e.g. np.expand_dims(training, axis = 1) command to save some space and also speed up.</span>"
   ]
  },
  {
   "cell_type": "code",
   "execution_count": 6,
   "metadata": {},
   "outputs": [
    {
     "name": "stdout",
     "output_type": "stream",
     "text": [
      "5.91 s ± 338 ms per loop (mean ± std. dev. of 7 runs, 1 loop each)\n",
      "1.14 s ± 23 ms per loop (mean ± std. dev. of 7 runs, 1 loop each)\n"
     ]
    }
   ],
   "source": [
    "%timeit dist_l = dist_loop(X_train, X_test)\n",
    "dist_l = dist_loop(X_train, X_test)\n",
    "%timeit dist_v = dist_vec(X_train, X_test)\n",
    "dist_v = dist_vec(X_train, X_test)\n",
    "np.testing.assert_almost_equal(dist_l, dist_v, decimal=14)"
   ]
  },
  {
   "cell_type": "markdown",
   "metadata": {},
   "source": [
    "## 3.4 Implement the k-nearest neighbor classifier"
   ]
  },
  {
   "cell_type": "code",
   "execution_count": 7,
   "metadata": {},
   "outputs": [],
   "source": [
    "# filter digits 3 and 9\n",
    "X_3_9 = X_all[(y_all == 3) | (y_all == 9)]\n",
    "y_3_9 = y_all[(y_all == 3) | (y_all == 9)]\n",
    "\n",
    "# separate data into training and test set\n",
    "X_train, X_test, y_train, y_test = \\\n",
    "    model_selection.train_test_split(X_3_9, \n",
    "                                     y_3_9, \n",
    "                                     test_size=0.4, \n",
    "                                     random_state=0)"
   ]
  },
  {
   "cell_type": "markdown",
   "metadata": {},
   "source": [
    "<span style=\"color:green; font-weight:bold\">You could use a mask to enhance readability, in case u need to use mask more often. eg mask = (y_all == 3) | (y_all == 9), and then X_3_9= X_all[mask]. Then it will be easier to adapt.  </span>"
   ]
  },
  {
   "cell_type": "code",
   "execution_count": 8,
   "metadata": {},
   "outputs": [],
   "source": [
    "def cls_nearest_neighbor(\n",
    "        x: np.ndarray,\n",
    "        x_train: np.ndarray,\n",
    "        y_train: np.ndarray,\n",
    "        k: int=1\n",
    ") -> np.ndarray:\n",
    "    \n",
    "    \"\"\"\n",
    "    M : test_set_size\n",
    "    N : train_set_size\n",
    "    D : pixels_per_image\n",
    "    \n",
    "    params\n",
    "    ------\n",
    "    x : np.array shape=(M, D)\n",
    "        Test data (features)\n",
    "    x_train : np.array shape=(N, D)\n",
    "        Training data (features)\n",
    "    y_train : np.array shape=(N)\n",
    "        Training data (labels)\n",
    "    k : int\n",
    "        k-nearest classifier, k <= N\n",
    "    \n",
    "    returns\n",
    "    -------\n",
    "    np.array shape=(M, k)\n",
    "        Predicted labels for test data.\n",
    "    \"\"\"    \n",
    "    diff = dist_vec(x_train, x)\n",
    "    ranked = np.argsort(diff, axis=0)[:k, :]\n",
    "    ranked = np.swapaxes(ranked, 0, 1)\n",
    "    \n",
    "    y = y_train[ranked]\n",
    "    \n",
    "    out = np.zeros((y.shape[0], np.unique(y).size, 2))\n",
    "\n",
    "    for i in range(y.shape[0]):\n",
    "        distr = np.array(np.unique(y[i, :], return_counts=True))\n",
    "        distr = np.swapaxes(distr, 0, 1)\n",
    "\n",
    "        sorting = np.argsort(distr[:,1])\n",
    "        distr[:, :] = distr[sorting, :]\n",
    "        out[i, -distr.shape[0]:, :] = distr\n",
    "        \n",
    "    return out[:, -1, 0]"
   ]
  },
  {
   "cell_type": "markdown",
   "metadata": {},
   "source": [
    "<span style=\"color:green; font-weight:bold\">Nice that you define params well. But consider to do vectorized version with:   \n",
    "    -idx = np.argpartition(diff, k, axis=0)[:k] # where idx[k] is the k'th nearest neightbor for test image (your x)  \n",
    "    -Y_k_NN= Y_train[idx]  # returns to idx corresponding labels of the k'th nn's    \n",
    "    -Y_test_predict=stats.mode(Y_k_NN, axis=0)[0][0]   # inbuild stats funtion to compute which label is more often in Y_k_NN\n",
    "    </span>"
   ]
  },
  {
   "cell_type": "code",
   "execution_count": 9,
   "metadata": {},
   "outputs": [
    {
     "name": "stdout",
     "output_type": "stream",
     "text": [
      "k=1 error_rate  0.68% (Abs.: 1)\n",
      "k=3 error_rate  0.68% (Abs.: 1)\n",
      "k=5 error_rate  0.00% (Abs.: 0)\n",
      "k=9 error_rate  1.37% (Abs.: 2)\n",
      "k=17 error_rate  1.37% (Abs.: 2)\n",
      "k=33 error_rate  2.05% (Abs.: 3)\n"
     ]
    }
   ],
   "source": [
    "ks = [1, 3, 5, 9, 17, 33]\n",
    "for k_ in ks:\n",
    "    response = cls_nearest_neighbor(X_test, X_train, y_train, k=k_)\n",
    "    diff = response - y_test\n",
    "    error_rate = len(diff[diff != 0]) / len(y_test)\n",
    "    print(f\"k={k_} error_rate {error_rate*100:5.2f}% (Abs.: {len(diff[diff != 0])})\")"
   ]
  },
  {
   "cell_type": "markdown",
   "metadata": {},
   "source": [
    "We see that the lowest error rate can be found for a medium k, even though the credibility doesn't seem to be that high considering the absolute error."
   ]
  },
  {
   "cell_type": "markdown",
   "metadata": {},
   "source": [
    "<span style=\"color:green; font-weight:bold\">Maybe visualize to make things more clear</span>"
   ]
  },
  {
   "cell_type": "markdown",
   "metadata": {},
   "source": [
    "### 4 Cross-validation"
   ]
  },
  {
   "cell_type": "code",
   "execution_count": 10,
   "metadata": {},
   "outputs": [],
   "source": [
    "def split_folds(data, target, L):\n",
    "    perm_indices = np.random.permutation(len(data))\n",
    "    data_out = np.array_split(data[perm_indices], L)\n",
    "    target_out = np.array_split(target[perm_indices], L)\n",
    "    return data_out, target_out"
   ]
  },
  {
   "cell_type": "markdown",
   "metadata": {},
   "source": [
    "<span style=\"color:green; font-weight:bold\">Nice, short and efficient</span>"
   ]
  },
  {
   "cell_type": "code",
   "execution_count": 12,
   "metadata": {},
   "outputs": [
    {
     "name": "stdout",
     "output_type": "stream",
     "text": [
      "\n",
      "--- L =  2 ---\n",
      " k\t     own [%]\t  sklearn [%]\town [s]\tsklearn [s]\n",
      " 1\t 1.73 +- 0.28\t 1.73 +- 0.28\t 2.6\t 0.2\n",
      " 5\t 1.78 +- 0.00\t 1.78 +- 0.00\t 2.6\t 0.3\n",
      "\n",
      "--- L =  5 ---\n",
      " k\t     own [%]\t  sklearn [%]\town [s]\tsklearn [s]\n",
      " 1\t 1.28 +- 0.45\t 1.28 +- 0.45\t 4.0\t 0.4\n",
      " 5\t 1.67 +- 0.50\t 1.56 +- 0.45\t 4.1\t 0.4\n",
      "\n",
      "--- L = 10 ---\n",
      " k\t     own [%]\t  sklearn [%]\town [s]\tsklearn [s]\n",
      " 1\t 1.06 +- 0.84\t 1.06 +- 0.84\t 4.6\t 0.5\n",
      " 5\t 1.45 +- 0.67\t 1.34 +- 0.62\t 4.6\t 0.5\n"
     ]
    }
   ],
   "source": [
    "Ls = [2, 5, 10]\n",
    "ks = [1, 5]\n",
    "\n",
    "for L in Ls:\n",
    "    X_folds, y_folds = split_folds(X_all, y_all, L)\n",
    "    own_error_rates = np.zeros((L, len(ks)))\n",
    "    sklearn_error_rates = np.zeros((L, len(ks)))\n",
    "    own_time = np.zeros(len(ks))\n",
    "    sklearn_time = np.zeros(len(ks))\n",
    "    for l in range(L):\n",
    "        # split folds into test and training set\n",
    "        X_test = X_folds[l]\n",
    "        y_test = y_folds[l]\n",
    "        \n",
    "        mask = np.arange(L)\n",
    "        mask = mask[np.where(mask != l)]\n",
    "        X_train = np.array([X_folds[index] for index in mask])\n",
    "        y_train = np.array([y_folds[index] for index in mask])\n",
    "        X_train = np.concatenate(X_train)\n",
    "        y_train = np.concatenate(y_train)\n",
    "        \n",
    "        # classification\n",
    "        for i, k_ in enumerate(ks):\n",
    "            # own classifier\n",
    "            start = get_time.time()\n",
    "            response = cls_nearest_neighbor(X_test, X_train, y_train, k=k_)\n",
    "            diff = response - y_test\n",
    "            own_error_rates[l, i] = len(diff[diff != 0]) / len(y_test)\n",
    "            own_time[i] += get_time.time() - start\n",
    "            # sklearn classifier\n",
    "            start = get_time.time()\n",
    "            neigh = KNeighborsClassifier(n_neighbors=k_)\n",
    "            neigh.fit(X_train, y_train)\n",
    "            response = neigh.predict(X_test)\n",
    "            diff = response - y_test\n",
    "            sklearn_error_rates[l, i] = len(diff[diff != 0]) / len(y_test)\n",
    "            sklearn_time[i] += get_time.time() - start\n",
    "    # caluculate error rate statistics\n",
    "    own_error_mean = np.mean(own_error_rates, axis=0)\n",
    "    own_error_std = np.std(own_error_rates, axis=0)\n",
    "    sklearn_error_mean = np.mean(sklearn_error_rates, axis=0)\n",
    "    sklearn_error_std = np.std(sklearn_error_rates, axis=0)\n",
    "    \n",
    "    print(f\"\\n--- L = {L:2} ---\")\n",
    "    print(\" k\\t     own [%]\\t  sklearn [%]\\town [s]\\tsklearn [s]\")\n",
    "    for i, k_ in enumerate(ks):\n",
    "        print(f\"{k_:2}\\t{own_error_mean[i]*100:5.2f} +- {own_error_std[i]*100:4.2f}\"\n",
    "              +f\"\\t{sklearn_error_mean[i]*100:5.2f} +- {sklearn_error_std[i]*100:4.2f}\"\n",
    "             +f\"\\t{own_time[i]:4.1f}\\t{sklearn_time[i]:4.1f}\")\n",
    "\n",
    "        "
   ]
  },
  {
   "cell_type": "markdown",
   "metadata": {},
   "source": [
    "Within the frame of uncertainty, we see no significant differences regarding the error rates of our own implementation and the one from sklearn, however, the sklearn implementation is way faster. Both classifiers achieve better results for k = 1 compared to k = 5. The error rates decrease with increasing number of folds L, while the classification time increases."
   ]
  },
  {
   "cell_type": "markdown",
   "metadata": {},
   "source": [
    "<span style=\"color:green; font-weight:bold\">Nice, that you also add a comparison of computing time.</span>"
   ]
  },
  {
   "cell_type": "code",
   "execution_count": null,
   "metadata": {},
   "outputs": [],
   "source": []
  }
 ],
 "metadata": {
  "kernelspec": {
   "display_name": "Python 3",
   "language": "python",
   "name": "python3"
  },
  "language_info": {
   "codemirror_mode": {
    "name": "ipython",
    "version": 3
   },
   "file_extension": ".py",
   "mimetype": "text/x-python",
   "name": "python",
   "nbconvert_exporter": "python",
   "pygments_lexer": "ipython3",
   "version": "3.8.3"
  }
 },
 "nbformat": 4,
 "nbformat_minor": 4
}
