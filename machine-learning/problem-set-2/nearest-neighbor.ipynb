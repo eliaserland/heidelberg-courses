{
  "nbformat": 4,
  "nbformat_minor": 0,
  "metadata": {
    "kernelspec": {
      "name": "python3",
      "display_name": "Python 3"
    },
    "colab": {
      "name": "monte-carlo.ipynb",
      "provenance": [],
      "collapsed_sections": []
    }
  },
  "cells": [
    {
      "cell_type": "markdown",
      "metadata": {
        "id": "VBBowUbXCLrU"
      },
      "source": [
        "# Exercise 1b\n",
        "\n",
        "## Fundamentals of Machine Learning\n",
        "\n",
        "#### Author: Elias Olofsson\n",
        "\n",
        "#### Version information:\n",
        "        2020-11-27: v.1.0. First public release. \n"
      ]
    },
    {
      "cell_type": "code",
      "metadata": {
        "id": "0zFJWP8hCLrU"
      },
      "source": [
        "import numpy as np\n",
        "import matplotlib.pyplot as plt\n",
        "import sklearn"
      ],
      "execution_count": 1,
      "outputs": []
    },
    {
      "source": [
        "## Exercise 3 - Nearest Neighbor Classification on Real Data\n",
        "\n",
        "### 3.1 - Exploring the Data (3 pts)"
      ],
      "cell_type": "markdown",
      "metadata": {}
    },
    {
      "cell_type": "code",
      "execution_count": 2,
      "metadata": {},
      "outputs": [
        {
          "output_type": "stream",
          "name": "stdout",
          "text": [
            "dict_keys(['data', 'target', 'target_names', 'images', 'DESCR'])\n"
          ]
        }
      ],
      "source": [
        "from sklearn.datasets import load_digits\n",
        "\n",
        "digits = load_digits()\n",
        "\n",
        "print(digits.keys())\n",
        "\n",
        "data         = digits[\"data\"]\n",
        "images       = digits[\"images\"]\n",
        "target       = digits[\"target\"]\n",
        "target_names = digits[\"target_names\"]"
      ]
    },
    {
      "cell_type": "code",
      "execution_count": null,
      "metadata": {},
      "outputs": [],
      "source": []
    }
  ]
}