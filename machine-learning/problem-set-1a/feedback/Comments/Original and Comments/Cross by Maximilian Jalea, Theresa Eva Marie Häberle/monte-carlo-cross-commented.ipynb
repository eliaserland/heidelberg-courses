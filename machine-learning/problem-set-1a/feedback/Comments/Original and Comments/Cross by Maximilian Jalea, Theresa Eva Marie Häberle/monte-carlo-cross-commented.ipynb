{
 "cells": [
  {
   "cell_type": "markdown",
   "metadata": {
    "id": "VBBowUbXCLrU"
   },
   "source": [
    "# Exercise 1\n",
    "\n",
    "## Fundamentals of Machine Learning\n",
    "\n",
    "#### Author:    Benedetta Casavecchia, Greta Toni, Elias Olofsson\n",
    "\n",
    "#### Version information:\n",
    "        2020-11-20: v.1.0. First public release. \n"
   ]
  },
  {
   "cell_type": "code",
   "execution_count": 1,
   "metadata": {
    "id": "0zFJWP8hCLrU"
   },
   "outputs": [],
   "source": [
    "import numpy as np\n",
    "import matplotlib.pyplot as plt"
   ]
  },
  {
   "cell_type": "markdown",
   "metadata": {
    "id": "GvaiM1o_CLrW"
   },
   "source": [
    "## Exercise 1.1 - Data creation and Visualization (7 pts)\n",
    "\n",
    "In order to find the required transformation formulas, one can exploit the direct inversion method.\n",
    "* #### p( X = x | Y = 0 )\n",
    "\n",
    "\\begin{eqnarray}\n",
    "\\int_{0}^{x}(2-2x')dx' &=& \\int_{0}^{y}dy' \\\\\n",
    "(2x'-x'^2)\\biggr|_{0}^{x} &=& y'\\biggr|_{0}^{y} \\\\\n",
    "2x - x^2 &=& y\n",
    "\\end{eqnarray}\n",
    "\n",
    "\\begin{eqnarray}\n",
    "\\Rightarrow x &=& \\frac{2 - \\sqrt{4-4y}}{2} \\\\\n",
    "&=& 1-\\sqrt{1-y}\n",
    "\\end{eqnarray}\n",
    "\n",
    "* #### p( X = x | Y = 1 )\n",
    "\n",
    "\\begin{eqnarray}\n",
    "\\int_{0}^{x}2x'dx' &=& \\int_{0}^{y}dy' \\\\\n",
    "x'^2\\biggr|_{0}^{x} &=& y'\\biggr|_{0}^{y} \\\\\n",
    "x^2 &=& y\n",
    "\\end{eqnarray}\n",
    "\n",
    "\\begin{eqnarray}\n",
    "\\Rightarrow x &=& \\sqrt{y}\n",
    "\\end{eqnarray}\n",
    "\n",
    "where the signs of solutions are chosen to match with the given intervals.\n",
    "\n",
    "Thus, the transformation functions implemented in the code are:\n",
    "$$\n",
    "\\texttt{inversion$\\_$y0} = 1-\\sqrt{1-x} \\\\\n",
    "\\texttt{inversion$\\_$y1} = \\sqrt{x}\n",
    "$$\n"
   ]
  },
  {
   "cell_type": "markdown",
   "metadata": {},
   "source": [
    "<span style =\"color:green;font-weight:bold\">Comment:</span>\n",
    "The derivations are correct. Essentially the same as the sample solution."
   ]
  },
  {
   "cell_type": "code",
   "execution_count": 2,
   "metadata": {
    "colab": {
     "base_uri": "https://localhost:8080/",
     "height": 281
    },
    "id": "6-Jq1FzACLrW",
    "outputId": "fde79062-6b17-485c-f7de-88e1a3717c9c",
    "tags": []
   },
   "outputs": [
    {
     "data": {
      "image/png": "[encoded data removed]",
      "text/plain": [
       "<Figure size 432x288 with 1 Axes>"
      ]
     },
     "metadata": {
      "needs_background": "light",
      "tags": []
     },
     "output_type": "display_data"
    }
   ],
   "source": [
    "# Exact inversions to transform probability distributions. \n",
    "def inversion_y0(x):\n",
    "    return 1-np.sqrt(1-x)\n",
    "    \n",
    "def inversion_y1(x):\n",
    "    return np.sqrt(x)\n",
    "\n",
    "# Generate N pairs of feature data X and labels Y.\n",
    "def create_data(N):\n",
    "    # Generate N random labels {0,1} with equal probability.\n",
    "    y = np.random.randint(2, size=N)\n",
    "\n",
    "    # For exercise 1.4, make sure that at least one instance of each class exists among the lables.\n",
    "    if np.all(y == 0): \n",
    "        y[0] = 1                    # Introduce a single 1. \n",
    "        np.random.shuffle(y)        # Shuffle randomly.\n",
    "    elif np.all(y == 1):    \n",
    "        y[0] = 0                    # Introduce a single 0. \n",
    "        np.random.shuffle(y)        # Shuffle randomly.\n",
    "\n",
    "    # Draw random numbers from the standard flat distribution on [0,1].\n",
    "    x_rand = np.random.random(N)\n",
    "    \n",
    "    # Preallocate array for X data.\n",
    "    x = np.zeros_like(x_rand)\n",
    "    \n",
    "    # Filter out values where Y == 0 or 1, and apply the corresponding analytical\n",
    "    # probability inversion to transfer values into each new distribution.\n",
    "    x[y==0] = inversion_y0(x_rand[y==0])\n",
    "    x[y==1] = inversion_y1(x_rand[y==1])\n",
    "\n",
    "    return np.concatenate([[x], [y]]).T\n",
    "\n",
    "# Test that the create_data() function works correctly.\n",
    "N = 10**7\n",
    "data = create_data(N)\n",
    "mask_y0 = data[:,1]==0\n",
    "mask_y1 = data[:,1]==1\n",
    "plt.hist(data[mask_y0,0], bins=200, alpha=0.7, label=\"$X$ data where $Y = 0$\")\n",
    "plt.hist(data[mask_y1,0], bins=200, alpha=0.7, label=\"$X$ data where $Y = 1$\")\n",
    "plt.legend()\n",
    "plt.xlabel(\"$X$\")\n",
    "plt.ylabel(\"Number of samples\")\n",
    "plt.savefig(\"data_creation.pdf\", format='pdf', bbox_inches='tight')"
   ]
  },
  {
   "cell_type": "markdown",
   "metadata": {},
   "source": [
    "<span style =\"color:green;font-weight:bold\">Comment:</span>\n",
    "- Because this create_data(N) function was written with the goal to be able to reuse it in exercise 1.4, it won't allow that all Y-values are the same. In this, it differs from the sample solution. For large N, this case grows more and more improbable, so it doesn't make a difference.\n",
    "- The analysis of the correctness of the distribution was less detailed than in the sample solution, but still fulfills what was asked in the exercise."
   ]
  },
  {
   "cell_type": "markdown",
   "metadata": {
    "id": "_9iq410LCLrY"
   },
   "source": [
    "## Exercise 1.2 - Classification by Thresholding (5 pts)"
   ]
  },
  {
   "cell_type": "code",
   "execution_count": 3,
   "metadata": {
    "colab": {
     "base_uri": "https://localhost:8080/",
     "height": 1000
    },
    "id": "otfEe8NFCLrY",
    "outputId": "74e19e16-f25c-4fb2-cb3a-394e8dbc90ac"
   },
   "outputs": [
    {
     "name": "stdout",
     "output_type": "stream",
     "text": [
      "Experimentally testing the predicted error rates for the set thresholds, sample sizes and classification rules. \n",
      "    \n",
      "Currently averaging over 10 datasets for each sample size.\n",
      "\n",
      "\n",
      "Rule A:\n",
      "    Threshold: 0.2\n",
      "        Sample size: 10\n",
      "        Avg error rate: 0.28  , Std: 0.172 \n",
      "\n",
      "        Sample size: 100\n",
      "        Avg error rate: 0.318 , Std: 0.04956\n",
      "\n",
      "        Sample size: 1000\n",
      "        Avg error rate: 0.3369, Std: 0.01517\n",
      "\n",
      "        Sample size: 10000\n",
      "        Avg error rate: 0.342 , Std: 0.004981\n",
      "\n",
      "    Threshold: 0.5\n",
      "        Sample size: 10\n",
      "        Avg error rate: 0.26  , Std: 0.1497\n",
      "\n",
      "        Sample size: 100\n",
      "        Avg error rate: 0.267 , Std: 0.03607\n",
      "\n",
      "        Sample size: 1000\n",
      "        Avg error rate: 0.2548, Std: 0.01078\n",
      "\n",
      "        Sample size: 10000\n",
      "        Avg error rate: 0.2507, Std: 0.002602\n",
      "\n",
      "    Threshold: 0.6\n",
      "        Sample size: 10\n",
      "        Avg error rate: 0.17  , Std: 0.11  \n",
      "\n",
      "        Sample size: 100\n",
      "        Avg error rate: 0.255 , Std: 0.05464\n",
      "\n",
      "        Sample size: 1000\n",
      "        Avg error rate: 0.2593, Std: 0.009644\n",
      "\n",
      "        Sample size: 10000\n",
      "        Avg error rate: 0.2585, Std: 0.002145\n",
      "\n",
      "Rule B:\n",
      "    Threshold: 0.2\n",
      "        Sample size: 10\n",
      "        Avg error rate: 0.7   , Std: 0.1483\n",
      "\n",
      "        Sample size: 100\n",
      "        Avg error rate: 0.666 , Std: 0.04587\n",
      "\n",
      "        Sample size: 1000\n",
      "        Avg error rate: 0.6614, Std: 0.01663\n",
      "\n",
      "        Sample size: 10000\n",
      "        Avg error rate: 0.6621, Std: 0.005889\n",
      "\n",
      "    Threshold: 0.5\n",
      "        Sample size: 10\n",
      "        Avg error rate: 0.68  , Std: 0.1077\n",
      "\n",
      "        Sample size: 100\n",
      "        Avg error rate: 0.761 , Std: 0.02427\n",
      "\n",
      "        Sample size: 1000\n",
      "        Avg error rate: 0.7519, Std: 0.01133\n",
      "\n",
      "        Sample size: 10000\n",
      "        Avg error rate: 0.7513, Std: 0.00373\n",
      "\n",
      "    Threshold: 0.6\n",
      "        Sample size: 10\n",
      "        Avg error rate: 0.65  , Std: 0.1565\n",
      "\n",
      "        Sample size: 100\n",
      "        Avg error rate: 0.749 , Std: 0.04847\n",
      "\n",
      "        Sample size: 1000\n",
      "        Avg error rate: 0.731 , Std: 0.01326\n",
      "\n",
      "        Sample size: 10000\n",
      "        Avg error rate: 0.739 , Std: 0.00316\n",
      "\n"
     ]
    },
    {
     "data": {
      "image/png": "[encoded data removed]",
      "text/plain": [
       "<Figure size 432x288 with 1 Axes>"
      ]
     },
     "metadata": {
      "needs_background": "light",
      "tags": []
     },
     "output_type": "display_data"
    }
   ],
   "source": [
    "# Defining threshold classifiers A and B\n",
    "def ruleA(x,t):\n",
    "    predict = np.zeros_like(x)\n",
    "    predict[x<t] = 0\n",
    "    predict[x>=t] = 1\n",
    "    return predict\n",
    "\n",
    "def ruleB(x,t):\n",
    "    return 1-ruleA(x,t)\n",
    "\n",
    "# Calculate the error rate for the given data, classification rule and threshold.\n",
    "def error_test(data,rulefunc,threshold):\n",
    "    # Get the predicted responses Y from the X values in the data.\n",
    "    y_predicted = rulefunc(data[:,0], threshold)\n",
    "\n",
    "    # Compare preditions with the true data, calculate the error rate.\n",
    "    correct_predictions =  sum(y_predicted == data[:,1])\n",
    "    samplesize = np.size(data, axis=0)\n",
    "    error_rate = 1 - correct_predictions/samplesize\n",
    "    \n",
    "    return error_rate\n",
    "\n",
    "# Function to experimentally test a set of classification rules given sets of various parameters.\n",
    "# M:            list of sample sizes, \n",
    "# N:            number of tests to perform at each sample size, \n",
    "# Thresholds:   list with thresholds to test, \n",
    "# rule_list:    list with function definitions to test, \n",
    "# filename:     string to specify name when saving the generated figure.\n",
    "def exp_test(M,N,Thresholds,rule_list,filename):\n",
    "    # Preallocations\n",
    "    error = np.zeros(N)\n",
    "    avg_err = np.zeros(len(M))\n",
    "    std_err = np.zeros(len(M))\n",
    "\n",
    "    print(f\"\"\"Experimentally testing the predicted error rates for the set thresholds, sample sizes and classification rules. \n",
    "    \\nCurrently averaging over {N} datasets for each sample size.\\n\\n\"\"\")\n",
    "    # Test each rule in list\n",
    "    for rule_func in rule_list:\n",
    "        fname = rule_func.__name__\n",
    "        print(f\"Rule {fname[-1]}:\")\n",
    "        \n",
    "        # Test each threshold\n",
    "        for xt in Thresholds:\n",
    "            print(f\"    Threshold: {xt}\")\n",
    "            \n",
    "            # Test each sample size\n",
    "            for i,m in enumerate(M):\n",
    "                print(f\"        Sample size: {m}\")\n",
    "                \n",
    "                # Repeat test N times for each sample size\n",
    "                for j in range(N):\n",
    "                    data = create_data(m)\n",
    "                    error[j] = error_test(data,rule_func,xt)\n",
    "                \n",
    "                avg_err[i] = np.average(error)\n",
    "                std_err[i] = np.std(error)\n",
    "                print(f\"        Avg error rate: {avg_err[i]:<6.4}, Std: {std_err[i]:<6.4}\\n\")\n",
    "            \n",
    "            # Plot the average error, plus/minus one standard deviation of the error.\n",
    "            plt.plot(M, avg_err, label=f\"Rule {fname[-1]}: $x_t$ = {xt}\")\n",
    "            plt.fill_between(M, (avg_err-std_err), (avg_err+std_err), alpha=0.15)\n",
    "            # Settings and labeling\n",
    "            plt.xscale('log')\n",
    "            if (fname[-1] == 'A') or (fname[-1] == 'B'):\n",
    "                locstr = 'center right'\n",
    "            else:\n",
    "                locstr = 'best'\n",
    "            plt.legend(loc=f'{locstr}',fontsize='xx-small', labelspacing=0.01)\n",
    "            plt.xlabel('Sample size $M$')\n",
    "            plt.ylabel('Average error rate')\n",
    "            plt.ylim((0,1))\n",
    "    # Saving the figure\n",
    "    plt.savefig(f\"{filename}.pdf\", format='pdf', bbox_inches='tight')\n",
    "\n",
    "\n",
    "# Settings\n",
    "M = [10, 100, 1000, 10000]      # Sample sizes\n",
    "N = 10                          # No. of tests per sample size.\n",
    "Thresholds = [0.2, 0.5, 0.6]    # Thresholds to test.\n",
    "rule_list = [ruleA, ruleB]      # Specifiy the rules to use.\n",
    "\n",
    "# Execute the test\n",
    "exp_test(M,N,Thresholds,rule_list,'avg_error_ruleAB')\n"
   ]
  },
  {
   "cell_type": "markdown",
   "metadata": {},
   "source": [
    "<span style =\"color:green;font-weight:bold\">Comment:</span>\n",
    "- This solution takes a different approach than the sample solution: The classifier-functions don't take a single value at a time, but the whole data-vector at once. This is more efficient, and allows for more elegant analysis of the results.\n",
    "- The presentation of the results in a single plot instead of 4 like in the sample solution makes it easier to understand the results, because they are put in relation to each other and we can compare the standard deviation of the error rates with the means of the error rates. It also just looks nicer.\n",
    "- It would have been nice if the question \"How does the error standard deviation decrease with increasing M?\" would have been actually answered in a few sentences, instead of just showing the values without interpreting them."
   ]
  },
  {
   "cell_type": "markdown",
   "metadata": {
    "id": "cVkuGDiFCLrY"
   },
   "source": [
    "## Exercise 1.3 - Baseline Classifiers (2 pts)"
   ]
  },
  {
   "cell_type": "code",
   "execution_count": 4,
   "metadata": {
    "colab": {
     "base_uri": "https://localhost:8080/",
     "height": 864
    },
    "id": "yHXauL7wCLrY",
    "outputId": "bd2e2c99-7c86-4569-9025-6e6600ef35f3"
   },
   "outputs": [
    {
     "name": "stdout",
     "output_type": "stream",
     "text": [
      "Experimentally testing the predicted error rates for the set thresholds, sample sizes and classification rules. \n",
      "    \n",
      "Currently averaging over 10 datasets for each sample size.\n",
      "\n",
      "\n",
      "Rule C:\n",
      "    Threshold: None\n",
      "        Sample size: 10\n",
      "        Avg error rate: 0.56  , Std: 0.2059\n",
      "\n",
      "        Sample size: 100\n",
      "        Avg error rate: 0.482 , Std: 0.046 \n",
      "\n",
      "        Sample size: 1000\n",
      "        Avg error rate: 0.4993, Std: 0.01052\n",
      "\n",
      "        Sample size: 10000\n",
      "        Avg error rate: 0.5   , Std: 0.004275\n",
      "\n",
      "Rule D:\n",
      "    Threshold: None\n",
      "        Sample size: 10\n",
      "        Avg error rate: 0.51  , Std: 0.1578\n",
      "\n",
      "        Sample size: 100\n",
      "        Avg error rate: 0.504 , Std: 0.03292\n",
      "\n",
      "        Sample size: 1000\n",
      "        Avg error rate: 0.4944, Std: 0.01331\n",
      "\n",
      "        Sample size: 10000\n",
      "        Avg error rate: 0.4988, Std: 0.004514\n",
      "\n"
     ]
    },
    {
     "data": {
      "image/png": "[encoded data removed]",
      "text/plain": [
       "<Figure size 432x288 with 1 Axes>"
      ]
     },
     "metadata": {
      "needs_background": "light",
      "tags": []
     },
     "output_type": "display_data"
    }
   ],
   "source": [
    "# Pure guessing Y = {0,1} with equal probability.\n",
    "def ruleC(x, threshold):\n",
    "    predict = np.random.randint(2, size=x.shape)\n",
    "    return predict\n",
    "\n",
    "# Always selecting the predictor Y = 1.\n",
    "def ruleD(x, threshold):\n",
    "    predict = np.ones(x.shape)\n",
    "    return predict\n",
    "\n",
    "# Settings\n",
    "M = [10, 100, 1000, 10000]  # Sample sizes\n",
    "N = 10                      # No. of tests per sample size.\n",
    "Thresholds = [None]         # Thresholds to test. (Not utilized for Rule C and D)\n",
    "rule_list = [ruleC, ruleD]  # Specifiy the rules to use.\n",
    "\n",
    "# Executing the test\n",
    "exp_test(M,N,Thresholds,rule_list, 'avg_error_ruleCD')"
   ]
  },
  {
   "cell_type": "markdown",
   "metadata": {},
   "source": [
    "<span style =\"color:green;font-weight:bold\">Comment:</span> The same feedback as above applies:\n",
    "- This solution takes a different approach than the sample solution: The classifier-functions don't take a single value at a time, but the whole data-vector at once. This is more efficient, and allows for more elegant analysis of the results.\n",
    "- The presentation of the results in a single plot makes it easy to understand the results, because they are put in relation to each other and we can compare the standard deviation of the error rates with the means of the error rates. It also just looks nice.\n",
    "- It would have been nice if the question \"How does the error standard deviation decrease with increasing M?\" would have been actually answered in a few sentences, instead of just showing the values without interpreting them."
   ]
  },
  {
   "cell_type": "markdown",
   "metadata": {
    "id": "79fipMVhCLrY"
   },
   "source": [
    "## Exercise 1.4 - Nearest Neighbour Classification (6 pts)"
   ]
  },
  {
   "cell_type": "code",
   "execution_count": 5,
   "metadata": {
    "colab": {
     "base_uri": "https://localhost:8080/"
    },
    "id": "CORCuSL5CLrZ",
    "outputId": "8b048bde-ea2f-47cd-fea6-4143ed0fe1f9"
   },
   "outputs": [
    {
     "name": "stdout",
     "output_type": "stream",
     "text": [
      "For NN classifier, Training set size N = 2, Test set size M = 10000, 100 tests performed, Average error rate: 0.3391700000000001.\n",
      "\n",
      "For NN classifier, Training set size N = 100, Test set size M = 10000, 100 tests performed, Average error rate: 0.346569.\n",
      "\n"
     ]
    }
   ],
   "source": [
    "# Train a Nearest Neighbour classifer using data in a Training Set (TS), output \n",
    "# the predicted responses Y for the feature data X (x_data) using the trained \n",
    "# NN classifier. \n",
    "def nn_classifier(TS, x_data):\n",
    "    # Separate the features from the responses in the Training Set.\n",
    "    x_TS = TS[:,0]\n",
    "    y_TS = TS[:,1]\n",
    "\n",
    "    # Calculate distance from every feature in the x_data to all features in the TS.\n",
    "    distance = np.abs(x_TS[:,None] - x_data)\n",
    "    \n",
    "    # Find indicies in TS, for which the distance d(x_TS[i],x_data[j]) is minimal. \n",
    "    i_min = np.argmin(distance, axis=0)     \n",
    "\n",
    "    # Use indicies to find the Y labels of the nearest neighbours.\n",
    "    y_prediction = y_TS[i_min]\n",
    "    \n",
    "    return y_prediction\n",
    "\n",
    "# Test a NN classifier trained with a randomly generated training set of size N.\n",
    "# Comparsion is made with a supplied Out of Training Set (OTS) and the error \n",
    "# rate is returned.  \n",
    "def test_nn(N,OTS):\n",
    "    # Create a new Training Set \n",
    "    TS = create_data(N)\n",
    "\n",
    "    # Split the Out of Training Set data into two vectors.  \n",
    "    x_OTS = OTS[:,0]\n",
    "    y_OTS = OTS[:,1]\n",
    "    \n",
    "    # Tot number of (X,Y) pairs in the OTS. \n",
    "    OTS_length = len(x_OTS)  \n",
    "\n",
    "    # Predict labels using the X data in the OTS.\n",
    "    y_prediction = nn_classifier(TS,x_OTS)\n",
    "\n",
    "    # Compare prediction from NN classifier with the Y data in the OTS and \n",
    "    # estimate the error.\n",
    "    correct_pred = sum(y_OTS == y_prediction)\n",
    "    error = 1 - correct_pred/OTS_length\n",
    "\n",
    "    return error\n",
    "\n",
    "# Perform multiple tests of a NN classifier trained with different training sets.\n",
    "# Need to specify the size (N) of each randomly generated training set, the size \n",
    "# (M) of the Out of Training Set used for validiation, and the number of tests \n",
    "# (no_tests) that shall be performed. Return the average error rate. \n",
    "def multi_test(N,M,no_tests):\n",
    "    # Generate the test set used for validation of the NN classifier.\n",
    "    OTS = create_data(M)\n",
    "\n",
    "    error = np.zeros(no_tests)  # Preallocation\n",
    "    \n",
    "    # For the set amount of times, compare a newly generated Training Set of \n",
    "    # size N against the same Out of Training Set with size M from above. \n",
    "    for i in range(no_tests):\n",
    "        error[i] = test_nn(N,OTS)\n",
    "\n",
    "    avg_error = np.average(error)\n",
    "\n",
    "    return avg_error\n",
    "\n",
    "\n",
    "# Settings\n",
    "N = [2, 100]        # Size of the training set.\n",
    "M = 10**4           # Size of the test set.\n",
    "no_tests = 100      # Number of tests to perform.\n",
    "\n",
    "for i in N:\n",
    "    avg_err = multi_test(,M,no_tests)\n",
    "    print(f\"For NN classifier, Training set size N = {i}, Test set size M = {M}\"\n",
    "          f\", {no_tests} tests performed, Average error rate: {avg_err}.\\n\")\n"
   ]
  },
  {
   "cell_type": "markdown",
   "metadata": {},
   "source": [
    "<span style =\"color:green;font-weight:bold\">Comment:</span>\n",
    "- Unlike the sample solution, here there is no new create_data function that produces balanced training sets. For large trainig sets, that shouldn't make a difference, because random TS will also be quite balanced.\n",
    "- Besides that, this solution does essentially the same as the sample solution.\n",
    "- The analysis of the results could be more detailes, e. g. by including the standard deviation"
   ]
  }
 ],
 "metadata": {
  "colab": {
   "collapsed_sections": [],
   "name": "monte-carlo.ipynb",
   "provenance": []
  },
  "kernelspec": {
   "display_name": "Python 3",
   "language": "python",
   "name": "python3"
  },
  "language_info": {
   "codemirror_mode": {
    "name": "ipython",
    "version": 3
   },
   "file_extension": ".py",
   "mimetype": "text/x-python",
   "name": "python",
   "nbconvert_exporter": "python",
   "pygments_lexer": "ipython3",
   "version": "3.9.0"
  }
 },
 "nbformat": 4,
 "nbformat_minor": 4
}
