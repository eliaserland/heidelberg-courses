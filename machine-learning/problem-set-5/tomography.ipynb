{
 "cells": [
  {
   "cell_type": "markdown",
   "metadata": {},
   "source": [
    "# Exercise 5\n",
    "## Fundamentals of Machine Learning, WiSe 20/21\n",
    "### Authors: Catherine Knobloch, Elias Olofsson, Julia Siegl\n",
    "    Version information:\n",
    "        2021-01-26: v.1.0. First public release. "
   ]
  },
  {
   "cell_type": "code",
   "execution_count": 1,
   "metadata": {},
   "outputs": [],
   "source": [
    "import numpy as np\n",
    "import pandas as pd\n",
    "import matplotlib.pyplot as plt\n",
    "plt.rc('image', cmap='gray')\n",
    "from scipy.sparse import coo_matrix"
   ]
  },
  {
   "cell_type": "markdown",
   "metadata": {},
   "source": [
    "## 3 - Constructing the matrix X (25 pts)"
   ]
  },
  {
   "cell_type": "code",
   "execution_count": 2,
   "metadata": {},
   "outputs": [],
   "source": [
    "def construct_X(M, alphas, Np=None):\n",
    "    '''\n",
    "    Construct the matrix X of weights corresponding to the linear system of equations\n",
    "    X*Beta = y, where Beta and y are vectors.\n",
    "    \n",
    "    Parameters\n",
    "    ----------\n",
    "    M: int\n",
    "        One-sided length of the square tomogram. Full size of tomogram is D = M*M. \n",
    "    alphas: list\n",
    "        List of measurement angles alpha, in degrees.\n",
    "    Np: int\n",
    "        Resolution of sensor array, optional.\n",
    "    Returns:\n",
    "    --------\n",
    "    scipy.sparse.coo.coo_matrix \n",
    "        The constructed matrix X in sparse format .\n",
    "    '''\n",
    "    # Pixel spacing in tomography image and in sensor array.\n",
    "    h = 1  \n",
    "    \n",
    "    # If no sensor resolution is given, set a large enough value to cover image.\n",
    "    if Np == None:\n",
    "        Np = np.ceil(np.sqrt(2)*M)\n",
    "    \n",
    "    D = int(M*M)               # Pixel count in tomography image.\n",
    "    N = int(Np * len(alphas))  # Number of measured responses y_i.\n",
    "    \n",
    "    # Convert angles to radians.\n",
    "    alphas_rad = np.radians(alphas) \n",
    "    \n",
    "    # Construct unit vectors from the alphas.\n",
    "    n = np.array([np.cos(alphas_rad), -np.sin(alphas_rad)]) # shape=(2,len(alphas))\n",
    "    \n",
    "    # Geometrical center of tomography image.\n",
    "    geo_center = (M/2 - 0.5)*h           \n",
    "    \n",
    "    # Construct matrix with center coordinates for all pixels.\n",
    "    linpos = h*np.arange(M) - geo_center             # 1D position vector.\n",
    "    x_pos, y_pos = np.meshgrid(linpos, linpos)       # 2D meshgrid.\n",
    "    C = np.array([x_pos.flatten(), y_pos.flatten()]) # Pixel centers, shape=(2,D).\n",
    "    \n",
    "    # Distance from first element in sensor to sensor origin.\n",
    "    s0 = (Np/2 - 0.5)*h \n",
    "    \n",
    "    # Find the pixel projections on the sensor.\n",
    "    p = (n.T @ C) + s0 \n",
    "    \n",
    "    # Matrices of indices. \n",
    "    p_idx = np.indices(p.shape)\n",
    "    \n",
    "    # Find pixel index j from where ray originates. \n",
    "    j_low  = p_idx[1]\n",
    "    j_high = p_idx[1]\n",
    "    \n",
    "    # Find sensor indices i where ray intersects sensor array. \n",
    "    i_low  = np.floor(p/h) + p_idx[0] * Np\n",
    "    i_high = np.ceil(p/h)  + p_idx[0] * Np\n",
    "    \n",
    "    # Fractional coverage of ray from pixel j at sensor i.\n",
    "    weights_high = p/h - np.floor(p/h)\n",
    "    weights_low  = 1 - weights_high\n",
    "    \n",
    "    # Concatenate arrays.\n",
    "    i_idx   = np.concatenate((i_low.flatten(), i_high.flatten()))\n",
    "    j_idx   = np.concatenate((j_low.flatten(), j_high.flatten()))\n",
    "    weights = np.concatenate((weights_low.flatten(), weights_high.flatten()))\n",
    "    \n",
    "    # Convert to integer datatype.\n",
    "    i_idx = i_idx.astype(int)\n",
    "    j_idx = j_idx.astype(int)\n",
    "    \n",
    "    # Form sparse matrix.\n",
    "    X = coo_matrix((weights, (i_idx, j_idx)), shape=(N,D), dtype=np.float32)\n",
    "    \n",
    "    return X"
   ]
  },
  {
   "cell_type": "code",
   "execution_count": 3,
   "metadata": {},
   "outputs": [
    {
     "data": {
      "image/png": "[encoded data removed]",
      "text/plain": [
       "<Figure size 432x288 with 1 Axes>"
      ]
     },
     "metadata": {
      "needs_background": "light"
     },
     "output_type": "display_data"
    }
   ],
   "source": [
    "# Testing the constructor routine.\n",
    "X = construct_X(10, [-33, 1, 42])\n",
    "plt.imshow(X.todense())\n",
    "plt.show()"
   ]
  },
  {
   "cell_type": "code",
   "execution_count": 4,
   "metadata": {},
   "outputs": [
    {
     "data": {
      "image/png": "[encoded data removed]",
      "text/plain": [
       "<Figure size 432x288 with 1 Axes>"
      ]
     },
     "metadata": {
      "needs_background": "light"
     },
     "output_type": "display_data"
    }
   ],
   "source": [
    "# Comparing with the included pre-computed example.\n",
    "X_ex = np.load('hs_tomography/X_example.npy')\n",
    "plt.imshow(X_ex)\n",
    "plt.show()"
   ]
  },
  {
   "cell_type": "markdown",
   "metadata": {},
   "source": [
    "## 4 - Recovering the image (6 pts)"
   ]
  },
  {
   "cell_type": "code",
   "execution_count": null,
   "metadata": {},
   "outputs": [],
   "source": []
  }
 ],
 "metadata": {
  "kernelspec": {
   "display_name": "Python 3",
   "language": "python",
   "name": "python3"
  },
  "language_info": {
   "codemirror_mode": {
    "name": "ipython",
    "version": 3
   },
   "file_extension": ".py",
   "mimetype": "text/x-python",
   "name": "python",
   "nbconvert_exporter": "python",
   "pygments_lexer": "ipython3",
   "version": "3.8.5"
  }
 },
 "nbformat": 4,
 "nbformat_minor": 4
}
