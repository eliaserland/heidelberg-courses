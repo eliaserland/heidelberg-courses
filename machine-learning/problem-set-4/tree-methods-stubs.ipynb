{
 "cells": [
  {
   "source": [
    "# Exercise 4\n",
    "## Fundamentals of Machine Learning - WiSe 20/21\n",
    "\n",
    "#### Authors: Catherine Knobloch, Elias Olofsson, Julia Siegl\n",
    "\n",
    "#### Version information:\n",
    "        2020-12-22: v.1.0. First public release."
   ],
   "cell_type": "markdown",
   "metadata": {}
  },
  {
   "cell_type": "markdown",
   "metadata": {},
   "source": [
    "# Preliminaries"
   ]
  },
  {
   "cell_type": "code",
   "execution_count": 1,
   "metadata": {},
   "outputs": [],
   "source": [
    "# import modules\n",
    "import numpy as np\n",
    "import matplotlib.pyplot as plt\n",
    "import pandas as pd\n",
    "pd.options.display.float_format = '{:,.2f}'.format\n",
    "\n",
    "import sklearn\n",
    "from sklearn.datasets import load_digits"
   ]
  },
  {
   "cell_type": "code",
   "execution_count": 2,
   "metadata": {},
   "outputs": [],
   "source": [
    "# base classes\n",
    "\n",
    "class Node:\n",
    "    pass\n",
    "\n",
    "class Tree:\n",
    "    def __init__(self):\n",
    "        self.root = Node()\n",
    "    \n",
    "    def find_leaf(self, x):\n",
    "        node = self.root\n",
    "        while hasattr(node, \"feature\"):\n",
    "            j = node.feature\n",
    "            if x[j] <= node.threshold:\n",
    "                node = node.left\n",
    "            else:\n",
    "                node = node.right\n",
    "        return node"
   ]
  },
  {
   "cell_type": "markdown",
   "metadata": {},
   "source": [
    "# Density Tree"
   ]
  },
  {
   "cell_type": "code",
   "execution_count": 3,
   "metadata": {},
   "outputs": [],
   "source": [
    "class DensityTree(Tree):\n",
    "    def __init__(self):\n",
    "        super(DensityTree, self).__init__()\n",
    "        \n",
    "    def train(self, data, prior, n_min=20):\n",
    "        '''\n",
    "        data: the feature matrix for the digit under consideration\n",
    "        prior: the prior probability of this digit\n",
    "        n_min: termination criterion (don't split if a node contains fewer instances)\n",
    "        '''\n",
    "        self.prior = prior\n",
    "        N, D = data.shape\n",
    "        D_try = int(np.sqrt(D)) # number of features to consider for each split decision\n",
    "\n",
    "        # find and remember the tree's bounding box, \n",
    "        # i.e. the lower and upper limits of the training feature set\n",
    "        m, M = np.min(data, axis=0), np.max(data, axis=0)\n",
    "        self.box = m.copy(), M.copy()\n",
    "        \n",
    "        # identify invalid features and adjust the bounding box\n",
    "        # (If m[j] == M[j] for some j, the bounding box has zero volume, \n",
    "        #  causing divide-by-zero errors later on. We must exclude these\n",
    "        #  features from splitting and adjust the bounding box limits \n",
    "        #  such that invalid features have no effect on the volume.)\n",
    "        valid_features   = np.where(m != M)[0]\n",
    "        invalid_features = np.where(m == M)[0]\n",
    "        M[invalid_features] = m[invalid_features] + 1\n",
    "\n",
    "        # initialize the root node\n",
    "        self.root.data = data\n",
    "        self.root.box = m.copy(), M.copy()\n",
    "\n",
    "        # build the tree\n",
    "        stack = [self.root]\n",
    "        while len(stack):\n",
    "            node = stack.pop()\n",
    "            n = node.data.shape[0] # number of instances in present node\n",
    "            if n >= n_min:\n",
    "                # Call 'make_density_split_node()' with 'D_try' randomly selected \n",
    "                # indices from 'valid_features'. This turns 'node' into a split node\n",
    "                # and returns the two children, which must be placed on the 'stack'.\n",
    "                rand_indices = np.random.permutation(valid_features)[:D_try]\n",
    "                left, right = make_density_split_node(node, N, rand_indices)\n",
    "                stack.append(left)\n",
    "                stack.append(right)\n",
    "            else:\n",
    "                # Call 'make_density_leaf_node()' to turn 'node' into a leaf node.\n",
    "                make_density_leaf_node(node, N)\n",
    "\n",
    "    def predict(self, x):\n",
    "        leaf = self.find_leaf(x)\n",
    "        # return p(x | y) * p(y) if x is within the tree's bounding box \n",
    "        # and return 0 otherwise\n",
    "        if np.all(x >= self.box[0]) and np.all(x <= self.box[1]): \n",
    "            return leaf.response * self.prior\n",
    "        else: \n",
    "            return 0 "
   ]
  },
  {
   "cell_type": "code",
   "execution_count": 4,
   "metadata": {},
   "outputs": [],
   "source": [
    "def make_density_split_node(node, N, feature_indices):\n",
    "    '''\n",
    "    node: the node to be split\n",
    "    N:    the total number of training instances for the current class\n",
    "    feature_indices: a numpy array of length 'D_try', containing the feature \n",
    "                     indices to be considered in the present split\n",
    "    '''\n",
    "    n, D = node.data.shape\n",
    "    m, M = node.box\n",
    "\n",
    "    # find best feature j (among 'feature_indices') and best threshold t for the split\n",
    "    e_min = float(\"inf\")\n",
    "    j_min, t_min = None, None\n",
    "    \n",
    "    for j in feature_indices:\n",
    "        # Hint: For each feature considered, first remove duplicate feature values using \n",
    "        # 'np.unique()'. This is necessary since placing a threshold between two identical feature values\n",
    "        # would create ambiguity as to which node a value is belong to.\n",
    "        data_unique = np.unique(node.data[:, j])\n",
    "        # Compute candidate thresholds\n",
    "        tj = (data_unique[1:] + data_unique[:-1]) / 2\n",
    "        \n",
    "        # Illustration: for loop - hint: vectorized version is possible\n",
    "        for t in tj:\n",
    "            # Number of instances in left and right nodes\n",
    "            n_left  = (node.data[:,j] < t).sum() \n",
    "            n_right = n - n_left\n",
    "\n",
    "            # Bounding boxes for left and right node\n",
    "            m_left = m\n",
    "            M_left = M.copy()\n",
    "            M_left[j] = t  \n",
    "            \n",
    "            m_right = m.copy()\n",
    "            m_right[j] = t\n",
    "            M_right = M\n",
    "\n",
    "            v_left  = np.prod(M_left-m_left) \n",
    "            v_right = np.prod(M_right-m_right)\n",
    "\n",
    "            # Compute the errors\n",
    "            loo_error_left  = n_left/(N*v_left)*(n_left/N - 2*(n_left-1)/(N-1))\n",
    "            loo_error_right = n_right/(N*v_right)*(n_right/N - 2*(n_right-1)/(N-1))\n",
    "\n",
    "            loo_error = loo_error_left + loo_error_right\n",
    "            \n",
    "            # choose the best threshold that\n",
    "            if loo_error < e_min:\n",
    "                e_min = loo_error\n",
    "                j_min = j\n",
    "                t_min = t\n",
    "\n",
    "    # create children\n",
    "    left = Node()\n",
    "    right = Node()\n",
    "    \n",
    "    # initialize 'left' and 'right' with the data subsets and bounding boxes\n",
    "    # according to the optimal split found above\n",
    "\n",
    "    m_left         = m.copy()\n",
    "    M_left         = M.copy()\n",
    "    M_left[j_min]  = t_min\n",
    "\n",
    "    m_right        = m.copy()\n",
    "    m_right[j_min] = t_min\n",
    "    M_right        = M.copy()\n",
    "\n",
    "    # store bounding box in left and right nodes\n",
    "    left.box  = m_left, M_left   \n",
    "    right.box = m_right, M_right\n",
    "\n",
    "    # store data in left node -- for subsequent splits\n",
    "    left.data  = node.data[(node.data[:,j_min] < t_min), :]\n",
    "    right.data = node.data[(node.data[:,j_min] > t_min), :]\n",
    "\n",
    "    # turn the current 'node' into a split node\n",
    "    # (store children and split condition)\n",
    "    node.left      = left\n",
    "    node.right     = right\n",
    "    node.feature   = j_min\n",
    "    node.threshold = t_min\n",
    "\n",
    "    # return the children (to be placed on the stack)\n",
    "    return left, right"
   ]
  },
  {
   "cell_type": "code",
   "execution_count": 5,
   "metadata": {},
   "outputs": [],
   "source": [
    "def make_density_leaf_node(node, N):\n",
    "    '''\n",
    "    node: the node to become a leaf\n",
    "    N:    the total number of training instances for the current class\n",
    "    '''\n",
    "    # compute and store leaf response\n",
    "    n = node.data.shape[0]\n",
    "    m, M = node.box\n",
    "    v = np.prod(M-m)\n",
    "    node.response = n/(N*v)"
   ]
  },
  {
   "cell_type": "markdown",
   "metadata": {},
   "source": [
    "# Decision Tree"
   ]
  },
  {
   "cell_type": "code",
   "execution_count": 6,
   "metadata": {
    "collapsed": true,
    "jupyter": {
     "outputs_hidden": true
    }
   },
   "outputs": [],
   "source": [
    "class DecisionTree(Tree):\n",
    "    def __init__(self):\n",
    "        super(DecisionTree, self).__init__()\n",
    "        \n",
    "    def train(self, data, labels, n_min=20):\n",
    "        '''\n",
    "        data: the feature matrix for all digits\n",
    "        labels: the corresponding ground-truth responses\n",
    "        n_min: termination criterion (don't split if a node contains fewer instances)\n",
    "        '''\n",
    "        N, D = data.shape\n",
    "        D_try = int(np.sqrt(D)) # how many features to consider for each split decision\n",
    "\n",
    "        # initialize the root node\n",
    "        self.root.data = data\n",
    "        self.root.labels = labels\n",
    "        \n",
    "        stack = [self.root]\n",
    "        while len(stack):\n",
    "            node = stack.pop()\n",
    "            n = node.data.shape[0] # number of instances in present node\n",
    "            if n >= n_min and not node_is_pure(node):\n",
    "                # Call 'make_decision_split_node()' with 'D_try' randomly selected \n",
    "                # feature indices. This turns 'node' into a split node\n",
    "                # and returns the two children, which must be placed on the 'stack'.\n",
    "                rand_indices = np.random.permutation(D)[:D_try]\n",
    "                left, right = make_decision_split_node(node, rand_indices)\n",
    "                stack.append(left)\n",
    "                stack.append(right)\n",
    "            else:\n",
    "                # Call 'make_decision_leaf_node()' to turn 'node' into a leaf node.\n",
    "                make_decision_leaf_node(node)\n",
    "                \n",
    "    def predict(self, x):\n",
    "        leaf = self.find_leaf(x)\n",
    "        # compute p(y | x)\n",
    "        return leaf.response"
   ]
  },
  {
   "cell_type": "code",
   "execution_count": 7,
   "metadata": {
    "collapsed": true,
    "jupyter": {
     "outputs_hidden": true
    }
   },
   "outputs": [],
   "source": [
    "def make_decision_split_node(node, feature_indices):\n",
    "    '''\n",
    "    node: the node to be split\n",
    "    feature_indices: a numpy array of length 'D_try', containing the feature \n",
    "                     indices to be considered in the present split\n",
    "    '''\n",
    "    n, D = node.data.shape\n",
    "\n",
    "    e_min = float(\"inf\")\n",
    "    j_min, t_min = None, None\n",
    "\n",
    "    # find best feature j (among 'feature_indices') and best threshold t for the split\n",
    "    for j in feature_indices:\n",
    "        data_unique = np.unique(node.data[:, j])\n",
    "        \n",
    "        # Compute candidate thresholds\n",
    "        tj = (data_unique[1:] + data_unique[:-1]) / 2\n",
    "\n",
    "        for t in tj:\n",
    "            # Create masks for each node.\n",
    "            mask_left  = (node.data[:,j] < t)\n",
    "            mask_right = (node.data[:,j] > t)\n",
    "\n",
    "            # Total number of instances in each node \n",
    "            n_left  = mask_left.sum()\n",
    "            n_right = n - n_left\n",
    "\n",
    "            # Number of instances per class in each node\n",
    "            c_left, n_left_k   = np.unique(node.labels[mask_left], return_counts=True)\n",
    "            c_right, n_right_k = np.unique(node.labels[mask_right], return_counts=True)\n",
    "\n",
    "            # Calculating the Gini impurities for each node\n",
    "            gini_left  = n_left  * (1 - np.sum(n_left_k**2)/n_left**2)\n",
    "            gini_right = n_right * (1 - np.sum(n_right_k**2)/n_right**2)\n",
    "\n",
    "            gini = gini_left + gini_right\n",
    "\n",
    "            if gini < e_min:\n",
    "                e_min = gini\n",
    "                j_min = j\n",
    "                t_min = t\n",
    "\n",
    "\n",
    "    # create children\n",
    "    left  = Node()\n",
    "    right = Node()\n",
    "    \n",
    "    # initialize 'left' and 'right' with the data subsets and labels\n",
    "    # according to the optimal split found above\n",
    "    mask_left   = (node.data[:,j_min] < t_min)\n",
    "    mask_right  = (node.data[:,j_min] > t_min)\n",
    "\n",
    "    # data in left and right node\n",
    "    left.data   = node.data[mask_left,:] \n",
    "    right.data  = node.data[mask_right,:]\n",
    "\n",
    "    # corresponding labels in left and right node\n",
    "    left.labels  = node.labels[mask_left] \n",
    "    right.labels = node.labels[mask_right] \n",
    "\n",
    "    # turn the current 'node' into a split node\n",
    "    # (store children and split condition)\n",
    "    node.left       = left\n",
    "    node.right      = right\n",
    "    node.feature    = j_min\n",
    "    node.threshold  = t_min\n",
    "\n",
    "    # return the children (to be placed on the stack)\n",
    "    return left, right    "
   ]
  },
  {
   "cell_type": "code",
   "execution_count": 8,
   "metadata": {
    "collapsed": true,
    "jupyter": {
     "outputs_hidden": true
    }
   },
   "outputs": [],
   "source": [
    "def make_decision_leaf_node(node):\n",
    "    '''\n",
    "    node: the node to become a leaf\n",
    "    '''\n",
    "    # Compute and store leaf response.\n",
    "    # Choose the majority class label as the response of the node.\n",
    "    node.N = node.data.shape[0]\n",
    "    node.response = np.bincount(node.labels).argmax()"
   ]
  },
  {
   "cell_type": "code",
   "execution_count": 9,
   "metadata": {
    "collapsed": true,
    "jupyter": {
     "outputs_hidden": true
    }
   },
   "outputs": [],
   "source": [
    "def node_is_pure(node):\n",
    "    '''\n",
    "    check if 'node' ontains only instances of the same digit\n",
    "    '''\n",
    "    # Compare all labels in the node to the first label within the node.\n",
    "    return np.all(node.labels[0] == node.labels)"
   ]
  },
  {
   "cell_type": "markdown",
   "metadata": {},
   "source": [
    "# Evaluation of Density and Decision Tree"
   ]
  },
  {
   "cell_type": "code",
   "execution_count": 10,
   "metadata": {},
   "outputs": [
    {
     "output_type": "stream",
     "name": "stdout",
     "text": [
      "dict_keys(['data', 'target', 'target_names', 'images', 'DESCR'])\n"
     ]
    }
   ],
   "source": [
    "# Import the digits dataset\n",
    "digits = load_digits()\n",
    "\n",
    "print(digits.keys())\n",
    "\n",
    "data         = digits[\"data\"]\n",
    "images       = digits[\"images\"]\n",
    "target       = digits[\"target\"]\n",
    "target_names = digits[\"target_names\"]"
   ]
  },
  {
   "source": [
    "### Density tree evaluation"
   ],
   "cell_type": "markdown",
   "metadata": {}
  },
  {
   "cell_type": "code",
   "execution_count": 11,
   "metadata": {
    "collapsed": true,
    "jupyter": {
     "outputs_hidden": true
    }
   },
   "outputs": [],
   "source": [
    "n_min = 20\n",
    "density_trees = []\n",
    "for digit in range(10):\n",
    "    # Append a new density tree to list.\n",
    "    density_trees.append(DensityTree()) \n",
    "    \n",
    "    # Only consider a single digit\n",
    "    mask = (target == digit)\n",
    "    \n",
    "    # Calculate the prior for the current digit\n",
    "    prior = np.sum(mask)/target.shape[0]\n",
    "\n",
    "    # Train the current density tree\n",
    "    density_trees[digit].train(data[mask], prior, n_min)\n"
   ]
  },
  {
   "cell_type": "code",
   "execution_count": 12,
   "metadata": {},
   "outputs": [
    {
     "output_type": "stream",
     "name": "stdout",
     "text": [
      "Density tree training error: 0.2181\n"
     ]
    }
   ],
   "source": [
    "# Get predictions on the training data\n",
    "posterior = np.zeros(10)\n",
    "y_pred    = np.zeros_like(target)\n",
    "\n",
    "for i in range(data.shape[0]):\n",
    "    # Extract training instance\n",
    "    x = data[i,:]\n",
    "\n",
    "    # For each digit, get the posterior probability for x\n",
    "    for digit in range(10):\n",
    "        posterior[digit] = density_trees[digit].predict(x)\n",
    "\n",
    "    # Choose the label that has the largest probability\n",
    "    y_pred[i] = target_names[np.argmax(posterior)] \n",
    "\n",
    "# Get training error\n",
    "density_tree_train_err = np.sum(target != y_pred)/data.shape[0]\n",
    "print(f'Density tree training error: {density_tree_train_err:.4}')"
   ]
  },
  {
   "cell_type": "code",
   "execution_count": 13,
   "metadata": {},
   "outputs": [],
   "source": [
    "def confuse(groundtruth, predictions, normalize=False):\n",
    "    '''\n",
    "    Create a confusion matrix.\n",
    "\n",
    "    Parameters:\n",
    "    ----------\n",
    "    groundtruth: np.array\n",
    "        vector of shape (N,) containing the actual labels.\n",
    "    predictions: np.array\n",
    "        vector of shape (N,) containing the predicted labels, corresponding to\n",
    "        the ground thruth vector.\n",
    "    normalize: bool\n",
    "        Normalize each row.\n",
    "    \n",
    "    Returns:\n",
    "    --------\n",
    "    np.array shape=(N,N)\n",
    "        Confusion matrix with row numbering corresponding to the ground truth,\n",
    "        and columns corresponding to predicted labels.\n",
    "    '''\n",
    "    # Make sure sizes of input vectors are valid.\n",
    "    assert groundtruth.shape == predictions.shape \n",
    "    N = groundtruth.shape[0]\n",
    "\n",
    "    # Get the unique labels. \n",
    "    unique_labels = np.unique(groundtruth)\n",
    "    C = unique_labels.shape[0]\n",
    "    \n",
    "    # Pre-allocation.\n",
    "    conf_mat = np.zeros((C,C))\n",
    "\n",
    "    # For each class in the ground truth\n",
    "    for i in range(C):\n",
    "        mask_gr = (groundtruth == unique_labels[i])\n",
    "\n",
    "        # For each class of the predictions\n",
    "        for j in range(C):\n",
    "            mask_pred = (predictions == unique_labels[j])\n",
    "            conf_mat[i,j] = np.sum(mask_gr & mask_pred)\n",
    "        \n",
    "        #Normalize row\n",
    "        if normalize:\n",
    "            conf_mat[i,:] = conf_mat[i,:]/np.sum(conf_mat[i,:])\n",
    "    \n",
    "    return conf_mat"
   ]
  },
  {
   "cell_type": "code",
   "execution_count": 14,
   "metadata": {},
   "outputs": [
    {
     "output_type": "display_data",
     "data": {
      "text/plain": "<pandas.io.formats.style.Styler at 0x7f8e4b2abe20>",
      "text/html": "<style  type=\"text/css\" >\n#T_330cd42e_43a1_11eb_98d5_efe72f5ec95brow0_col0,#T_330cd42e_43a1_11eb_98d5_efe72f5ec95brow0_col4,#T_330cd42e_43a1_11eb_98d5_efe72f5ec95brow1_col1,#T_330cd42e_43a1_11eb_98d5_efe72f5ec95brow1_col2,#T_330cd42e_43a1_11eb_98d5_efe72f5ec95brow1_col3,#T_330cd42e_43a1_11eb_98d5_efe72f5ec95brow1_col4,#T_330cd42e_43a1_11eb_98d5_efe72f5ec95brow1_col8,#T_330cd42e_43a1_11eb_98d5_efe72f5ec95brow2_col1,#T_330cd42e_43a1_11eb_98d5_efe72f5ec95brow2_col2,#T_330cd42e_43a1_11eb_98d5_efe72f5ec95brow2_col3,#T_330cd42e_43a1_11eb_98d5_efe72f5ec95brow2_col5,#T_330cd42e_43a1_11eb_98d5_efe72f5ec95brow2_col8,#T_330cd42e_43a1_11eb_98d5_efe72f5ec95brow3_col1,#T_330cd42e_43a1_11eb_98d5_efe72f5ec95brow3_col2,#T_330cd42e_43a1_11eb_98d5_efe72f5ec95brow3_col3,#T_330cd42e_43a1_11eb_98d5_efe72f5ec95brow3_col7,#T_330cd42e_43a1_11eb_98d5_efe72f5ec95brow3_col8,#T_330cd42e_43a1_11eb_98d5_efe72f5ec95brow3_col9,#T_330cd42e_43a1_11eb_98d5_efe72f5ec95brow4_col4,#T_330cd42e_43a1_11eb_98d5_efe72f5ec95brow4_col7,#T_330cd42e_43a1_11eb_98d5_efe72f5ec95brow4_col9,#T_330cd42e_43a1_11eb_98d5_efe72f5ec95brow5_col1,#T_330cd42e_43a1_11eb_98d5_efe72f5ec95brow5_col2,#T_330cd42e_43a1_11eb_98d5_efe72f5ec95brow5_col3,#T_330cd42e_43a1_11eb_98d5_efe72f5ec95brow5_col5,#T_330cd42e_43a1_11eb_98d5_efe72f5ec95brow5_col7,#T_330cd42e_43a1_11eb_98d5_efe72f5ec95brow5_col8,#T_330cd42e_43a1_11eb_98d5_efe72f5ec95brow5_col9,#T_330cd42e_43a1_11eb_98d5_efe72f5ec95brow6_col6,#T_330cd42e_43a1_11eb_98d5_efe72f5ec95brow6_col8,#T_330cd42e_43a1_11eb_98d5_efe72f5ec95brow7_col3,#T_330cd42e_43a1_11eb_98d5_efe72f5ec95brow7_col4,#T_330cd42e_43a1_11eb_98d5_efe72f5ec95brow7_col7,#T_330cd42e_43a1_11eb_98d5_efe72f5ec95brow7_col8,#T_330cd42e_43a1_11eb_98d5_efe72f5ec95brow8_col1,#T_330cd42e_43a1_11eb_98d5_efe72f5ec95brow8_col2,#T_330cd42e_43a1_11eb_98d5_efe72f5ec95brow8_col3,#T_330cd42e_43a1_11eb_98d5_efe72f5ec95brow8_col4,#T_330cd42e_43a1_11eb_98d5_efe72f5ec95brow8_col7,#T_330cd42e_43a1_11eb_98d5_efe72f5ec95brow8_col8,#T_330cd42e_43a1_11eb_98d5_efe72f5ec95brow8_col9,#T_330cd42e_43a1_11eb_98d5_efe72f5ec95brow9_col1,#T_330cd42e_43a1_11eb_98d5_efe72f5ec95brow9_col2,#T_330cd42e_43a1_11eb_98d5_efe72f5ec95brow9_col3,#T_330cd42e_43a1_11eb_98d5_efe72f5ec95brow9_col7,#T_330cd42e_43a1_11eb_98d5_efe72f5ec95brow9_col8,#T_330cd42e_43a1_11eb_98d5_efe72f5ec95brow9_col9{\n            color:  black;\n        }#T_330cd42e_43a1_11eb_98d5_efe72f5ec95brow0_col1,#T_330cd42e_43a1_11eb_98d5_efe72f5ec95brow0_col2,#T_330cd42e_43a1_11eb_98d5_efe72f5ec95brow0_col3,#T_330cd42e_43a1_11eb_98d5_efe72f5ec95brow0_col5,#T_330cd42e_43a1_11eb_98d5_efe72f5ec95brow0_col6,#T_330cd42e_43a1_11eb_98d5_efe72f5ec95brow0_col7,#T_330cd42e_43a1_11eb_98d5_efe72f5ec95brow0_col8,#T_330cd42e_43a1_11eb_98d5_efe72f5ec95brow0_col9,#T_330cd42e_43a1_11eb_98d5_efe72f5ec95brow1_col0,#T_330cd42e_43a1_11eb_98d5_efe72f5ec95brow1_col5,#T_330cd42e_43a1_11eb_98d5_efe72f5ec95brow1_col6,#T_330cd42e_43a1_11eb_98d5_efe72f5ec95brow1_col7,#T_330cd42e_43a1_11eb_98d5_efe72f5ec95brow1_col9,#T_330cd42e_43a1_11eb_98d5_efe72f5ec95brow2_col0,#T_330cd42e_43a1_11eb_98d5_efe72f5ec95brow2_col4,#T_330cd42e_43a1_11eb_98d5_efe72f5ec95brow2_col6,#T_330cd42e_43a1_11eb_98d5_efe72f5ec95brow2_col7,#T_330cd42e_43a1_11eb_98d5_efe72f5ec95brow2_col9,#T_330cd42e_43a1_11eb_98d5_efe72f5ec95brow3_col0,#T_330cd42e_43a1_11eb_98d5_efe72f5ec95brow3_col4,#T_330cd42e_43a1_11eb_98d5_efe72f5ec95brow3_col5,#T_330cd42e_43a1_11eb_98d5_efe72f5ec95brow3_col6,#T_330cd42e_43a1_11eb_98d5_efe72f5ec95brow4_col0,#T_330cd42e_43a1_11eb_98d5_efe72f5ec95brow4_col1,#T_330cd42e_43a1_11eb_98d5_efe72f5ec95brow4_col2,#T_330cd42e_43a1_11eb_98d5_efe72f5ec95brow4_col3,#T_330cd42e_43a1_11eb_98d5_efe72f5ec95brow4_col5,#T_330cd42e_43a1_11eb_98d5_efe72f5ec95brow4_col6,#T_330cd42e_43a1_11eb_98d5_efe72f5ec95brow4_col8,#T_330cd42e_43a1_11eb_98d5_efe72f5ec95brow5_col0,#T_330cd42e_43a1_11eb_98d5_efe72f5ec95brow5_col4,#T_330cd42e_43a1_11eb_98d5_efe72f5ec95brow5_col6,#T_330cd42e_43a1_11eb_98d5_efe72f5ec95brow6_col0,#T_330cd42e_43a1_11eb_98d5_efe72f5ec95brow6_col1,#T_330cd42e_43a1_11eb_98d5_efe72f5ec95brow6_col2,#T_330cd42e_43a1_11eb_98d5_efe72f5ec95brow6_col3,#T_330cd42e_43a1_11eb_98d5_efe72f5ec95brow6_col4,#T_330cd42e_43a1_11eb_98d5_efe72f5ec95brow6_col5,#T_330cd42e_43a1_11eb_98d5_efe72f5ec95brow6_col7,#T_330cd42e_43a1_11eb_98d5_efe72f5ec95brow6_col9,#T_330cd42e_43a1_11eb_98d5_efe72f5ec95brow7_col0,#T_330cd42e_43a1_11eb_98d5_efe72f5ec95brow7_col1,#T_330cd42e_43a1_11eb_98d5_efe72f5ec95brow7_col2,#T_330cd42e_43a1_11eb_98d5_efe72f5ec95brow7_col5,#T_330cd42e_43a1_11eb_98d5_efe72f5ec95brow7_col6,#T_330cd42e_43a1_11eb_98d5_efe72f5ec95brow7_col9,#T_330cd42e_43a1_11eb_98d5_efe72f5ec95brow8_col0,#T_330cd42e_43a1_11eb_98d5_efe72f5ec95brow8_col5,#T_330cd42e_43a1_11eb_98d5_efe72f5ec95brow8_col6,#T_330cd42e_43a1_11eb_98d5_efe72f5ec95brow9_col0,#T_330cd42e_43a1_11eb_98d5_efe72f5ec95brow9_col4,#T_330cd42e_43a1_11eb_98d5_efe72f5ec95brow9_col5,#T_330cd42e_43a1_11eb_98d5_efe72f5ec95brow9_col6{\n            color:  lightgray;\n        }</style><table id=\"T_330cd42e_43a1_11eb_98d5_efe72f5ec95b\" ><thead>    <tr>        <th class=\"index_name level0\" >Predicted Label</th>        <th class=\"col_heading level0 col0\" >0</th>        <th class=\"col_heading level0 col1\" >1</th>        <th class=\"col_heading level0 col2\" >2</th>        <th class=\"col_heading level0 col3\" >3</th>        <th class=\"col_heading level0 col4\" >4</th>        <th class=\"col_heading level0 col5\" >5</th>        <th class=\"col_heading level0 col6\" >6</th>        <th class=\"col_heading level0 col7\" >7</th>        <th class=\"col_heading level0 col8\" >8</th>        <th class=\"col_heading level0 col9\" >9</th>    </tr>    <tr>        <th class=\"index_name level0\" >Actual Label</th>        <th class=\"blank\" ></th>        <th class=\"blank\" ></th>        <th class=\"blank\" ></th>        <th class=\"blank\" ></th>        <th class=\"blank\" ></th>        <th class=\"blank\" ></th>        <th class=\"blank\" ></th>        <th class=\"blank\" ></th>        <th class=\"blank\" ></th>        <th class=\"blank\" ></th>    </tr></thead><tbody>\n                <tr>\n                        <th id=\"T_330cd42e_43a1_11eb_98d5_efe72f5ec95blevel0_row0\" class=\"row_heading level0 row0\" >0</th>\n                        <td id=\"T_330cd42e_43a1_11eb_98d5_efe72f5ec95brow0_col0\" class=\"data row0 col0\" >176</td>\n                        <td id=\"T_330cd42e_43a1_11eb_98d5_efe72f5ec95brow0_col1\" class=\"data row0 col1\" >  0</td>\n                        <td id=\"T_330cd42e_43a1_11eb_98d5_efe72f5ec95brow0_col2\" class=\"data row0 col2\" >  0</td>\n                        <td id=\"T_330cd42e_43a1_11eb_98d5_efe72f5ec95brow0_col3\" class=\"data row0 col3\" >  0</td>\n                        <td id=\"T_330cd42e_43a1_11eb_98d5_efe72f5ec95brow0_col4\" class=\"data row0 col4\" >  2</td>\n                        <td id=\"T_330cd42e_43a1_11eb_98d5_efe72f5ec95brow0_col5\" class=\"data row0 col5\" >  0</td>\n                        <td id=\"T_330cd42e_43a1_11eb_98d5_efe72f5ec95brow0_col6\" class=\"data row0 col6\" >  0</td>\n                        <td id=\"T_330cd42e_43a1_11eb_98d5_efe72f5ec95brow0_col7\" class=\"data row0 col7\" >  0</td>\n                        <td id=\"T_330cd42e_43a1_11eb_98d5_efe72f5ec95brow0_col8\" class=\"data row0 col8\" >  0</td>\n                        <td id=\"T_330cd42e_43a1_11eb_98d5_efe72f5ec95brow0_col9\" class=\"data row0 col9\" >  0</td>\n            </tr>\n            <tr>\n                        <th id=\"T_330cd42e_43a1_11eb_98d5_efe72f5ec95blevel0_row1\" class=\"row_heading level0 row1\" >1</th>\n                        <td id=\"T_330cd42e_43a1_11eb_98d5_efe72f5ec95brow1_col0\" class=\"data row1 col0\" >  0</td>\n                        <td id=\"T_330cd42e_43a1_11eb_98d5_efe72f5ec95brow1_col1\" class=\"data row1 col1\" >105</td>\n                        <td id=\"T_330cd42e_43a1_11eb_98d5_efe72f5ec95brow1_col2\" class=\"data row1 col2\" > 16</td>\n                        <td id=\"T_330cd42e_43a1_11eb_98d5_efe72f5ec95brow1_col3\" class=\"data row1 col3\" >  1</td>\n                        <td id=\"T_330cd42e_43a1_11eb_98d5_efe72f5ec95brow1_col4\" class=\"data row1 col4\" > 11</td>\n                        <td id=\"T_330cd42e_43a1_11eb_98d5_efe72f5ec95brow1_col5\" class=\"data row1 col5\" >  0</td>\n                        <td id=\"T_330cd42e_43a1_11eb_98d5_efe72f5ec95brow1_col6\" class=\"data row1 col6\" >  0</td>\n                        <td id=\"T_330cd42e_43a1_11eb_98d5_efe72f5ec95brow1_col7\" class=\"data row1 col7\" >  0</td>\n                        <td id=\"T_330cd42e_43a1_11eb_98d5_efe72f5ec95brow1_col8\" class=\"data row1 col8\" > 49</td>\n                        <td id=\"T_330cd42e_43a1_11eb_98d5_efe72f5ec95brow1_col9\" class=\"data row1 col9\" >  0</td>\n            </tr>\n            <tr>\n                        <th id=\"T_330cd42e_43a1_11eb_98d5_efe72f5ec95blevel0_row2\" class=\"row_heading level0 row2\" >2</th>\n                        <td id=\"T_330cd42e_43a1_11eb_98d5_efe72f5ec95brow2_col0\" class=\"data row2 col0\" >  0</td>\n                        <td id=\"T_330cd42e_43a1_11eb_98d5_efe72f5ec95brow2_col1\" class=\"data row2 col1\" >  7</td>\n                        <td id=\"T_330cd42e_43a1_11eb_98d5_efe72f5ec95brow2_col2\" class=\"data row2 col2\" >129</td>\n                        <td id=\"T_330cd42e_43a1_11eb_98d5_efe72f5ec95brow2_col3\" class=\"data row2 col3\" > 17</td>\n                        <td id=\"T_330cd42e_43a1_11eb_98d5_efe72f5ec95brow2_col4\" class=\"data row2 col4\" >  0</td>\n                        <td id=\"T_330cd42e_43a1_11eb_98d5_efe72f5ec95brow2_col5\" class=\"data row2 col5\" >  2</td>\n                        <td id=\"T_330cd42e_43a1_11eb_98d5_efe72f5ec95brow2_col6\" class=\"data row2 col6\" >  0</td>\n                        <td id=\"T_330cd42e_43a1_11eb_98d5_efe72f5ec95brow2_col7\" class=\"data row2 col7\" >  0</td>\n                        <td id=\"T_330cd42e_43a1_11eb_98d5_efe72f5ec95brow2_col8\" class=\"data row2 col8\" > 22</td>\n                        <td id=\"T_330cd42e_43a1_11eb_98d5_efe72f5ec95brow2_col9\" class=\"data row2 col9\" >  0</td>\n            </tr>\n            <tr>\n                        <th id=\"T_330cd42e_43a1_11eb_98d5_efe72f5ec95blevel0_row3\" class=\"row_heading level0 row3\" >3</th>\n                        <td id=\"T_330cd42e_43a1_11eb_98d5_efe72f5ec95brow3_col0\" class=\"data row3 col0\" >  0</td>\n                        <td id=\"T_330cd42e_43a1_11eb_98d5_efe72f5ec95brow3_col1\" class=\"data row3 col1\" >  4</td>\n                        <td id=\"T_330cd42e_43a1_11eb_98d5_efe72f5ec95brow3_col2\" class=\"data row3 col2\" > 26</td>\n                        <td id=\"T_330cd42e_43a1_11eb_98d5_efe72f5ec95brow3_col3\" class=\"data row3 col3\" > 88</td>\n                        <td id=\"T_330cd42e_43a1_11eb_98d5_efe72f5ec95brow3_col4\" class=\"data row3 col4\" >  0</td>\n                        <td id=\"T_330cd42e_43a1_11eb_98d5_efe72f5ec95brow3_col5\" class=\"data row3 col5\" >  0</td>\n                        <td id=\"T_330cd42e_43a1_11eb_98d5_efe72f5ec95brow3_col6\" class=\"data row3 col6\" >  0</td>\n                        <td id=\"T_330cd42e_43a1_11eb_98d5_efe72f5ec95brow3_col7\" class=\"data row3 col7\" >  5</td>\n                        <td id=\"T_330cd42e_43a1_11eb_98d5_efe72f5ec95brow3_col8\" class=\"data row3 col8\" > 29</td>\n                        <td id=\"T_330cd42e_43a1_11eb_98d5_efe72f5ec95brow3_col9\" class=\"data row3 col9\" > 31</td>\n            </tr>\n            <tr>\n                        <th id=\"T_330cd42e_43a1_11eb_98d5_efe72f5ec95blevel0_row4\" class=\"row_heading level0 row4\" >4</th>\n                        <td id=\"T_330cd42e_43a1_11eb_98d5_efe72f5ec95brow4_col0\" class=\"data row4 col0\" >  0</td>\n                        <td id=\"T_330cd42e_43a1_11eb_98d5_efe72f5ec95brow4_col1\" class=\"data row4 col1\" >  0</td>\n                        <td id=\"T_330cd42e_43a1_11eb_98d5_efe72f5ec95brow4_col2\" class=\"data row4 col2\" >  0</td>\n                        <td id=\"T_330cd42e_43a1_11eb_98d5_efe72f5ec95brow4_col3\" class=\"data row4 col3\" >  0</td>\n                        <td id=\"T_330cd42e_43a1_11eb_98d5_efe72f5ec95brow4_col4\" class=\"data row4 col4\" >166</td>\n                        <td id=\"T_330cd42e_43a1_11eb_98d5_efe72f5ec95brow4_col5\" class=\"data row4 col5\" >  0</td>\n                        <td id=\"T_330cd42e_43a1_11eb_98d5_efe72f5ec95brow4_col6\" class=\"data row4 col6\" >  0</td>\n                        <td id=\"T_330cd42e_43a1_11eb_98d5_efe72f5ec95brow4_col7\" class=\"data row4 col7\" > 14</td>\n                        <td id=\"T_330cd42e_43a1_11eb_98d5_efe72f5ec95brow4_col8\" class=\"data row4 col8\" >  0</td>\n                        <td id=\"T_330cd42e_43a1_11eb_98d5_efe72f5ec95brow4_col9\" class=\"data row4 col9\" >  1</td>\n            </tr>\n            <tr>\n                        <th id=\"T_330cd42e_43a1_11eb_98d5_efe72f5ec95blevel0_row5\" class=\"row_heading level0 row5\" >5</th>\n                        <td id=\"T_330cd42e_43a1_11eb_98d5_efe72f5ec95brow5_col0\" class=\"data row5 col0\" >  0</td>\n                        <td id=\"T_330cd42e_43a1_11eb_98d5_efe72f5ec95brow5_col1\" class=\"data row5 col1\" >  2</td>\n                        <td id=\"T_330cd42e_43a1_11eb_98d5_efe72f5ec95brow5_col2\" class=\"data row5 col2\" >  1</td>\n                        <td id=\"T_330cd42e_43a1_11eb_98d5_efe72f5ec95brow5_col3\" class=\"data row5 col3\" >  5</td>\n                        <td id=\"T_330cd42e_43a1_11eb_98d5_efe72f5ec95brow5_col4\" class=\"data row5 col4\" >  0</td>\n                        <td id=\"T_330cd42e_43a1_11eb_98d5_efe72f5ec95brow5_col5\" class=\"data row5 col5\" >133</td>\n                        <td id=\"T_330cd42e_43a1_11eb_98d5_efe72f5ec95brow5_col6\" class=\"data row5 col6\" >  0</td>\n                        <td id=\"T_330cd42e_43a1_11eb_98d5_efe72f5ec95brow5_col7\" class=\"data row5 col7\" >  4</td>\n                        <td id=\"T_330cd42e_43a1_11eb_98d5_efe72f5ec95brow5_col8\" class=\"data row5 col8\" > 22</td>\n                        <td id=\"T_330cd42e_43a1_11eb_98d5_efe72f5ec95brow5_col9\" class=\"data row5 col9\" > 15</td>\n            </tr>\n            <tr>\n                        <th id=\"T_330cd42e_43a1_11eb_98d5_efe72f5ec95blevel0_row6\" class=\"row_heading level0 row6\" >6</th>\n                        <td id=\"T_330cd42e_43a1_11eb_98d5_efe72f5ec95brow6_col0\" class=\"data row6 col0\" >  0</td>\n                        <td id=\"T_330cd42e_43a1_11eb_98d5_efe72f5ec95brow6_col1\" class=\"data row6 col1\" >  0</td>\n                        <td id=\"T_330cd42e_43a1_11eb_98d5_efe72f5ec95brow6_col2\" class=\"data row6 col2\" >  0</td>\n                        <td id=\"T_330cd42e_43a1_11eb_98d5_efe72f5ec95brow6_col3\" class=\"data row6 col3\" >  0</td>\n                        <td id=\"T_330cd42e_43a1_11eb_98d5_efe72f5ec95brow6_col4\" class=\"data row6 col4\" >  0</td>\n                        <td id=\"T_330cd42e_43a1_11eb_98d5_efe72f5ec95brow6_col5\" class=\"data row6 col5\" >  0</td>\n                        <td id=\"T_330cd42e_43a1_11eb_98d5_efe72f5ec95brow6_col6\" class=\"data row6 col6\" >178</td>\n                        <td id=\"T_330cd42e_43a1_11eb_98d5_efe72f5ec95brow6_col7\" class=\"data row6 col7\" >  0</td>\n                        <td id=\"T_330cd42e_43a1_11eb_98d5_efe72f5ec95brow6_col8\" class=\"data row6 col8\" >  3</td>\n                        <td id=\"T_330cd42e_43a1_11eb_98d5_efe72f5ec95brow6_col9\" class=\"data row6 col9\" >  0</td>\n            </tr>\n            <tr>\n                        <th id=\"T_330cd42e_43a1_11eb_98d5_efe72f5ec95blevel0_row7\" class=\"row_heading level0 row7\" >7</th>\n                        <td id=\"T_330cd42e_43a1_11eb_98d5_efe72f5ec95brow7_col0\" class=\"data row7 col0\" >  0</td>\n                        <td id=\"T_330cd42e_43a1_11eb_98d5_efe72f5ec95brow7_col1\" class=\"data row7 col1\" >  0</td>\n                        <td id=\"T_330cd42e_43a1_11eb_98d5_efe72f5ec95brow7_col2\" class=\"data row7 col2\" >  0</td>\n                        <td id=\"T_330cd42e_43a1_11eb_98d5_efe72f5ec95brow7_col3\" class=\"data row7 col3\" >  1</td>\n                        <td id=\"T_330cd42e_43a1_11eb_98d5_efe72f5ec95brow7_col4\" class=\"data row7 col4\" >  2</td>\n                        <td id=\"T_330cd42e_43a1_11eb_98d5_efe72f5ec95brow7_col5\" class=\"data row7 col5\" >  0</td>\n                        <td id=\"T_330cd42e_43a1_11eb_98d5_efe72f5ec95brow7_col6\" class=\"data row7 col6\" >  0</td>\n                        <td id=\"T_330cd42e_43a1_11eb_98d5_efe72f5ec95brow7_col7\" class=\"data row7 col7\" >174</td>\n                        <td id=\"T_330cd42e_43a1_11eb_98d5_efe72f5ec95brow7_col8\" class=\"data row7 col8\" >  2</td>\n                        <td id=\"T_330cd42e_43a1_11eb_98d5_efe72f5ec95brow7_col9\" class=\"data row7 col9\" >  0</td>\n            </tr>\n            <tr>\n                        <th id=\"T_330cd42e_43a1_11eb_98d5_efe72f5ec95blevel0_row8\" class=\"row_heading level0 row8\" >8</th>\n                        <td id=\"T_330cd42e_43a1_11eb_98d5_efe72f5ec95brow8_col0\" class=\"data row8 col0\" >  0</td>\n                        <td id=\"T_330cd42e_43a1_11eb_98d5_efe72f5ec95brow8_col1\" class=\"data row8 col1\" > 10</td>\n                        <td id=\"T_330cd42e_43a1_11eb_98d5_efe72f5ec95brow8_col2\" class=\"data row8 col2\" > 18</td>\n                        <td id=\"T_330cd42e_43a1_11eb_98d5_efe72f5ec95brow8_col3\" class=\"data row8 col3\" >  5</td>\n                        <td id=\"T_330cd42e_43a1_11eb_98d5_efe72f5ec95brow8_col4\" class=\"data row8 col4\" >  1</td>\n                        <td id=\"T_330cd42e_43a1_11eb_98d5_efe72f5ec95brow8_col5\" class=\"data row8 col5\" >  0</td>\n                        <td id=\"T_330cd42e_43a1_11eb_98d5_efe72f5ec95brow8_col6\" class=\"data row8 col6\" >  0</td>\n                        <td id=\"T_330cd42e_43a1_11eb_98d5_efe72f5ec95brow8_col7\" class=\"data row8 col7\" >  6</td>\n                        <td id=\"T_330cd42e_43a1_11eb_98d5_efe72f5ec95brow8_col8\" class=\"data row8 col8\" >133</td>\n                        <td id=\"T_330cd42e_43a1_11eb_98d5_efe72f5ec95brow8_col9\" class=\"data row8 col9\" >  1</td>\n            </tr>\n            <tr>\n                        <th id=\"T_330cd42e_43a1_11eb_98d5_efe72f5ec95blevel0_row9\" class=\"row_heading level0 row9\" >9</th>\n                        <td id=\"T_330cd42e_43a1_11eb_98d5_efe72f5ec95brow9_col0\" class=\"data row9 col0\" >  0</td>\n                        <td id=\"T_330cd42e_43a1_11eb_98d5_efe72f5ec95brow9_col1\" class=\"data row9 col1\" >  9</td>\n                        <td id=\"T_330cd42e_43a1_11eb_98d5_efe72f5ec95brow9_col2\" class=\"data row9 col2\" >  2</td>\n                        <td id=\"T_330cd42e_43a1_11eb_98d5_efe72f5ec95brow9_col3\" class=\"data row9 col3\" > 20</td>\n                        <td id=\"T_330cd42e_43a1_11eb_98d5_efe72f5ec95brow9_col4\" class=\"data row9 col4\" >  0</td>\n                        <td id=\"T_330cd42e_43a1_11eb_98d5_efe72f5ec95brow9_col5\" class=\"data row9 col5\" >  0</td>\n                        <td id=\"T_330cd42e_43a1_11eb_98d5_efe72f5ec95brow9_col6\" class=\"data row9 col6\" >  0</td>\n                        <td id=\"T_330cd42e_43a1_11eb_98d5_efe72f5ec95brow9_col7\" class=\"data row9 col7\" > 11</td>\n                        <td id=\"T_330cd42e_43a1_11eb_98d5_efe72f5ec95brow9_col8\" class=\"data row9 col8\" > 15</td>\n                        <td id=\"T_330cd42e_43a1_11eb_98d5_efe72f5ec95brow9_col9\" class=\"data row9 col9\" >123</td>\n            </tr>\n    </tbody></table>"
     },
     "metadata": {}
    }
   ],
   "source": [
    "# Confusion matrix for the density tree\n",
    "confusion_mat = confuse(target, y_pred)\n",
    "\n",
    "def fade_zeros(s):\n",
    "    return ['color: lightgray' if (v == 0) else 'color: black' for v in s]\n",
    "\n",
    "display(\n",
    "    pd.DataFrame(data=confusion_mat, index=target_names, columns=target_names)\n",
    "    .rename_axis('Actual Label', axis = 'rows')\n",
    "    .rename_axis('Predicted Label', axis = 'columns')\n",
    "    .style.apply(fade_zeros)\n",
    "    .format('{:3.0f}')\n",
    ")"
   ]
  },
  {
   "source": [
    "### Decision tree evaluation"
   ],
   "cell_type": "markdown",
   "metadata": {}
  },
  {
   "cell_type": "code",
   "execution_count": 15,
   "metadata": {},
   "outputs": [
    {
     "output_type": "stream",
     "name": "stdout",
     "text": [
      "Decision tree training error: 0.13967723984418476\n"
     ]
    }
   ],
   "source": [
    "n_min = 20\n",
    "\n",
    "# Create decision tree\n",
    "decision_tree = DecisionTree()\n",
    "\n",
    "# Train\n",
    "decision_tree.train(data, target, n_min)\n",
    "\n",
    "# Get predictions on training data\n",
    "y_pred = np.zeros_like(target)\n",
    "for i in range(data.shape[0]):\n",
    "    y_pred[i] = decision_tree.predict(data[i,:])\n",
    "\n",
    "# Calculate training error\n",
    "decision_tree_train_err = np.sum(target != y_pred)/data.shape[0]\n",
    "print(f'Decision tree training error: {decision_tree_train_err}')"
   ]
  },
  {
   "cell_type": "code",
   "execution_count": 16,
   "metadata": {},
   "outputs": [
    {
     "output_type": "display_data",
     "data": {
      "text/plain": "<pandas.io.formats.style.Styler at 0x7f8e4b2abc70>",
      "text/html": "<style  type=\"text/css\" >\n#T_330cd42f_43a1_11eb_98d5_efe72f5ec95brow0_col0,#T_330cd42f_43a1_11eb_98d5_efe72f5ec95brow0_col2,#T_330cd42f_43a1_11eb_98d5_efe72f5ec95brow0_col4,#T_330cd42f_43a1_11eb_98d5_efe72f5ec95brow1_col1,#T_330cd42f_43a1_11eb_98d5_efe72f5ec95brow1_col2,#T_330cd42f_43a1_11eb_98d5_efe72f5ec95brow1_col3,#T_330cd42f_43a1_11eb_98d5_efe72f5ec95brow1_col5,#T_330cd42f_43a1_11eb_98d5_efe72f5ec95brow1_col7,#T_330cd42f_43a1_11eb_98d5_efe72f5ec95brow1_col8,#T_330cd42f_43a1_11eb_98d5_efe72f5ec95brow1_col9,#T_330cd42f_43a1_11eb_98d5_efe72f5ec95brow2_col0,#T_330cd42f_43a1_11eb_98d5_efe72f5ec95brow2_col1,#T_330cd42f_43a1_11eb_98d5_efe72f5ec95brow2_col2,#T_330cd42f_43a1_11eb_98d5_efe72f5ec95brow2_col3,#T_330cd42f_43a1_11eb_98d5_efe72f5ec95brow2_col6,#T_330cd42f_43a1_11eb_98d5_efe72f5ec95brow2_col8,#T_330cd42f_43a1_11eb_98d5_efe72f5ec95brow3_col1,#T_330cd42f_43a1_11eb_98d5_efe72f5ec95brow3_col2,#T_330cd42f_43a1_11eb_98d5_efe72f5ec95brow3_col3,#T_330cd42f_43a1_11eb_98d5_efe72f5ec95brow3_col4,#T_330cd42f_43a1_11eb_98d5_efe72f5ec95brow3_col5,#T_330cd42f_43a1_11eb_98d5_efe72f5ec95brow3_col7,#T_330cd42f_43a1_11eb_98d5_efe72f5ec95brow3_col8,#T_330cd42f_43a1_11eb_98d5_efe72f5ec95brow3_col9,#T_330cd42f_43a1_11eb_98d5_efe72f5ec95brow4_col0,#T_330cd42f_43a1_11eb_98d5_efe72f5ec95brow4_col1,#T_330cd42f_43a1_11eb_98d5_efe72f5ec95brow4_col2,#T_330cd42f_43a1_11eb_98d5_efe72f5ec95brow4_col4,#T_330cd42f_43a1_11eb_98d5_efe72f5ec95brow4_col5,#T_330cd42f_43a1_11eb_98d5_efe72f5ec95brow4_col7,#T_330cd42f_43a1_11eb_98d5_efe72f5ec95brow4_col9,#T_330cd42f_43a1_11eb_98d5_efe72f5ec95brow5_col0,#T_330cd42f_43a1_11eb_98d5_efe72f5ec95brow5_col2,#T_330cd42f_43a1_11eb_98d5_efe72f5ec95brow5_col4,#T_330cd42f_43a1_11eb_98d5_efe72f5ec95brow5_col5,#T_330cd42f_43a1_11eb_98d5_efe72f5ec95brow5_col7,#T_330cd42f_43a1_11eb_98d5_efe72f5ec95brow5_col8,#T_330cd42f_43a1_11eb_98d5_efe72f5ec95brow5_col9,#T_330cd42f_43a1_11eb_98d5_efe72f5ec95brow6_col0,#T_330cd42f_43a1_11eb_98d5_efe72f5ec95brow6_col1,#T_330cd42f_43a1_11eb_98d5_efe72f5ec95brow6_col2,#T_330cd42f_43a1_11eb_98d5_efe72f5ec95brow6_col3,#T_330cd42f_43a1_11eb_98d5_efe72f5ec95brow6_col4,#T_330cd42f_43a1_11eb_98d5_efe72f5ec95brow6_col5,#T_330cd42f_43a1_11eb_98d5_efe72f5ec95brow6_col6,#T_330cd42f_43a1_11eb_98d5_efe72f5ec95brow6_col8,#T_330cd42f_43a1_11eb_98d5_efe72f5ec95brow7_col1,#T_330cd42f_43a1_11eb_98d5_efe72f5ec95brow7_col4,#T_330cd42f_43a1_11eb_98d5_efe72f5ec95brow7_col5,#T_330cd42f_43a1_11eb_98d5_efe72f5ec95brow7_col7,#T_330cd42f_43a1_11eb_98d5_efe72f5ec95brow7_col9,#T_330cd42f_43a1_11eb_98d5_efe72f5ec95brow8_col0,#T_330cd42f_43a1_11eb_98d5_efe72f5ec95brow8_col1,#T_330cd42f_43a1_11eb_98d5_efe72f5ec95brow8_col2,#T_330cd42f_43a1_11eb_98d5_efe72f5ec95brow8_col3,#T_330cd42f_43a1_11eb_98d5_efe72f5ec95brow8_col4,#T_330cd42f_43a1_11eb_98d5_efe72f5ec95brow8_col5,#T_330cd42f_43a1_11eb_98d5_efe72f5ec95brow8_col6,#T_330cd42f_43a1_11eb_98d5_efe72f5ec95brow8_col7,#T_330cd42f_43a1_11eb_98d5_efe72f5ec95brow8_col8,#T_330cd42f_43a1_11eb_98d5_efe72f5ec95brow8_col9,#T_330cd42f_43a1_11eb_98d5_efe72f5ec95brow9_col0,#T_330cd42f_43a1_11eb_98d5_efe72f5ec95brow9_col1,#T_330cd42f_43a1_11eb_98d5_efe72f5ec95brow9_col2,#T_330cd42f_43a1_11eb_98d5_efe72f5ec95brow9_col3,#T_330cd42f_43a1_11eb_98d5_efe72f5ec95brow9_col4,#T_330cd42f_43a1_11eb_98d5_efe72f5ec95brow9_col5,#T_330cd42f_43a1_11eb_98d5_efe72f5ec95brow9_col7,#T_330cd42f_43a1_11eb_98d5_efe72f5ec95brow9_col8,#T_330cd42f_43a1_11eb_98d5_efe72f5ec95brow9_col9{\n            color:  black;\n        }#T_330cd42f_43a1_11eb_98d5_efe72f5ec95brow0_col1,#T_330cd42f_43a1_11eb_98d5_efe72f5ec95brow0_col3,#T_330cd42f_43a1_11eb_98d5_efe72f5ec95brow0_col5,#T_330cd42f_43a1_11eb_98d5_efe72f5ec95brow0_col6,#T_330cd42f_43a1_11eb_98d5_efe72f5ec95brow0_col7,#T_330cd42f_43a1_11eb_98d5_efe72f5ec95brow0_col8,#T_330cd42f_43a1_11eb_98d5_efe72f5ec95brow0_col9,#T_330cd42f_43a1_11eb_98d5_efe72f5ec95brow1_col0,#T_330cd42f_43a1_11eb_98d5_efe72f5ec95brow1_col4,#T_330cd42f_43a1_11eb_98d5_efe72f5ec95brow1_col6,#T_330cd42f_43a1_11eb_98d5_efe72f5ec95brow2_col4,#T_330cd42f_43a1_11eb_98d5_efe72f5ec95brow2_col5,#T_330cd42f_43a1_11eb_98d5_efe72f5ec95brow2_col7,#T_330cd42f_43a1_11eb_98d5_efe72f5ec95brow2_col9,#T_330cd42f_43a1_11eb_98d5_efe72f5ec95brow3_col0,#T_330cd42f_43a1_11eb_98d5_efe72f5ec95brow3_col6,#T_330cd42f_43a1_11eb_98d5_efe72f5ec95brow4_col3,#T_330cd42f_43a1_11eb_98d5_efe72f5ec95brow4_col6,#T_330cd42f_43a1_11eb_98d5_efe72f5ec95brow4_col8,#T_330cd42f_43a1_11eb_98d5_efe72f5ec95brow5_col1,#T_330cd42f_43a1_11eb_98d5_efe72f5ec95brow5_col3,#T_330cd42f_43a1_11eb_98d5_efe72f5ec95brow5_col6,#T_330cd42f_43a1_11eb_98d5_efe72f5ec95brow6_col7,#T_330cd42f_43a1_11eb_98d5_efe72f5ec95brow6_col9,#T_330cd42f_43a1_11eb_98d5_efe72f5ec95brow7_col0,#T_330cd42f_43a1_11eb_98d5_efe72f5ec95brow7_col2,#T_330cd42f_43a1_11eb_98d5_efe72f5ec95brow7_col3,#T_330cd42f_43a1_11eb_98d5_efe72f5ec95brow7_col6,#T_330cd42f_43a1_11eb_98d5_efe72f5ec95brow7_col8,#T_330cd42f_43a1_11eb_98d5_efe72f5ec95brow9_col6{\n            color:  lightgray;\n        }</style><table id=\"T_330cd42f_43a1_11eb_98d5_efe72f5ec95b\" ><thead>    <tr>        <th class=\"index_name level0\" >Predicted Label</th>        <th class=\"col_heading level0 col0\" >0</th>        <th class=\"col_heading level0 col1\" >1</th>        <th class=\"col_heading level0 col2\" >2</th>        <th class=\"col_heading level0 col3\" >3</th>        <th class=\"col_heading level0 col4\" >4</th>        <th class=\"col_heading level0 col5\" >5</th>        <th class=\"col_heading level0 col6\" >6</th>        <th class=\"col_heading level0 col7\" >7</th>        <th class=\"col_heading level0 col8\" >8</th>        <th class=\"col_heading level0 col9\" >9</th>    </tr>    <tr>        <th class=\"index_name level0\" >Actual Label</th>        <th class=\"blank\" ></th>        <th class=\"blank\" ></th>        <th class=\"blank\" ></th>        <th class=\"blank\" ></th>        <th class=\"blank\" ></th>        <th class=\"blank\" ></th>        <th class=\"blank\" ></th>        <th class=\"blank\" ></th>        <th class=\"blank\" ></th>        <th class=\"blank\" ></th>    </tr></thead><tbody>\n                <tr>\n                        <th id=\"T_330cd42f_43a1_11eb_98d5_efe72f5ec95blevel0_row0\" class=\"row_heading level0 row0\" >0</th>\n                        <td id=\"T_330cd42f_43a1_11eb_98d5_efe72f5ec95brow0_col0\" class=\"data row0 col0\" >174</td>\n                        <td id=\"T_330cd42f_43a1_11eb_98d5_efe72f5ec95brow0_col1\" class=\"data row0 col1\" >  0</td>\n                        <td id=\"T_330cd42f_43a1_11eb_98d5_efe72f5ec95brow0_col2\" class=\"data row0 col2\" >  3</td>\n                        <td id=\"T_330cd42f_43a1_11eb_98d5_efe72f5ec95brow0_col3\" class=\"data row0 col3\" >  0</td>\n                        <td id=\"T_330cd42f_43a1_11eb_98d5_efe72f5ec95brow0_col4\" class=\"data row0 col4\" >  1</td>\n                        <td id=\"T_330cd42f_43a1_11eb_98d5_efe72f5ec95brow0_col5\" class=\"data row0 col5\" >  0</td>\n                        <td id=\"T_330cd42f_43a1_11eb_98d5_efe72f5ec95brow0_col6\" class=\"data row0 col6\" >  0</td>\n                        <td id=\"T_330cd42f_43a1_11eb_98d5_efe72f5ec95brow0_col7\" class=\"data row0 col7\" >  0</td>\n                        <td id=\"T_330cd42f_43a1_11eb_98d5_efe72f5ec95brow0_col8\" class=\"data row0 col8\" >  0</td>\n                        <td id=\"T_330cd42f_43a1_11eb_98d5_efe72f5ec95brow0_col9\" class=\"data row0 col9\" >  0</td>\n            </tr>\n            <tr>\n                        <th id=\"T_330cd42f_43a1_11eb_98d5_efe72f5ec95blevel0_row1\" class=\"row_heading level0 row1\" >1</th>\n                        <td id=\"T_330cd42f_43a1_11eb_98d5_efe72f5ec95brow1_col0\" class=\"data row1 col0\" >  0</td>\n                        <td id=\"T_330cd42f_43a1_11eb_98d5_efe72f5ec95brow1_col1\" class=\"data row1 col1\" >159</td>\n                        <td id=\"T_330cd42f_43a1_11eb_98d5_efe72f5ec95brow1_col2\" class=\"data row1 col2\" > 10</td>\n                        <td id=\"T_330cd42f_43a1_11eb_98d5_efe72f5ec95brow1_col3\" class=\"data row1 col3\" >  2</td>\n                        <td id=\"T_330cd42f_43a1_11eb_98d5_efe72f5ec95brow1_col4\" class=\"data row1 col4\" >  0</td>\n                        <td id=\"T_330cd42f_43a1_11eb_98d5_efe72f5ec95brow1_col5\" class=\"data row1 col5\" >  2</td>\n                        <td id=\"T_330cd42f_43a1_11eb_98d5_efe72f5ec95brow1_col6\" class=\"data row1 col6\" >  0</td>\n                        <td id=\"T_330cd42f_43a1_11eb_98d5_efe72f5ec95brow1_col7\" class=\"data row1 col7\" >  1</td>\n                        <td id=\"T_330cd42f_43a1_11eb_98d5_efe72f5ec95brow1_col8\" class=\"data row1 col8\" >  5</td>\n                        <td id=\"T_330cd42f_43a1_11eb_98d5_efe72f5ec95brow1_col9\" class=\"data row1 col9\" >  3</td>\n            </tr>\n            <tr>\n                        <th id=\"T_330cd42f_43a1_11eb_98d5_efe72f5ec95blevel0_row2\" class=\"row_heading level0 row2\" >2</th>\n                        <td id=\"T_330cd42f_43a1_11eb_98d5_efe72f5ec95brow2_col0\" class=\"data row2 col0\" >  4</td>\n                        <td id=\"T_330cd42f_43a1_11eb_98d5_efe72f5ec95brow2_col1\" class=\"data row2 col1\" >  5</td>\n                        <td id=\"T_330cd42f_43a1_11eb_98d5_efe72f5ec95brow2_col2\" class=\"data row2 col2\" >153</td>\n                        <td id=\"T_330cd42f_43a1_11eb_98d5_efe72f5ec95brow2_col3\" class=\"data row2 col3\" >  1</td>\n                        <td id=\"T_330cd42f_43a1_11eb_98d5_efe72f5ec95brow2_col4\" class=\"data row2 col4\" >  0</td>\n                        <td id=\"T_330cd42f_43a1_11eb_98d5_efe72f5ec95brow2_col5\" class=\"data row2 col5\" >  0</td>\n                        <td id=\"T_330cd42f_43a1_11eb_98d5_efe72f5ec95brow2_col6\" class=\"data row2 col6\" >  3</td>\n                        <td id=\"T_330cd42f_43a1_11eb_98d5_efe72f5ec95brow2_col7\" class=\"data row2 col7\" >  0</td>\n                        <td id=\"T_330cd42f_43a1_11eb_98d5_efe72f5ec95brow2_col8\" class=\"data row2 col8\" > 11</td>\n                        <td id=\"T_330cd42f_43a1_11eb_98d5_efe72f5ec95brow2_col9\" class=\"data row2 col9\" >  0</td>\n            </tr>\n            <tr>\n                        <th id=\"T_330cd42f_43a1_11eb_98d5_efe72f5ec95blevel0_row3\" class=\"row_heading level0 row3\" >3</th>\n                        <td id=\"T_330cd42f_43a1_11eb_98d5_efe72f5ec95brow3_col0\" class=\"data row3 col0\" >  0</td>\n                        <td id=\"T_330cd42f_43a1_11eb_98d5_efe72f5ec95brow3_col1\" class=\"data row3 col1\" >  6</td>\n                        <td id=\"T_330cd42f_43a1_11eb_98d5_efe72f5ec95brow3_col2\" class=\"data row3 col2\" >  1</td>\n                        <td id=\"T_330cd42f_43a1_11eb_98d5_efe72f5ec95brow3_col3\" class=\"data row3 col3\" >149</td>\n                        <td id=\"T_330cd42f_43a1_11eb_98d5_efe72f5ec95brow3_col4\" class=\"data row3 col4\" >  4</td>\n                        <td id=\"T_330cd42f_43a1_11eb_98d5_efe72f5ec95brow3_col5\" class=\"data row3 col5\" >  8</td>\n                        <td id=\"T_330cd42f_43a1_11eb_98d5_efe72f5ec95brow3_col6\" class=\"data row3 col6\" >  0</td>\n                        <td id=\"T_330cd42f_43a1_11eb_98d5_efe72f5ec95brow3_col7\" class=\"data row3 col7\" >  4</td>\n                        <td id=\"T_330cd42f_43a1_11eb_98d5_efe72f5ec95brow3_col8\" class=\"data row3 col8\" > 10</td>\n                        <td id=\"T_330cd42f_43a1_11eb_98d5_efe72f5ec95brow3_col9\" class=\"data row3 col9\" >  1</td>\n            </tr>\n            <tr>\n                        <th id=\"T_330cd42f_43a1_11eb_98d5_efe72f5ec95blevel0_row4\" class=\"row_heading level0 row4\" >4</th>\n                        <td id=\"T_330cd42f_43a1_11eb_98d5_efe72f5ec95brow4_col0\" class=\"data row4 col0\" >  3</td>\n                        <td id=\"T_330cd42f_43a1_11eb_98d5_efe72f5ec95brow4_col1\" class=\"data row4 col1\" >  4</td>\n                        <td id=\"T_330cd42f_43a1_11eb_98d5_efe72f5ec95brow4_col2\" class=\"data row4 col2\" >  2</td>\n                        <td id=\"T_330cd42f_43a1_11eb_98d5_efe72f5ec95brow4_col3\" class=\"data row4 col3\" >  0</td>\n                        <td id=\"T_330cd42f_43a1_11eb_98d5_efe72f5ec95brow4_col4\" class=\"data row4 col4\" >157</td>\n                        <td id=\"T_330cd42f_43a1_11eb_98d5_efe72f5ec95brow4_col5\" class=\"data row4 col5\" >  4</td>\n                        <td id=\"T_330cd42f_43a1_11eb_98d5_efe72f5ec95brow4_col6\" class=\"data row4 col6\" >  0</td>\n                        <td id=\"T_330cd42f_43a1_11eb_98d5_efe72f5ec95brow4_col7\" class=\"data row4 col7\" > 10</td>\n                        <td id=\"T_330cd42f_43a1_11eb_98d5_efe72f5ec95brow4_col8\" class=\"data row4 col8\" >  0</td>\n                        <td id=\"T_330cd42f_43a1_11eb_98d5_efe72f5ec95brow4_col9\" class=\"data row4 col9\" >  1</td>\n            </tr>\n            <tr>\n                        <th id=\"T_330cd42f_43a1_11eb_98d5_efe72f5ec95blevel0_row5\" class=\"row_heading level0 row5\" >5</th>\n                        <td id=\"T_330cd42f_43a1_11eb_98d5_efe72f5ec95brow5_col0\" class=\"data row5 col0\" >  3</td>\n                        <td id=\"T_330cd42f_43a1_11eb_98d5_efe72f5ec95brow5_col1\" class=\"data row5 col1\" >  0</td>\n                        <td id=\"T_330cd42f_43a1_11eb_98d5_efe72f5ec95brow5_col2\" class=\"data row5 col2\" >  1</td>\n                        <td id=\"T_330cd42f_43a1_11eb_98d5_efe72f5ec95brow5_col3\" class=\"data row5 col3\" >  0</td>\n                        <td id=\"T_330cd42f_43a1_11eb_98d5_efe72f5ec95brow5_col4\" class=\"data row5 col4\" >  3</td>\n                        <td id=\"T_330cd42f_43a1_11eb_98d5_efe72f5ec95brow5_col5\" class=\"data row5 col5\" >159</td>\n                        <td id=\"T_330cd42f_43a1_11eb_98d5_efe72f5ec95brow5_col6\" class=\"data row5 col6\" >  0</td>\n                        <td id=\"T_330cd42f_43a1_11eb_98d5_efe72f5ec95brow5_col7\" class=\"data row5 col7\" >  6</td>\n                        <td id=\"T_330cd42f_43a1_11eb_98d5_efe72f5ec95brow5_col8\" class=\"data row5 col8\" >  4</td>\n                        <td id=\"T_330cd42f_43a1_11eb_98d5_efe72f5ec95brow5_col9\" class=\"data row5 col9\" >  6</td>\n            </tr>\n            <tr>\n                        <th id=\"T_330cd42f_43a1_11eb_98d5_efe72f5ec95blevel0_row6\" class=\"row_heading level0 row6\" >6</th>\n                        <td id=\"T_330cd42f_43a1_11eb_98d5_efe72f5ec95brow6_col0\" class=\"data row6 col0\" >  3</td>\n                        <td id=\"T_330cd42f_43a1_11eb_98d5_efe72f5ec95brow6_col1\" class=\"data row6 col1\" >  4</td>\n                        <td id=\"T_330cd42f_43a1_11eb_98d5_efe72f5ec95brow6_col2\" class=\"data row6 col2\" >  2</td>\n                        <td id=\"T_330cd42f_43a1_11eb_98d5_efe72f5ec95brow6_col3\" class=\"data row6 col3\" >  1</td>\n                        <td id=\"T_330cd42f_43a1_11eb_98d5_efe72f5ec95brow6_col4\" class=\"data row6 col4\" >  1</td>\n                        <td id=\"T_330cd42f_43a1_11eb_98d5_efe72f5ec95brow6_col5\" class=\"data row6 col5\" >  1</td>\n                        <td id=\"T_330cd42f_43a1_11eb_98d5_efe72f5ec95brow6_col6\" class=\"data row6 col6\" >161</td>\n                        <td id=\"T_330cd42f_43a1_11eb_98d5_efe72f5ec95brow6_col7\" class=\"data row6 col7\" >  0</td>\n                        <td id=\"T_330cd42f_43a1_11eb_98d5_efe72f5ec95brow6_col8\" class=\"data row6 col8\" >  8</td>\n                        <td id=\"T_330cd42f_43a1_11eb_98d5_efe72f5ec95brow6_col9\" class=\"data row6 col9\" >  0</td>\n            </tr>\n            <tr>\n                        <th id=\"T_330cd42f_43a1_11eb_98d5_efe72f5ec95blevel0_row7\" class=\"row_heading level0 row7\" >7</th>\n                        <td id=\"T_330cd42f_43a1_11eb_98d5_efe72f5ec95brow7_col0\" class=\"data row7 col0\" >  0</td>\n                        <td id=\"T_330cd42f_43a1_11eb_98d5_efe72f5ec95brow7_col1\" class=\"data row7 col1\" >  1</td>\n                        <td id=\"T_330cd42f_43a1_11eb_98d5_efe72f5ec95brow7_col2\" class=\"data row7 col2\" >  0</td>\n                        <td id=\"T_330cd42f_43a1_11eb_98d5_efe72f5ec95brow7_col3\" class=\"data row7 col3\" >  0</td>\n                        <td id=\"T_330cd42f_43a1_11eb_98d5_efe72f5ec95brow7_col4\" class=\"data row7 col4\" >  8</td>\n                        <td id=\"T_330cd42f_43a1_11eb_98d5_efe72f5ec95brow7_col5\" class=\"data row7 col5\" >  2</td>\n                        <td id=\"T_330cd42f_43a1_11eb_98d5_efe72f5ec95brow7_col6\" class=\"data row7 col6\" >  0</td>\n                        <td id=\"T_330cd42f_43a1_11eb_98d5_efe72f5ec95brow7_col7\" class=\"data row7 col7\" >165</td>\n                        <td id=\"T_330cd42f_43a1_11eb_98d5_efe72f5ec95brow7_col8\" class=\"data row7 col8\" >  0</td>\n                        <td id=\"T_330cd42f_43a1_11eb_98d5_efe72f5ec95brow7_col9\" class=\"data row7 col9\" >  3</td>\n            </tr>\n            <tr>\n                        <th id=\"T_330cd42f_43a1_11eb_98d5_efe72f5ec95blevel0_row8\" class=\"row_heading level0 row8\" >8</th>\n                        <td id=\"T_330cd42f_43a1_11eb_98d5_efe72f5ec95brow8_col0\" class=\"data row8 col0\" >  1</td>\n                        <td id=\"T_330cd42f_43a1_11eb_98d5_efe72f5ec95brow8_col1\" class=\"data row8 col1\" > 11</td>\n                        <td id=\"T_330cd42f_43a1_11eb_98d5_efe72f5ec95brow8_col2\" class=\"data row8 col2\" > 11</td>\n                        <td id=\"T_330cd42f_43a1_11eb_98d5_efe72f5ec95brow8_col3\" class=\"data row8 col3\" >  4</td>\n                        <td id=\"T_330cd42f_43a1_11eb_98d5_efe72f5ec95brow8_col4\" class=\"data row8 col4\" >  7</td>\n                        <td id=\"T_330cd42f_43a1_11eb_98d5_efe72f5ec95brow8_col5\" class=\"data row8 col5\" >  3</td>\n                        <td id=\"T_330cd42f_43a1_11eb_98d5_efe72f5ec95brow8_col6\" class=\"data row8 col6\" >  1</td>\n                        <td id=\"T_330cd42f_43a1_11eb_98d5_efe72f5ec95brow8_col7\" class=\"data row8 col7\" >  4</td>\n                        <td id=\"T_330cd42f_43a1_11eb_98d5_efe72f5ec95brow8_col8\" class=\"data row8 col8\" >126</td>\n                        <td id=\"T_330cd42f_43a1_11eb_98d5_efe72f5ec95brow8_col9\" class=\"data row8 col9\" >  6</td>\n            </tr>\n            <tr>\n                        <th id=\"T_330cd42f_43a1_11eb_98d5_efe72f5ec95blevel0_row9\" class=\"row_heading level0 row9\" >9</th>\n                        <td id=\"T_330cd42f_43a1_11eb_98d5_efe72f5ec95brow9_col0\" class=\"data row9 col0\" >  3</td>\n                        <td id=\"T_330cd42f_43a1_11eb_98d5_efe72f5ec95brow9_col1\" class=\"data row9 col1\" >  6</td>\n                        <td id=\"T_330cd42f_43a1_11eb_98d5_efe72f5ec95brow9_col2\" class=\"data row9 col2\" >  1</td>\n                        <td id=\"T_330cd42f_43a1_11eb_98d5_efe72f5ec95brow9_col3\" class=\"data row9 col3\" >  1</td>\n                        <td id=\"T_330cd42f_43a1_11eb_98d5_efe72f5ec95brow9_col4\" class=\"data row9 col4\" >  5</td>\n                        <td id=\"T_330cd42f_43a1_11eb_98d5_efe72f5ec95brow9_col5\" class=\"data row9 col5\" > 16</td>\n                        <td id=\"T_330cd42f_43a1_11eb_98d5_efe72f5ec95brow9_col6\" class=\"data row9 col6\" >  0</td>\n                        <td id=\"T_330cd42f_43a1_11eb_98d5_efe72f5ec95brow9_col7\" class=\"data row9 col7\" >  2</td>\n                        <td id=\"T_330cd42f_43a1_11eb_98d5_efe72f5ec95brow9_col8\" class=\"data row9 col8\" >  3</td>\n                        <td id=\"T_330cd42f_43a1_11eb_98d5_efe72f5ec95brow9_col9\" class=\"data row9 col9\" >143</td>\n            </tr>\n    </tbody></table>"
     },
     "metadata": {}
    }
   ],
   "source": [
    "# Get confusion matrix for the decision tree\n",
    "confusion_mat = confuse(target, y_pred)\n",
    "\n",
    "display(\n",
    "    pd.DataFrame(data=confusion_mat, index=target_names, columns=target_names)\n",
    "    .rename_axis('Actual Label', axis = 'rows')\n",
    "    .rename_axis('Predicted Label', axis = 'columns')\n",
    "    .style.apply(fade_zeros)\n",
    "    .format('{:3.0f}')\n",
    ")"
   ]
  },
  {
   "cell_type": "markdown",
   "metadata": {},
   "source": [
    "# Density and Decision Forest"
   ]
  },
  {
   "cell_type": "code",
   "execution_count": 17,
   "metadata": {
    "collapsed": true,
    "jupyter": {
     "outputs_hidden": true
    }
   },
   "outputs": [],
   "source": [
    "class DensityForest():\n",
    "    def __init__(self, n_trees):\n",
    "        # create ensemble\n",
    "        self.trees = [DensityTree() for i in range(n_trees)]\n",
    "    \n",
    "    def train(self, data, prior, n_min=20):\n",
    "        for tree in self.trees:\n",
    "            # train each tree, using a bootstrap sample of the data\n",
    "            ... # your code here\n",
    "\n",
    "    def predict(self, x):\n",
    "        # compute the ensemble prediction\n",
    "        return ... # your code here"
   ]
  },
  {
   "cell_type": "code",
   "execution_count": 18,
   "metadata": {
    "collapsed": true,
    "jupyter": {
     "outputs_hidden": true
    }
   },
   "outputs": [],
   "source": [
    "class DecisionForest():\n",
    "    def __init__(self, n_trees):\n",
    "        # create ensemble\n",
    "        self.trees = [DecisionTree() for i in range(n_trees)]\n",
    "    \n",
    "    def train(self, data, labels, n_min=0):\n",
    "        for tree in self.trees:\n",
    "            # train each tree, using a bootstrap sample of the data\n",
    "            ... # your code here\n",
    "\n",
    "    def predict(self, x):\n",
    "        # compute the ensemble prediction\n",
    "        return ... # your code here"
   ]
  },
  {
   "cell_type": "markdown",
   "metadata": {},
   "source": [
    "# Evaluation of Density and Decision Forest"
   ]
  },
  {
   "cell_type": "code",
   "execution_count": 19,
   "metadata": {
    "collapsed": true,
    "jupyter": {
     "outputs_hidden": true
    }
   },
   "outputs": [],
   "source": [
    "# train forests (with 20 trees per forest), plot training error confusion matrices, and comment on your results\n",
    "... # your code here"
   ]
  }
 ],
 "metadata": {
  "kernelspec": {
   "display_name": "Python 3",
   "language": "python",
   "name": "python3"
  },
  "language_info": {
   "codemirror_mode": {
    "name": "ipython",
    "version": 3
   },
   "file_extension": ".py",
   "mimetype": "text/x-python",
   "name": "python",
   "nbconvert_exporter": "python",
   "pygments_lexer": "ipython3",
   "version": "3.8.5-final"
  }
 },
 "nbformat": 4,
 "nbformat_minor": 4
}