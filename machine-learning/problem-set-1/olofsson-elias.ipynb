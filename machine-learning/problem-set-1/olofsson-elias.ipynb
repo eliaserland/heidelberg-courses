{
 "cells": [
  {
   "source": [
    "# Problem Set 2\n",
    "## Fundamentals of Simulation Methods\n",
    "\n",
    "#### Author:    Elias Olofsson\n",
    "\n",
    "#### Version information:\n",
    "        2020-11-17: v.1.0. First public release. \n",
    "\n",
    "\n",
    "\n",
    "## Exercise 1 - Pitfalls of pseudo-random number generators"
   ],
   "cell_type": "markdown",
   "metadata": {}
  },
  {
   "cell_type": "code",
   "execution_count": 1,
   "metadata": {},
   "outputs": [],
   "source": [
    "from mpl_toolkits.mplot3d import Axes3D\n",
    "import numpy as np\n",
    "import matplotlib.pyplot as plt\n",
    "import time\n",
    "\n"
   ]
  },
  {
   "cell_type": "code",
   "execution_count": null,
   "metadata": {},
   "outputs": [],
   "source": []
  }
 ],
 "metadata": {
  "kernelspec": {
   "name": "python3",
   "display_name": "Python 3"
  }
 },
 "nbformat": 4,
 "nbformat_minor": 4
}